{
 "cells": [
  {
   "cell_type": "code",
   "execution_count": 1,
   "id": "3cbb6103",
   "metadata": {},
   "outputs": [
    {
     "name": "stderr",
     "output_type": "stream",
     "text": [
      "/opt/anaconda3/envs/tensorflow/lib/python3.7/site-packages/tqdm/auto.py:22: TqdmWarning: IProgress not found. Please update jupyter and ipywidgets. See https://ipywidgets.readthedocs.io/en/stable/user_install.html\n",
      "  from .autonotebook import tqdm as notebook_tqdm\n"
     ]
    }
   ],
   "source": [
    "import spacy\n",
    "nlp = spacy.load('en_core_web_lg')"
   ]
  },
  {
   "cell_type": "code",
   "execution_count": 8,
   "id": "d2d538ec",
   "metadata": {},
   "outputs": [],
   "source": [
    "# Customize pattern\n",
    "pattern_ls = [{\"pattern\": [[{\"LOWER\": \"charter\"}, {\"LOWER\": \"plus\"}]], \"attr\": {\"TAG\": \"NN\", \"POS\": \"NOUN\"}}]"
   ]
  },
  {
   "cell_type": "code",
   "execution_count": 16,
   "id": "083ee407",
   "metadata": {},
   "outputs": [
    {
     "data": {
      "text/plain": [
       "[{'LOWER': 'charter'}, {'LOWER': 'plus'}]"
      ]
     },
     "execution_count": 16,
     "metadata": {},
     "output_type": "execute_result"
    }
   ],
   "source": [
    "pattern_ls[0]['pattern'][0]"
   ]
  },
  {
   "cell_type": "code",
   "execution_count": 17,
   "id": "af438f13",
   "metadata": {},
   "outputs": [],
   "source": [
    "# Input text\n",
    "text = \"You are the charter plus member.\""
   ]
  },
  {
   "cell_type": "code",
   "execution_count": 18,
   "id": "d5ed7c0b",
   "metadata": {},
   "outputs": [],
   "source": [
    "# initialize ruler\n",
    "ruler = nlp.get_pipe('attribute_ruler')"
   ]
  },
  {
   "cell_type": "code",
   "execution_count": 19,
   "id": "de787067",
   "metadata": {},
   "outputs": [],
   "source": [
    "for i in pattern_ls:\n",
    "    index_len = len(i['pattern'][0])\n",
    "    for j in range(index_len):\n",
    "        ruler.add(patterns = i['pattern'], attrs = i['attr'], index = j)"
   ]
  },
  {
   "cell_type": "code",
   "execution_count": 20,
   "id": "837d96b9",
   "metadata": {},
   "outputs": [],
   "source": [
    "doc = nlp(text)"
   ]
  },
  {
   "cell_type": "code",
   "execution_count": 21,
   "id": "8211e3bc",
   "metadata": {},
   "outputs": [
    {
     "name": "stdout",
     "output_type": "stream",
     "text": [
      "NN NOUN\n",
      "NN NOUN\n"
     ]
    }
   ],
   "source": [
    "print(doc[3].tag_, doc[3].pos_)\n",
    "print(doc[4].tag_, doc[4].pos_)"
   ]
  },
  {
   "cell_type": "code",
   "execution_count": null,
   "id": "5d388a3b",
   "metadata": {},
   "outputs": [],
   "source": []
  }
 ],
 "metadata": {
  "kernelspec": {
   "display_name": "venv2022",
   "language": "python",
   "name": "venv2022"
  },
  "language_info": {
   "codemirror_mode": {
    "name": "ipython",
    "version": 3
   },
   "file_extension": ".py",
   "mimetype": "text/x-python",
   "name": "python",
   "nbconvert_exporter": "python",
   "pygments_lexer": "ipython3",
   "version": "3.7.13"
  }
 },
 "nbformat": 4,
 "nbformat_minor": 5
}
