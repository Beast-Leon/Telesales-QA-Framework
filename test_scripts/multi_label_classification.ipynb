{
 "cells": [
  {
   "cell_type": "code",
   "execution_count": 1,
   "id": "92f565a2",
   "metadata": {},
   "outputs": [
    {
     "name": "stderr",
     "output_type": "stream",
     "text": [
      "/opt/anaconda3/envs/tensorflow/lib/python3.7/site-packages/tqdm/auto.py:22: TqdmWarning: IProgress not found. Please update jupyter and ipywidgets. See https://ipywidgets.readthedocs.io/en/stable/user_install.html\n",
      "  from .autonotebook import tqdm as notebook_tqdm\n"
     ]
    }
   ],
   "source": [
    "import numpy as np\n",
    "import spacy\n",
    "from pprint import pprint\n",
    "import yaml\n",
    "import os\n",
    "import sys\n",
    "sys.path.insert(0, '/Users/leon/Income/python files/Telesales-QA-Framework')\n",
    "from sentence_transformers import SentenceTransformer\n",
    "from transformers import AutoModelForSequenceClassification, AutoTokenizer\n",
    "from helper.lexicons import *\n",
    "from helper.config_helper import *\n",
    "from helper.aspect_matching import *\n",
    "from helper.sentiment_helper import *\n",
    "from model_code.distilbert import *"
   ]
  },
  {
   "cell_type": "code",
   "execution_count": 2,
   "id": "bb3e4686",
   "metadata": {},
   "outputs": [],
   "source": [
    "# model path\n",
    "sentiment_path = \"../../model_collection/sentiment_model/fine_tune_disbert.pt\""
   ]
  },
  {
   "cell_type": "code",
   "execution_count": 3,
   "id": "8425f897",
   "metadata": {},
   "outputs": [],
   "source": [
    "# Load model\n",
    "sentiment_tokenizer = AutoTokenizer.from_pretrained(\"../../model_collection/sentiment_tokenizer\")\n",
    "sentiment_model = AutoModelForSequenceClassification.from_pretrained(\"../../model_collection/sentiment_model/\")\n",
    "sentiment_model = disbert_arch(sentiment_model)\n",
    "sentiment_model.load_state_dict(torch.load(sentiment_path))\n",
    "\n",
    "nlp = spacy.load('en_core_web_lg')\n",
    "sentence_model = SentenceTransformer(\"../../model_collection/sentence_model\")"
   ]
  },
  {
   "cell_type": "code",
   "execution_count": 4,
   "id": "c67c7742",
   "metadata": {},
   "outputs": [],
   "source": [
    "def cosine_sim(X, Y):\n",
    "    return np.dot(X, Y)/(np.linalg.norm(X) * np.linalg.norm(Y))"
   ]
  },
  {
   "cell_type": "code",
   "execution_count": 5,
   "id": "3dba005b",
   "metadata": {},
   "outputs": [],
   "source": [
    "# Inspired by https://www.nature.com/articles/s41598-021-01460-7\n",
    "# Find thresholds from each category\n",
    "# labels: list of all the labels from category_dic\n",
    "# category_dic: dictionary of samples sentences for all the subcategories\n",
    "# encoding_model: transformer sentence model\n",
    "def find_thresholds(labels, category_dic, encoding_model):\n",
    "    label_counts = len(labels)\n",
    "    cor_matrix = [[0] * label_counts for i in range(label_counts)]\n",
    "    \n",
    "    for i in range(label_counts):\n",
    "        for j in range(label_counts):\n",
    "            record_1 = category_dic[labels[i]]\n",
    "            record_2 = category_dic[labels[j]]\n",
    "            sim_score = 0 # initialize similarity score\n",
    "            num_sims = 0 # initialize number of similarity score we sum up in the following for loops\n",
    "            for k in range(len(record_1)):\n",
    "                for m in range(len(record_2)):\n",
    "                    encoding_1 = encoding_model.encode(record_1[k])\n",
    "                    encoding_2 = encoding_model.encode(record_2[m])\n",
    "                    if labels[i] == labels[j]:\n",
    "                        if k < m:\n",
    "                            sim_score += cosine_sim(encoding_1, encoding_2)\n",
    "                            num_sims += 1\n",
    "                    else:\n",
    "                        sim_score += cosine_sim(encoding_1, encoding_2)\n",
    "                        num_sims += 1\n",
    "            cor_matrix[i][j] = sim_score / num_sims\n",
    "    return cor_matrix"
   ]
  },
  {
   "cell_type": "code",
   "execution_count": 6,
   "id": "3d68fdf2",
   "metadata": {},
   "outputs": [],
   "source": [
    "# Find thresholds for categories of greeting\n",
    "opening_labels = ['standard_greeting', 'purpose_of_call', 'ask_for_permission']\n",
    "opening_thresholds = find_thresholds(opening_labels, opening_lexicons, sentence_model)"
   ]
  },
  {
   "cell_type": "code",
   "execution_count": 7,
   "id": "7b423149",
   "metadata": {},
   "outputs": [
    {
     "name": "stdout",
     "output_type": "stream",
     "text": [
      "Greeting categories correlation matrix\n",
      "[[0.27602134676029283, 0.1503592333799504, 0.2741976907062862],\n",
      " [0.1503592333799504, 0.2815880780418714, 0.1262115628868785],\n",
      " [0.2741976907062862, 0.1262115628868785, 0.42921302503063563]]\n"
     ]
    }
   ],
   "source": [
    "# print result of correlation matrix of greeting categories\n",
    "print(\"Greeting categories correlation matrix\")\n",
    "pprint(opening_thresholds)"
   ]
  },
  {
   "cell_type": "code",
   "execution_count": 9,
   "id": "0592a16e",
   "metadata": {},
   "outputs": [],
   "source": [
    "# Find thresholds for categories of ending\n",
    "closing_labels = ['follow_up', 'data_enrichment', 'standard_closing']\n",
    "closing_thresholds = find_thresholds(closing_labels, closing_lexicons, sentence_model)"
   ]
  },
  {
   "cell_type": "code",
   "execution_count": 10,
   "id": "d57e7ff6",
   "metadata": {},
   "outputs": [
    {
     "name": "stdout",
     "output_type": "stream",
     "text": [
      "Ending categories correlation matrix\n",
      "[[0.4106628816678292, 0.25458838500910336, 0.2014425235490004],\n",
      " [0.25458838500910336, 0.3254513197711536, 0.14600112595671447],\n",
      " [0.2014425235490004, 0.14600112595671447, 0.290414386930374]]\n"
     ]
    }
   ],
   "source": [
    "# print result of correlation matrix of greeting categories\n",
    "print(\"Ending categories correlation matrix\")\n",
    "pprint(closing_thresholds)"
   ]
  },
  {
   "cell_type": "code",
   "execution_count": 11,
   "id": "463fef7e",
   "metadata": {},
   "outputs": [],
   "source": [
    "# Extract diagonal corrleations and return a dictionary with {label: correlation}\n",
    "# labels: label list\n",
    "# part type needs to be either greeting or ending\n",
    "# assume len(corr_mat) == len(labels)\n",
    "def extract_diagonal_corr(corr_mat, labels, part_type = \"opening\"):\n",
    "    assert len(corr_mat) == len(labels)\n",
    "    corr_dict = {}\n",
    "    for i in range(len(labels)):\n",
    "        corr_dict[labels[i]] = float(corr_mat[i][i])\n",
    "    output_dict = {part_type: corr_dict} \n",
    "    return output_dict"
   ]
  },
  {
   "cell_type": "code",
   "execution_count": 12,
   "id": "02778677",
   "metadata": {},
   "outputs": [],
   "source": [
    "# For each part, save the diagonal correlations to yaml file\n",
    "def save_corr(corr_dict, save_address):\n",
    "    dump_yaml(corr_dict, save_address)"
   ]
  },
  {
   "cell_type": "code",
   "execution_count": 13,
   "id": "c2d324de",
   "metadata": {},
   "outputs": [],
   "source": [
    "# define a function to save config file\n",
    "# config label is the label of that configurations\n",
    "def save_config(input_data, config_label, save_address):\n",
    "    save_dic = {config_label: input_data}\n",
    "    dump_yaml(save_dic, save_address)"
   ]
  },
  {
   "cell_type": "code",
   "execution_count": 16,
   "id": "be8c989b",
   "metadata": {},
   "outputs": [],
   "source": [
    "opening_dict = extract_diagonal_corr(opening_thresholds, opening_labels, \"opening\")\n",
    "ending_dict = extract_diagonal_corr(closing_thresholds, closing_labels, \"closing\")"
   ]
  },
  {
   "cell_type": "code",
   "execution_count": 17,
   "id": "1107fc0d",
   "metadata": {},
   "outputs": [],
   "source": [
    "dict_ls = [opening_dict, ending_dict]"
   ]
  },
  {
   "cell_type": "code",
   "execution_count": 18,
   "id": "4fd44c7d",
   "metadata": {},
   "outputs": [],
   "source": [
    "save_config(dict_ls, 'similarity_threshold', '../config/general_config.yaml')"
   ]
  },
  {
   "cell_type": "code",
   "execution_count": 16,
   "id": "6c66998f",
   "metadata": {},
   "outputs": [],
   "source": [
    "# load from yaml file\n",
    "load_ls = load_yaml('../config/general_config.yaml')\n",
    "threshold_config = load_ls[0]['similarity_threshold']"
   ]
  },
  {
   "cell_type": "code",
   "execution_count": 17,
   "id": "d59d7e48",
   "metadata": {},
   "outputs": [
    {
     "data": {
      "text/plain": [
       "[{'opening': {'standard_greeting': 0.27602134676029283,\n",
       "   'purpose_of_call': 0.2815880780418714,\n",
       "   'ask_for_permission': 0.41886348923047384}},\n",
       " {'ending': {'follow_up': 0.4106628816678292,\n",
       "   'data_enrichment': 0.2213484893242518,\n",
       "   'closing': 0.290414386930374}}]"
      ]
     },
     "execution_count": 17,
     "metadata": {},
     "output_type": "execute_result"
    }
   ],
   "source": [
    "threshold_config"
   ]
  },
  {
   "cell_type": "code",
   "execution_count": 18,
   "id": "845059cf",
   "metadata": {},
   "outputs": [
    {
     "data": {
      "text/plain": [
       "dict_keys(['standard_greeting', 'purpose_of_call', 'ask_for_permission'])"
      ]
     },
     "execution_count": 18,
     "metadata": {},
     "output_type": "execute_result"
    }
   ],
   "source": [
    "threshold_config[0]['opening'].keys()"
   ]
  },
  {
   "cell_type": "markdown",
   "id": "e4a456f1",
   "metadata": {},
   "source": [
    "# multi label classification on sentence results from transcripts"
   ]
  },
  {
   "cell_type": "code",
   "execution_count": 19,
   "id": "a0ce1d9a",
   "metadata": {},
   "outputs": [],
   "source": [
    "# use a sample transcripts \n",
    "sample_text = ['hello good afternoon just speak to miss leon michael from income ntuc free for one or two minutes if you are not busy', 'okay calling behalf of your adviser xiao guo', 'okay because we having this anniversary plan for the family i just check again you are single or married \\n']"
   ]
  },
  {
   "cell_type": "code",
   "execution_count": 20,
   "id": "ccab70e7",
   "metadata": {},
   "outputs": [],
   "source": [
    "# return input sentence, resulting labels, class names, current similarity list\n",
    "def match_multi_categories(input_sentence, model, sim_threshold_dict, lexicon_dict):\n",
    "    # make sure the keys in sim_threshold_dict are in the same order with lexicon_dict\n",
    "    assert sim_threshold_dict.keys() == lexicon_dict.keys()\n",
    "    new_vector = construct_sentence_vector(input_sentence, model) # new input sentence vector\n",
    "    similarity_ls = []\n",
    "    classes = []\n",
    "    # calculate the average cosine similarity of the current new input sentence vector for each dictionary category\n",
    "    for aspect, descriptive_words in lexicon_dict.items():\n",
    "        classes.append(aspect)\n",
    "        cur_vector = construct_dim_vector(descriptive_words, model)\n",
    "        cur_similarity = cosine_sim(new_vector, cur_vector)\n",
    "        similarity_ls.append(cur_similarity)\n",
    "    # Do a comparison of the generated similarity_ls with the ground-truth similarity list\n",
    "    threshold_ls = list(sim_threshold_dict.values())\n",
    "    similar_label_idx = [index for index, (similarity, threshold) in enumerate(zip(similarity_ls, threshold_ls)) if similarity >= threshold] \n",
    "    if not similar_label_idx:\n",
    "        return (input_sentence, \"no matching\")\n",
    "    result_labels = [classes[i] for i in similar_label_idx]\n",
    "    return [input_sentence, result_labels], classes, similarity_ls"
   ]
  },
  {
   "cell_type": "code",
   "execution_count": 21,
   "id": "44967584",
   "metadata": {},
   "outputs": [],
   "source": [
    "threshold_dict = threshold_config[0]['opening']\n",
    "lexicon_dict = opening_lexicons"
   ]
  },
  {
   "cell_type": "code",
   "execution_count": 22,
   "id": "18f234b3",
   "metadata": {},
   "outputs": [
    {
     "data": {
      "text/plain": [
       "(['okay because we having this anniversary plan for the family i just check again you are single or married \\n',\n",
       "  ['purpose_of_call']],\n",
       " ['standard_greeting', 'purpose_of_call', 'ask_for_permission'],\n",
       " [0.21059322, 0.49155855, 0.25504497])"
      ]
     },
     "execution_count": 22,
     "metadata": {},
     "output_type": "execute_result"
    }
   ],
   "source": [
    "match_multi_categories(sample_text[2], sentence_model, threshold_dict, lexicon_dict)"
   ]
  },
  {
   "cell_type": "code",
   "execution_count": 23,
   "id": "cd5b9c8e",
   "metadata": {},
   "outputs": [],
   "source": [
    "def batch_match_multi_categories(sentence_ls, model, sim_threshold_dict, lexicon_dict):\n",
    "    result_ls = []\n",
    "    label_ls = []\n",
    "    for sentence in sentence_ls:\n",
    "        result, classes, _ = match_multi_categories(sentence, sentence_model, threshold_dict, lexicon_dict)\n",
    "        result_ls.append(result)\n",
    "        label_ls.append(result[1])\n",
    "    return result_ls, sentence_ls, label_ls"
   ]
  },
  {
   "cell_type": "code",
   "execution_count": 24,
   "id": "5aa9f070",
   "metadata": {},
   "outputs": [],
   "source": [
    "aspect_ls, sentence_ls, label_ls = batch_match_multi_categories(sample_text, sentence_model, threshold_dict, lexicon_dict)"
   ]
  },
  {
   "cell_type": "code",
   "execution_count": 25,
   "id": "00ed7be2",
   "metadata": {},
   "outputs": [
    {
     "data": {
      "text/plain": [
       "[['hello good afternoon just speak to miss leon michael from income ntuc free for one or two minutes if you are not busy',\n",
       "  ['standard_greeting', 'ask_for_permission']],\n",
       " ['okay calling behalf of your adviser xiao guo',\n",
       "  ['standard_greeting', 'purpose_of_call']],\n",
       " ['okay because we having this anniversary plan for the family i just check again you are single or married \\n',\n",
       "  ['purpose_of_call']]]"
      ]
     },
     "execution_count": 25,
     "metadata": {},
     "output_type": "execute_result"
    }
   ],
   "source": [
    "aspect_ls"
   ]
  },
  {
   "cell_type": "code",
   "execution_count": 26,
   "id": "1d6f3d5f",
   "metadata": {},
   "outputs": [
    {
     "data": {
      "text/plain": [
       "[['standard_greeting', 'ask_for_permission'],\n",
       " ['standard_greeting', 'purpose_of_call'],\n",
       " ['purpose_of_call']]"
      ]
     },
     "execution_count": 26,
     "metadata": {},
     "output_type": "execute_result"
    }
   ],
   "source": [
    "label_ls"
   ]
  },
  {
   "cell_type": "markdown",
   "id": "f67a8fd6",
   "metadata": {},
   "source": [
    "### Sentiment Analysis"
   ]
  },
  {
   "cell_type": "code",
   "execution_count": 27,
   "id": "a66c2edc",
   "metadata": {},
   "outputs": [
    {
     "data": {
      "text/plain": [
       "[['hello good afternoon just speak to miss leon michael from income ntuc free for one or two minutes if you are not busy',\n",
       "  ['standard_greeting', 'ask_for_permission'],\n",
       "  'neutral'],\n",
       " ['okay calling behalf of your adviser xiao guo',\n",
       "  ['standard_greeting', 'purpose_of_call'],\n",
       "  'polite'],\n",
       " ['okay because we having this anniversary plan for the family i just check again you are single or married \\n',\n",
       "  ['purpose_of_call'],\n",
       "  'neutral']]"
      ]
     },
     "execution_count": 27,
     "metadata": {},
     "output_type": "execute_result"
    }
   ],
   "source": [
    "sentiment_result = nlp_sentiment_v2(sentence_ls, label_ls, sentiment_tokenizer, sentiment_model)\n",
    "sentiment_result"
   ]
  },
  {
   "cell_type": "markdown",
   "id": "0ebfac19",
   "metadata": {},
   "source": [
    "### Assign score"
   ]
  },
  {
   "cell_type": "code",
   "execution_count": 28,
   "id": "b892faf1",
   "metadata": {},
   "outputs": [],
   "source": [
    "def result_reformat(result_ls):    \n",
    "    result_dic = {} # initialize result dictionary\n",
    "    for i, result in enumerate(result_ls):\n",
    "        sentence = result[0]\n",
    "        category_ls = result[1]\n",
    "        sentiment = result[2]\n",
    "        for category in category_ls:\n",
    "            if category in result_dic: # check if the category is in our newly created result_dic\n",
    "                result_dic[category].append([sentence, sentiment])\n",
    "            else:\n",
    "                result_dic[category] = [[sentence, sentiment]]\n",
    "    return result_dic"
   ]
  },
  {
   "cell_type": "code",
   "execution_count": 38,
   "id": "404dae77",
   "metadata": {},
   "outputs": [],
   "source": [
    "# result_ls is he result after sentiment analysis\n",
    "# target label is the category list for a specific section\n",
    "# \n",
    "def assign_score(result_ls, target_label, section_name = 'opening'):\n",
    "    result_dic = result_reformat(result_ls)\n",
    "    temp_score_dic = {}\n",
    "    for category, info in result_dic.items():\n",
    "        sentiments = map(lambda x: x[1], info)\n",
    "        passed = True\n",
    "        for sentiment in sentiments:\n",
    "            if sentiment == 'impolite':\n",
    "                passed = False\n",
    "        temp_score_dic[category] = passed\n",
    "    score_dic = {}\n",
    "    for key in target_label:\n",
    "        if key in temp_score_dic:\n",
    "            if temp_score_dic[key] == True:\n",
    "                score_dic[key] = True\n",
    "            else:\n",
    "                score_dic[key] = False\n",
    "        else:\n",
    "            score_dic[key] = False\n",
    "    final_score_dic = {section_name: score_dic}\n",
    "    return final_score_dic"
   ]
  },
  {
   "cell_type": "code",
   "execution_count": 39,
   "id": "01d1d5e7",
   "metadata": {},
   "outputs": [],
   "source": [
    "score_result = assign_score(sentiment_result, opening_lexicons.keys())"
   ]
  },
  {
   "cell_type": "code",
   "execution_count": 40,
   "id": "2c1833ed",
   "metadata": {},
   "outputs": [
    {
     "data": {
      "text/plain": [
       "{'opening': {'standard_greeting': True,\n",
       "  'purpose_of_call': True,\n",
       "  'ask_for_permission': True}}"
      ]
     },
     "execution_count": 40,
     "metadata": {},
     "output_type": "execute_result"
    }
   ],
   "source": [
    "score_result"
   ]
  },
  {
   "cell_type": "code",
   "execution_count": 43,
   "id": "f75c07b1",
   "metadata": {},
   "outputs": [],
   "source": [
    "# Save result to config\n",
    "save_config(score_result, 'qa_result', '../qa_result/opening_result.yaml')"
   ]
  },
  {
   "cell_type": "code",
   "execution_count": 47,
   "id": "c2d90fd9",
   "metadata": {},
   "outputs": [],
   "source": [
    "# read score_reference config file\n",
    "target_score_ls = load_yaml('../config/score_reference.yaml')"
   ]
  },
  {
   "cell_type": "code",
   "execution_count": 48,
   "id": "59d63014",
   "metadata": {},
   "outputs": [
    {
     "data": {
      "text/plain": [
       "{'opening': {'standard_greeting': 1,\n",
       "  'purpose_of_call': 2,\n",
       "  'ask_for_permission': 2},\n",
       " 'closing': {'follow_up': 2, 'data_enrichment': 2, 'closing': 2}}"
      ]
     },
     "execution_count": 48,
     "metadata": {},
     "output_type": "execute_result"
    }
   ],
   "source": [
    "target_score_ls[0]"
   ]
  },
  {
   "cell_type": "code",
   "execution_count": 56,
   "id": "358733b8",
   "metadata": {},
   "outputs": [],
   "source": [
    "def save_score(score_dic, reference_dict, section_name = \"opening\"):\n",
    "    temp_dict = {}\n",
    "    save_dict = {}\n",
    "    score_result = score_dic[section_name]\n",
    "    reference_result = reference_dict[section_name]\n",
    "    sum_score = 0\n",
    "    for category, result in score_result.items():\n",
    "        if result == True:\n",
    "            cur_score = reference_result[category]\n",
    "            temp_dict[category] = cur_score\n",
    "            sum_score += cur_score\n",
    "        else:\n",
    "            temp_dict[category] = 0\n",
    "    save_dict[section_name] = temp_dict\n",
    "    return save_dict, sum_score"
   ]
  },
  {
   "cell_type": "code",
   "execution_count": 58,
   "id": "dcee338a",
   "metadata": {},
   "outputs": [],
   "source": [
    "result_tuple = save_score(score_result, target_score_ls[0])"
   ]
  },
  {
   "cell_type": "code",
   "execution_count": 60,
   "id": "a01c4cd5",
   "metadata": {},
   "outputs": [],
   "source": [
    "dump_yaml(result_tuple[0], '../qa_result/opening_result.yaml')"
   ]
  }
 ],
 "metadata": {
  "kernelspec": {
   "display_name": "venv2022",
   "language": "python",
   "name": "venv2022"
  },
  "language_info": {
   "codemirror_mode": {
    "name": "ipython",
    "version": 3
   },
   "file_extension": ".py",
   "mimetype": "text/x-python",
   "name": "python",
   "nbconvert_exporter": "python",
   "pygments_lexer": "ipython3",
   "version": "3.7.13"
  }
 },
 "nbformat": 4,
 "nbformat_minor": 5
}
