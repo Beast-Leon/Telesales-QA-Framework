{
 "cells": [
  {
   "cell_type": "code",
   "execution_count": 6,
   "id": "3bbaf428",
   "metadata": {},
   "outputs": [],
   "source": [
    "import numpy as np\n",
    "import sys\n",
    "sys.path.insert(0, '/Users/leon/Income/python files/Telesales-QA-Framework')\n",
    "from sentence_transformers import SentenceTransformer\n",
    "\n",
    "from helper.lexicons import *"
   ]
  },
  {
   "cell_type": "code",
   "execution_count": 5,
   "id": "d26de80c",
   "metadata": {},
   "outputs": [],
   "source": [
    "# load model\n",
    "sentence_model = SentenceTransformer(\"../../model_collection/sentence_model\")"
   ]
  },
  {
   "cell_type": "code",
   "execution_count": 7,
   "id": "4140e6b9",
   "metadata": {},
   "outputs": [],
   "source": [
    "# Find thresholds from each category\n",
    "# labels: list of all the labels from category_dic\n",
    "# category_dic: dictionary of samples sentences for all the subcategories\n",
    "# encoding_model: transformer sentence model\n",
    "def find_thresholds(labels, category_dic, encoding_model):\n",
    "    label_counts = len(labels)\n",
    "    cor_matrix = [[0] * label_counts for i in range(label_counts)]\n",
    "    \n",
    "    for i in range(label_counts):\n",
    "        for j in range(label_counts):\n",
    "            record_1 = category_dic[labels[i]]\n",
    "            record_2 = category_dic[labels[j]]\n",
    "            sim_score = 0 # initialize similarity score\n",
    "            num_sims = 0 # initialize number of similarity score we sum up in the following for loops\n",
    "            for k in range(len(record_1)):\n",
    "                for m in range(len(record_2)):\n",
    "                    encoding_1 = encoding_model.encode(record_1[k])\n",
    "                    encoding_2 = encoding_model.encode(record_2[m])\n",
    "                    if labels[i] == labels[j]:\n",
    "                        if k < m:\n",
    "                            sim_score += encoding_model.encode(encoding_1, encoding_2)\n",
    "                            num_sims += 1\n",
    "                    else:\n",
    "                        sim_score += encoding_model.encode(encoding_1, encoding_2)\n",
    "                        num_sims += 1\n",
    "            cor_matrix[i][j] = sim_score / num_sims\n",
    "    return cor_matrix"
   ]
  },
  {
   "cell_type": "code",
   "execution_count": null,
   "id": "bed934b2",
   "metadata": {},
   "outputs": [],
   "source": []
  }
 ],
 "metadata": {
  "kernelspec": {
   "display_name": "venv2022",
   "language": "python",
   "name": "venv2022"
  },
  "language_info": {
   "codemirror_mode": {
    "name": "ipython",
    "version": 3
   },
   "file_extension": ".py",
   "mimetype": "text/x-python",
   "name": "python",
   "nbconvert_exporter": "python",
   "pygments_lexer": "ipython3",
   "version": "3.7.13"
  }
 },
 "nbformat": 4,
 "nbformat_minor": 5
}
