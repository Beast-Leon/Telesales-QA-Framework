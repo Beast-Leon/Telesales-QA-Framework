{
 "cells": [
  {
   "cell_type": "code",
   "execution_count": 1,
   "id": "3e8eaea2",
   "metadata": {},
   "outputs": [],
   "source": [
    "# Load packages\n",
    "import pandas as pd\n",
    "import sys\n",
    "sys.path.insert(0, \"/Users/leon/Income/python files/politeness_code\")\n",
    "from helper.lexicons import *\n",
    "from helper.score_generation import *"
   ]
  },
  {
   "cell_type": "code",
   "execution_count": 2,
   "id": "b6feebfa",
   "metadata": {},
   "outputs": [],
   "source": [
    "# use a sample result for testing\n",
    "result_ls = [['ask_for_permission', 'ya hello good afternoon speak to nanny seah', 'positive'], ['purpose_of_call', 'please afternoon miss nanny my name is jaguar shao and i m actually calling from insurance company miss nanny good time to speak for a while this is regarding our partnership charter_plus members and as a result of that insurance company actually formulated a very special thirtieth anniversay insurance bundle right called the i thirty \\n', 'neutral']]"
   ]
  },
  {
   "cell_type": "code",
   "execution_count": 3,
   "id": "86db72c0",
   "metadata": {},
   "outputs": [
    {
     "name": "stdout",
     "output_type": "stream",
     "text": [
      "[['ask_for_permission', 'ya hello good afternoon speak to nanny seah', 'positive'], ['purpose_of_call', 'please afternoon miss nanny my name is jaguar shao and i m actually calling from insurance company miss nanny good time to speak for a while this is regarding our partnership charter_plus members and as a result of that insurance company actually formulated a very special thirtieth anniversay insurance bundle right called the i thirty \\n', 'neutral']]\n"
     ]
    }
   ],
   "source": [
    "print(result_ls)"
   ]
  },
  {
   "cell_type": "code",
   "execution_count": 4,
   "id": "7b00c473",
   "metadata": {},
   "outputs": [
    {
     "name": "stdout",
     "output_type": "stream",
     "text": [
      "{'ask_for_permission': [['ya hello good afternoon speak to nanny seah', 'positive']], 'purpose_of_call': [['please afternoon miss nanny my name is jaguar shao and i m actually calling from insurance company miss nanny good time to speak for a while this is regarding our partnership charter_plus members and as a result of that insurance company actually formulated a very special thirtieth anniversay insurance bundle right called the i thirty \\n', 'neutral']]}\n"
     ]
    }
   ],
   "source": [
    "# create dictionary from result_ls\n",
    "result_dic = result_reformat(result_ls, greeting_lexicons)\n",
    "print(result_dic)"
   ]
  },
  {
   "cell_type": "code",
   "execution_count": 5,
   "id": "e5edfaed",
   "metadata": {},
   "outputs": [
    {
     "name": "stdout",
     "output_type": "stream",
     "text": [
      "{'opening': False, 'purpose_of_call': True, 'ask_for_permission': True}\n"
     ]
    }
   ],
   "source": [
    "# calculate score\n",
    "score_dic = assign_score(result_dic, greeting_lexicons)\n",
    "print(score_dic)"
   ]
  },
  {
   "cell_type": "code",
   "execution_count": null,
   "id": "89dc6c76",
   "metadata": {},
   "outputs": [],
   "source": []
  },
  {
   "cell_type": "code",
   "execution_count": 9,
   "id": "5d2c8d40",
   "metadata": {},
   "outputs": [],
   "source": [
    "result_ls2 = [['opening', 'hello good afternoon just speak to miss leon michael from income ntuc free for one_or_two minutes if you are not busy', 'neutral'], ['purpose_of_call', 'okay calling behalf of your adviser xiao guo', 'positive'], ['ask_for_permission', 'okay because we having this anniversary plan for the family i just check again you are single_or_married \\n', 'neutral']]"
   ]
  },
  {
   "cell_type": "code",
   "execution_count": 11,
   "id": "bcd70333",
   "metadata": {},
   "outputs": [
    {
     "name": "stdout",
     "output_type": "stream",
     "text": [
      "{'opening': [['hello good afternoon just speak to miss leon michael from income ntuc free for one_or_two minutes if you are not busy', 'neutral']], 'purpose_of_call': [['okay calling behalf of your adviser xiao guo', 'positive']], 'ask_for_permission': [['okay because we having this anniversary plan for the family i just check again you are single_or_married \\n', 'neutral']]}\n"
     ]
    }
   ],
   "source": [
    "result_dic2 = result_reformat(result_ls2, greeting_lexicons)\n",
    "print(result_dic2)"
   ]
  },
  {
   "cell_type": "code",
   "execution_count": 12,
   "id": "ad90fb11",
   "metadata": {},
   "outputs": [
    {
     "name": "stdout",
     "output_type": "stream",
     "text": [
      "{'opening': True, 'purpose_of_call': True, 'ask_for_permission': True}\n"
     ]
    }
   ],
   "source": [
    "score_dic2 = assign_score(result_dic2, greeting_lexicons)\n",
    "print(score_dic2)"
   ]
  },
  {
   "cell_type": "code",
   "execution_count": null,
   "id": "336f2de2",
   "metadata": {},
   "outputs": [],
   "source": []
  },
  {
   "cell_type": "code",
   "execution_count": 13,
   "id": "ad1ea7f4",
   "metadata": {},
   "outputs": [],
   "source": [
    "result_ls3 = [['follow-up', 'You just reconfirm with your husband whether you already have an enhanced home insurance or', 'positive'], ['closing', 'not if already have then we can not cover for you oh ok I will call you back tomorrow thank you bye \\n', 'neutral']]"
   ]
  },
  {
   "cell_type": "code",
   "execution_count": 14,
   "id": "c3d3b6af",
   "metadata": {},
   "outputs": [
    {
     "name": "stdout",
     "output_type": "stream",
     "text": [
      "{'follow-up': [['You just reconfirm with your husband whether you already have an enhanced home insurance or', 'positive']], 'closing': [['not if already have then we can not cover for you oh ok I will call you back tomorrow thank you bye \\n', 'neutral']]}\n"
     ]
    }
   ],
   "source": [
    "result_dic3 = result_reformat(result_ls3, ending_lexicons)\n",
    "print(result_dic3)"
   ]
  },
  {
   "cell_type": "code",
   "execution_count": 16,
   "id": "fb855990",
   "metadata": {},
   "outputs": [
    {
     "name": "stdout",
     "output_type": "stream",
     "text": [
      "{'closing': True, 'data_enrichment': False, 'follow-up': True}\n"
     ]
    }
   ],
   "source": [
    "score_dic3 = assign_score(result_dic3, ending_lexicons)\n",
    "print(score_dic3)"
   ]
  },
  {
   "cell_type": "code",
   "execution_count": null,
   "id": "ee81b4c5",
   "metadata": {},
   "outputs": [],
   "source": []
  }
 ],
 "metadata": {
  "kernelspec": {
   "display_name": "venv2022",
   "language": "python",
   "name": "venv2022"
  },
  "language_info": {
   "codemirror_mode": {
    "name": "ipython",
    "version": 3
   },
   "file_extension": ".py",
   "mimetype": "text/x-python",
   "name": "python",
   "nbconvert_exporter": "python",
   "pygments_lexer": "ipython3",
   "version": "3.7.13"
  }
 },
 "nbformat": 4,
 "nbformat_minor": 5
}
