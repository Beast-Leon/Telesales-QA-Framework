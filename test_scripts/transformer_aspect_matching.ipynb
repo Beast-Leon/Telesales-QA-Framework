{
 "cells": [
  {
   "cell_type": "code",
   "execution_count": 1,
   "id": "23a14635",
   "metadata": {},
   "outputs": [
    {
     "name": "stderr",
     "output_type": "stream",
     "text": [
      "/opt/anaconda3/envs/tensorflow/lib/python3.7/site-packages/tqdm/auto.py:22: TqdmWarning: IProgress not found. Please update jupyter and ipywidgets. See https://ipywidgets.readthedocs.io/en/stable/user_install.html\n",
      "  from .autonotebook import tqdm as notebook_tqdm\n"
     ]
    }
   ],
   "source": [
    "from sentence_transformers import SentenceTransformer"
   ]
  },
  {
   "cell_type": "code",
   "execution_count": 2,
   "id": "035dd85b",
   "metadata": {},
   "outputs": [],
   "source": [
    "import sys\n",
    "sys.path.insert(0, '/Users/leon/Income/python files/politeness_code')\n",
    "# Load customized packages\n",
    "from helper.customized_pos import *\n",
    "from helper.pos_helper import *\n",
    "from helper.politeness_helper import *\n",
    "from helper.sentiment_helper import *\n",
    "from helper.lexicons import *"
   ]
  },
  {
   "cell_type": "markdown",
   "id": "6d57ccad",
   "metadata": {},
   "source": [
    "### Input transcripts"
   ]
  },
  {
   "cell_type": "code",
   "execution_count": 3,
   "id": "7065db3a",
   "metadata": {},
   "outputs": [],
   "source": [
    "# Load from text file\n",
    "with open (\"../data_collection/greeting_transcripts.txt\") as f:\n",
    "    greeting_transcripts_ls = f.readlines()\n",
    "with open (\"../data_collection/ending_transcripts.txt\") as f:\n",
    "    ending_transcripts_ls = f.readlines()"
   ]
  },
  {
   "cell_type": "code",
   "execution_count": 4,
   "id": "9575bf3d",
   "metadata": {},
   "outputs": [
    {
     "name": "stdout",
     "output_type": "stream",
     "text": [
      "greeting transcripts ['ya hello good afternoon speak to nanny seah please afternoon miss nanny my name is jaguar shao and im actually calling from insurance company miss nanny good time to speak for a while this is regarding our partnership charter_plus members and as a result of that insurance company actually formulated a very special thirtieth anniversay insurance bundle right called the i thirty\\n', 'hello good afternoon just speak to miss leon michael from income ntuc free for one_or_two minutes if you are not busy okay calling behalf of your adviser xiao guo okay because we having this anniversary plan for the family i just check again you are single_or_married\\n']\n",
      "\n",
      "\n",
      "ending transcripts ['You just reconfirm with your husband whether you already have an enhanced home insurance or not if already have then we can not cover for you oh ok I will call you back tomorrow thank you bye\\n', 'So maybe if your friends or relatives or family members are interested you can call back at this number lah this number you can see from your phone lah thank you bye bye\\n']\n"
     ]
    }
   ],
   "source": [
    "print(\"greeting transcripts\", greeting_transcripts_ls)\n",
    "print(\"\\n\")\n",
    "print(\"ending transcripts\", ending_transcripts_ls)"
   ]
  },
  {
   "cell_type": "markdown",
   "id": "58b3ebd9",
   "metadata": {},
   "source": [
    "### Load sentence transformer model"
   ]
  },
  {
   "cell_type": "code",
   "execution_count": 5,
   "id": "85539337",
   "metadata": {},
   "outputs": [],
   "source": [
    "sentence_model = SentenceTransformer('sentence-transformers/all-MiniLM-L6-v2')"
   ]
  },
  {
   "cell_type": "code",
   "execution_count": 44,
   "id": "b8b5da40",
   "metadata": {},
   "outputs": [],
   "source": [
    "import torch\n",
    "sentence_model.save('../../model_collection')"
   ]
  },
  {
   "cell_type": "markdown",
   "id": "446e056d",
   "metadata": {},
   "source": [
    "### Encode sentences"
   ]
  },
  {
   "cell_type": "code",
   "execution_count": 6,
   "id": "222d6812",
   "metadata": {},
   "outputs": [
    {
     "name": "stdout",
     "output_type": "stream",
     "text": [
      "2\n"
     ]
    }
   ],
   "source": [
    "greeting_encode = sentence_model.encode(greeting_transcripts_ls)\n",
    "print(len(greeting_encode))"
   ]
  },
  {
   "cell_type": "code",
   "execution_count": 7,
   "id": "1d6a2a25",
   "metadata": {},
   "outputs": [
    {
     "name": "stdout",
     "output_type": "stream",
     "text": [
      "2\n"
     ]
    }
   ],
   "source": [
    "ending_encode = sentence_model.encode(ending_transcripts_ls)\n",
    "print(len(ending_encode))"
   ]
  },
  {
   "cell_type": "code",
   "execution_count": 8,
   "id": "887f4120",
   "metadata": {},
   "outputs": [
    {
     "data": {
      "text/plain": [
       "array([[-7.41549432e-02,  3.94416004e-02,  2.13413015e-02,\n",
       "        -6.92394152e-02, -1.45531585e-02,  3.00129838e-02,\n",
       "         1.50267273e-01,  5.60768368e-03, -4.80575487e-03,\n",
       "        -2.07905266e-02,  5.15650250e-02, -1.47423018e-02,\n",
       "         4.33658399e-02, -1.66828502e-02, -1.48129824e-03,\n",
       "        -2.28996798e-02,  3.97074670e-02, -2.10626703e-02,\n",
       "        -9.32612047e-02, -3.11144232e-03, -6.20206036e-02,\n",
       "         5.37114032e-02,  5.55090047e-03,  5.22897637e-04,\n",
       "        -9.04180035e-02, -1.14847431e-02, -3.60804088e-02,\n",
       "         4.57358360e-02, -1.85318310e-02, -4.77426723e-02,\n",
       "         2.75681354e-02,  3.55365239e-02,  7.70426542e-02,\n",
       "        -2.97547281e-02,  4.53562997e-02,  1.30115291e-02,\n",
       "        -7.21666077e-03, -1.78030394e-02, -7.94330686e-02,\n",
       "        -5.75921163e-02, -8.98533966e-03, -8.10112283e-02,\n",
       "        -8.00338238e-02, -1.28195519e-02, -3.43606435e-02,\n",
       "        -1.90115348e-02,  3.15257022e-03,  9.09183733e-03,\n",
       "         5.99541478e-02,  7.46275624e-03, -4.88756448e-02,\n",
       "        -4.34275754e-02, -1.58477593e-02,  2.62000207e-02,\n",
       "         2.32748892e-02,  1.45506263e-02, -7.11257607e-02,\n",
       "         2.02665981e-02, -2.16544373e-03, -3.25746601e-03,\n",
       "        -5.33030406e-02,  6.10067025e-02, -3.11135799e-02,\n",
       "         4.22023274e-02,  2.19175033e-02, -6.55963272e-02,\n",
       "         2.26471759e-02, -1.70784921e-03, -1.68747157e-02,\n",
       "        -6.60462976e-02, -6.16816767e-02, -6.05831370e-02,\n",
       "         6.71853200e-02,  7.97901601e-02, -2.80236290e-03,\n",
       "         5.51118217e-02,  2.30932645e-02, -4.72078174e-02,\n",
       "         7.14952871e-02, -5.71036376e-02, -1.11289464e-01,\n",
       "        -4.77864556e-02,  1.66470427e-02,  4.93109524e-02,\n",
       "        -5.29119819e-02, -4.46767583e-02,  2.99637318e-02,\n",
       "        -2.08556168e-02,  2.20219325e-02, -3.82202826e-02,\n",
       "        -4.49704751e-02, -2.89006270e-02,  5.40271848e-02,\n",
       "        -4.87388708e-02,  1.53731452e-02, -5.74978963e-02,\n",
       "        -4.76680137e-02, -1.08456537e-02, -1.07059494e-01,\n",
       "         8.82757157e-02, -2.71991305e-02,  3.74677926e-02,\n",
       "        -1.91382263e-02,  5.69284670e-02, -3.57340500e-02,\n",
       "        -2.61383634e-02, -3.57954539e-02,  4.77497913e-02,\n",
       "         3.10546644e-02,  2.68815216e-02, -2.35859454e-02,\n",
       "         2.76537426e-02, -1.01129301e-02, -5.03019318e-02,\n",
       "         1.30900424e-02, -2.34822575e-02,  3.16876615e-03,\n",
       "        -1.86104178e-02,  1.08558185e-01, -1.16126657e-01,\n",
       "         4.73063216e-02,  1.00340627e-01, -3.00679822e-02,\n",
       "        -3.25644575e-02, -4.28625718e-02,  4.67141196e-02,\n",
       "         5.37340939e-02,  5.22620160e-33, -1.65164638e-02,\n",
       "         1.64895296e-01,  7.92327672e-02,  6.03153966e-02,\n",
       "         8.10608193e-02,  8.10611900e-03, -3.80125493e-02,\n",
       "         5.97527213e-02, -4.45018038e-02, -1.05619419e-03,\n",
       "         1.93303842e-02, -4.88749295e-02,  8.21275823e-03,\n",
       "        -1.41204506e-01, -1.16115689e-01,  3.35503593e-02,\n",
       "        -4.91439551e-02,  4.76568416e-02, -3.83181646e-02,\n",
       "         5.38205653e-02, -5.27698323e-02,  4.85808812e-02,\n",
       "         3.27322297e-02,  3.38347862e-04,  5.87498471e-02,\n",
       "        -4.07064781e-02, -1.72673240e-02, -4.90007289e-02,\n",
       "         1.27809048e-01,  7.63752088e-02,  5.99504858e-02,\n",
       "        -3.71568576e-02,  1.95449516e-02, -6.68090582e-02,\n",
       "        -2.33164486e-02, -2.37046778e-02, -5.35750436e-03,\n",
       "        -1.36601821e-01, -3.81848849e-02,  1.20799954e-03,\n",
       "        -2.79077739e-02, -8.86961520e-02,  3.15016042e-03,\n",
       "         1.68398640e-03, -5.42603396e-02, -6.81886449e-02,\n",
       "         8.71129036e-02,  1.06839575e-02, -1.42867898e-03,\n",
       "         3.78867090e-02, -4.44563031e-02, -3.17453556e-02,\n",
       "        -9.17541534e-02, -4.20432054e-02, -8.39505643e-02,\n",
       "         2.06771474e-02,  7.32473610e-03,  1.70544998e-04,\n",
       "        -4.77810539e-02, -2.21685804e-02,  9.93987322e-02,\n",
       "        -2.85810092e-03, -2.09601298e-02, -6.08958490e-02,\n",
       "         2.74211187e-02, -1.00157082e-01,  4.99888696e-02,\n",
       "         7.16927042e-03,  5.99730127e-02,  1.61274634e-02,\n",
       "        -4.51805219e-02,  3.78655456e-02,  3.27642858e-02,\n",
       "         3.09299352e-03,  3.02192532e-02,  1.61659177e-02,\n",
       "        -2.05620229e-02,  2.41635591e-02,  5.81727959e-02,\n",
       "        -4.82024327e-02,  3.39866467e-02,  3.85276116e-02,\n",
       "         3.25741656e-02,  4.56192754e-02,  5.24344901e-03,\n",
       "         4.78478447e-02,  2.83119772e-02, -3.80804949e-02,\n",
       "        -3.37746330e-02,  2.40572710e-02, -5.11646941e-02,\n",
       "        -7.10827904e-03,  4.40438390e-02,  2.62194313e-02,\n",
       "         1.47172920e-02, -8.27804868e-33,  1.29857603e-02,\n",
       "        -2.94419602e-02, -1.52019421e-02, -1.12002855e-02,\n",
       "        -2.85809897e-02, -8.57423916e-02,  9.23360214e-02,\n",
       "         8.50459840e-03, -1.39342982e-03,  3.33019383e-02,\n",
       "         4.25237380e-02, -1.88193433e-02,  2.01617298e-03,\n",
       "        -8.87639746e-02,  9.50132124e-03,  2.61248387e-02,\n",
       "         4.02169079e-02, -5.16325533e-02,  7.56551921e-02,\n",
       "        -5.71169928e-02, -2.16931645e-02,  3.31765153e-02,\n",
       "         2.08490668e-03,  1.15299113e-01, -4.62775031e-04,\n",
       "         2.52114912e-03,  4.05924916e-02,  4.54562083e-02,\n",
       "         5.77176027e-02,  7.40162376e-03, -3.82168964e-02,\n",
       "        -4.95926067e-02, -6.70689866e-02,  9.20180755e-04,\n",
       "        -5.42337373e-02, -9.07659754e-02, -5.66577259e-03,\n",
       "        -6.86063245e-02, -6.10026233e-02, -8.06574374e-02,\n",
       "         3.64079550e-02, -1.03315495e-01, -2.80527025e-02,\n",
       "        -4.73602256e-03, -2.01384034e-02, -6.81983009e-02,\n",
       "         8.88463631e-02, -1.56966336e-02,  7.44950911e-03,\n",
       "         3.02221607e-02,  4.27973121e-02, -4.04177979e-02,\n",
       "        -2.13349592e-02,  6.56492710e-02, -1.16010897e-01,\n",
       "         6.16133921e-02,  7.86785334e-02, -3.08930315e-02,\n",
       "         2.45321225e-02, -7.21881492e-03,  1.45951007e-02,\n",
       "         4.84923497e-02, -5.21443831e-03,  1.14789177e-02,\n",
       "         2.97338963e-02, -5.13867959e-02, -1.73255708e-02,\n",
       "        -4.09824774e-02,  3.87102999e-02, -1.11512288e-01,\n",
       "         2.67643798e-02, -3.98704037e-02, -7.24185333e-02,\n",
       "        -1.12280957e-01, -8.44969414e-03,  9.82428808e-03,\n",
       "         7.44185224e-02, -2.94519439e-02, -1.33624412e-02,\n",
       "         3.26378904e-02,  9.15269554e-02,  3.71428914e-02,\n",
       "         1.79844089e-02,  5.20738624e-02,  1.31115299e-02,\n",
       "        -5.47882169e-02,  8.74060169e-02,  7.50907660e-02,\n",
       "         3.31110228e-03,  1.26820486e-02, -2.15570983e-02,\n",
       "         1.08880989e-01, -3.28903639e-04,  1.42895905e-02,\n",
       "        -5.67248538e-02, -4.46505766e-08,  1.22963242e-01,\n",
       "         7.79159740e-02,  3.00532319e-02, -1.19753955e-02,\n",
       "         3.78916152e-02, -1.64061755e-01, -7.47793987e-02,\n",
       "        -4.59598145e-03, -3.74865420e-02, -1.60518456e-02,\n",
       "         1.40845366e-02,  3.63709852e-02, -2.54680170e-03,\n",
       "        -5.90307340e-02,  5.98901957e-02, -2.21762210e-02,\n",
       "         3.43216360e-02,  8.81636143e-02, -5.16081788e-02,\n",
       "        -5.80155617e-03, -5.92035241e-02,  4.74675857e-02,\n",
       "        -3.76490057e-02, -4.28266302e-02, -5.99476807e-02,\n",
       "         5.44752963e-02,  4.09660824e-02, -1.25452010e-02,\n",
       "         1.69116165e-02,  4.11665030e-02, -4.58318852e-02,\n",
       "         5.96932322e-02, -5.43203093e-02,  1.03461118e-02,\n",
       "        -6.65484369e-02, -6.41447604e-02,  4.98454971e-03,\n",
       "        -4.02966477e-02,  2.05805860e-02, -1.08230328e-02,\n",
       "         5.51465377e-02, -1.89779680e-02,  1.56295896e-02,\n",
       "         8.27871710e-02,  2.76137311e-02,  6.95221797e-02,\n",
       "        -3.12165450e-02, -9.54686031e-02, -1.13369711e-02,\n",
       "        -1.52702658e-02,  8.29062716e-04, -2.72223465e-02,\n",
       "         9.95726064e-02,  2.72033531e-02, -6.91115158e-03,\n",
       "        -2.80331988e-02,  8.37472267e-03, -8.21933448e-02,\n",
       "         8.06340668e-03,  4.90140729e-02,  5.87102398e-02,\n",
       "        -1.42713413e-02,  2.15185247e-02, -1.39689110e-02],\n",
       "       [-6.50214627e-02,  1.87440484e-03,  6.50607422e-02,\n",
       "         2.91299615e-02,  1.87771060e-02,  6.60516843e-02,\n",
       "         1.35186128e-02, -1.87209435e-02,  5.43138236e-02,\n",
       "        -7.30877146e-02,  2.06849445e-02, -1.06471971e-01,\n",
       "        -1.05714113e-01, -5.25586791e-02,  4.22851779e-02,\n",
       "        -2.76749656e-02,  1.09244986e-02, -2.10604966e-02,\n",
       "        -1.14726938e-01, -1.75951347e-02, -3.91204134e-02,\n",
       "        -6.95552528e-02, -3.71883810e-02,  2.47393716e-02,\n",
       "         8.78441799e-03, -4.28348780e-02,  1.60548501e-02,\n",
       "         9.00215283e-02,  4.10088189e-02,  5.53484969e-02,\n",
       "         1.17307886e-01,  1.47870973e-01, -1.19082257e-02,\n",
       "         7.09724892e-03,  7.63548836e-02,  3.10615879e-02,\n",
       "        -1.06915496e-01,  1.60611570e-02,  1.73588062e-03,\n",
       "         7.76383514e-03, -2.30505541e-02, -1.83268655e-02,\n",
       "         8.02207887e-02, -4.69999500e-02, -2.24887882e-03,\n",
       "        -2.15332843e-02, -1.83783919e-02,  1.63115878e-02,\n",
       "         3.67207676e-02,  5.73366322e-02, -1.17966319e-02,\n",
       "        -2.18154192e-02, -1.76259987e-02, -1.18955718e-02,\n",
       "        -2.24180520e-03,  5.68767823e-02,  2.91504618e-02,\n",
       "        -1.40352463e-02, -7.11015537e-02, -2.80849356e-02,\n",
       "        -2.06699409e-02,  2.61705779e-02, -2.83687431e-02,\n",
       "        -4.17244285e-02, -9.04416069e-02,  2.94850823e-02,\n",
       "        -3.78924236e-02,  1.84806250e-02,  4.70216684e-02,\n",
       "        -1.85318869e-02, -4.10151407e-02, -7.30223432e-02,\n",
       "        -5.32125086e-02, -9.08254087e-03, -1.66818444e-02,\n",
       "         6.08584024e-02,  6.50317594e-02,  5.93710272e-03,\n",
       "         2.33642664e-03, -6.26740530e-02, -7.45055154e-02,\n",
       "        -2.13468187e-02,  2.34956807e-03, -4.30120062e-03,\n",
       "        -6.38713464e-02, -2.30617560e-02, -6.23626634e-02,\n",
       "         8.97196382e-02,  5.61378673e-02, -2.86537800e-02,\n",
       "        -5.99947944e-03,  1.64547220e-01,  3.93037312e-02,\n",
       "        -3.68994176e-02, -2.21641455e-02,  2.37878747e-02,\n",
       "        -1.11189988e-02, -6.63123047e-03, -1.49280638e-01,\n",
       "         8.00806358e-02,  3.21855885e-03,  1.14800677e-01,\n",
       "         4.70678322e-02,  7.22770840e-02, -1.24792652e-02,\n",
       "         5.53024225e-02, -1.77051835e-02,  6.59672245e-02,\n",
       "        -3.84586453e-02, -4.58545350e-02,  2.50967033e-02,\n",
       "        -4.08441275e-02,  1.92276519e-02, -2.00137068e-02,\n",
       "         1.78930331e-02, -3.20861749e-02, -6.85683861e-02,\n",
       "         3.23059633e-02,  1.14220351e-01,  9.56388284e-03,\n",
       "         2.88814418e-02,  4.21950333e-02, -5.91570325e-02,\n",
       "        -5.30108286e-04, -6.08441308e-02, -8.39104429e-02,\n",
       "         5.55319563e-02,  5.94271316e-33, -8.67262669e-03,\n",
       "         1.29932016e-01,  7.49126896e-02, -1.50139071e-03,\n",
       "        -4.74362299e-02, -4.85499017e-03,  9.00425576e-03,\n",
       "        -5.07737026e-02, -2.22552684e-03,  2.88055111e-02,\n",
       "         6.60823062e-02,  4.50980291e-02, -5.36050741e-03,\n",
       "        -1.16245069e-01, -9.06059146e-02, -1.89046208e-02,\n",
       "         7.11654872e-02,  4.58255634e-02,  2.18812618e-02,\n",
       "         5.13562784e-02,  7.69356042e-02, -4.95754853e-02,\n",
       "         1.66382939e-02, -4.45230007e-02,  5.64700505e-03,\n",
       "        -1.47289205e-02, -3.06012761e-03, -2.12576278e-02,\n",
       "        -1.27570145e-02, -2.39950828e-02, -5.32895811e-02,\n",
       "         7.84834996e-02,  1.97863784e-02, -1.14448622e-01,\n",
       "         1.48088345e-02,  1.77902225e-02,  2.46069450e-02,\n",
       "        -3.44972461e-02, -5.38949389e-03,  6.50804564e-02,\n",
       "        -4.11229581e-02, -4.89989221e-02,  8.10312629e-02,\n",
       "        -7.09572062e-02, -2.24682968e-02, -1.84331946e-02,\n",
       "         1.06144696e-01,  3.79728712e-02,  1.78848818e-01,\n",
       "        -4.46884334e-02, -5.40289395e-02, -4.02823128e-02,\n",
       "        -7.71749914e-02,  1.92123884e-03, -4.61578183e-02,\n",
       "        -9.24781859e-02, -4.34413785e-03,  8.54001939e-03,\n",
       "         4.10696119e-02, -5.05043119e-02,  3.69628221e-02,\n",
       "        -1.14547968e-01, -6.32969365e-02,  5.31741492e-02,\n",
       "        -4.40811999e-02, -7.98676610e-02, -2.72204634e-02,\n",
       "        -2.43470203e-02,  2.29416285e-02, -3.75264627e-03,\n",
       "        -2.98917796e-02,  5.05753644e-02,  1.21714026e-01,\n",
       "        -4.72609885e-02,  3.02893277e-02,  7.19674155e-02,\n",
       "         1.97753124e-03,  5.34685291e-02,  7.10304007e-02,\n",
       "         8.98363814e-02, -2.44761389e-02,  5.19793220e-02,\n",
       "         2.69301459e-02,  2.42332481e-02,  2.55799536e-02,\n",
       "         4.68027592e-02,  4.99989390e-02,  4.42497879e-02,\n",
       "        -6.49423618e-03,  3.49781029e-02, -6.31456822e-02,\n",
       "         4.66343276e-02,  1.04550400e-03, -7.11761639e-02,\n",
       "         4.75086272e-02, -6.24854079e-33, -2.13824045e-02,\n",
       "         4.50528460e-03, -2.41276678e-02, -6.29522949e-02,\n",
       "         1.05840698e-01, -4.54601832e-03, -1.03824660e-02,\n",
       "         5.31746633e-02, -4.86485939e-03,  3.59987207e-02,\n",
       "         5.47611248e-03, -2.22037714e-02,  3.72119844e-02,\n",
       "        -7.48448968e-02, -4.89533357e-02, -4.71696481e-02,\n",
       "         6.53712377e-02, -8.31889436e-02,  5.15757687e-02,\n",
       "        -1.68598257e-02, -8.24883115e-03,  7.10582435e-02,\n",
       "        -9.28798784e-03,  2.03465410e-02,  5.61678410e-03,\n",
       "        -1.02538783e-02,  3.00914533e-02,  9.15991887e-03,\n",
       "        -4.73874845e-02,  2.35575289e-02, -6.95206076e-02,\n",
       "        -6.18024468e-02, -6.18080385e-02,  1.04792621e-02,\n",
       "         1.06222503e-01, -4.03017513e-02,  4.58026258e-03,\n",
       "        -4.12659273e-02, -4.99900766e-02,  5.12660593e-02,\n",
       "        -5.18474020e-02, -5.37089370e-02, -1.54318698e-02,\n",
       "         1.08000701e-02,  2.83632893e-03, -3.79907130e-03,\n",
       "         6.79823197e-03, -5.57560585e-02,  1.27316862e-02,\n",
       "         6.38086051e-02,  4.36034724e-02,  4.04147711e-03,\n",
       "        -2.81348620e-02, -4.12087440e-02,  9.70117468e-03,\n",
       "         1.39681192e-03,  1.16874456e-01, -5.66611290e-02,\n",
       "         1.07655199e-02, -2.51622777e-02, -5.37048690e-02,\n",
       "         3.10341287e-02,  2.59105535e-03,  4.86432435e-03,\n",
       "         8.31627622e-02,  2.96146125e-02,  5.76246642e-02,\n",
       "        -2.04440877e-02,  1.44877778e-02, -4.21860777e-02,\n",
       "        -2.00247974e-03, -8.55578668e-03, -3.47586721e-02,\n",
       "        -7.23702610e-02,  7.56618008e-02,  4.10714224e-02,\n",
       "        -2.22097081e-03, -7.05160797e-02,  5.73908985e-02,\n",
       "        -1.06227817e-02,  1.36066237e-02,  2.92873029e-02,\n",
       "        -4.22488526e-02,  1.80915073e-02, -1.89062878e-02,\n",
       "        -5.24802916e-02, -5.36420271e-02,  8.02930165e-03,\n",
       "         1.21823903e-02,  5.85213827e-04, -1.57034658e-02,\n",
       "        -3.14663611e-02,  7.59953186e-02,  2.13869140e-02,\n",
       "         1.83650274e-02, -3.92036910e-08,  3.75482179e-02,\n",
       "         8.63589998e-03,  2.74753273e-02, -7.71562234e-02,\n",
       "        -3.55026871e-02, -7.41926730e-02,  3.05316709e-02,\n",
       "        -3.52524407e-02,  4.95843105e-02,  1.35251144e-02,\n",
       "        -3.84545214e-02, -2.91234944e-02, -2.99258698e-02,\n",
       "         5.62565587e-03, -5.31973802e-02, -4.85044643e-02,\n",
       "         8.66890252e-02, -5.94093837e-03,  2.38306751e-03,\n",
       "        -3.51486169e-02,  1.34935917e-03, -2.80347951e-02,\n",
       "        -4.92876545e-02, -7.53594562e-02, -3.52639221e-02,\n",
       "         7.48154894e-02,  4.77991719e-03,  1.15851358e-01,\n",
       "         1.69073939e-02, -4.48068380e-02,  2.89355386e-02,\n",
       "        -2.89115533e-02,  3.15752812e-02,  4.92846547e-03,\n",
       "         3.30378823e-02, -7.48497471e-02, -8.95584282e-03,\n",
       "         1.15863020e-02, -5.21496404e-03, -5.41967573e-03,\n",
       "        -1.84682049e-02, -4.24184017e-02, -9.64264851e-03,\n",
       "         1.25150359e-03, -4.52347435e-02,  6.03057034e-02,\n",
       "        -1.93898734e-02, -9.81366187e-02, -6.10388666e-02,\n",
       "        -1.34802016e-03, -5.77787273e-02, -3.87590602e-02,\n",
       "         5.83733134e-02, -2.18910873e-02, -7.70964995e-02,\n",
       "         2.58309245e-02,  9.70367193e-02,  4.65288199e-02,\n",
       "         3.47930714e-02, -7.21586682e-03,  8.65908116e-02,\n",
       "        -6.31882101e-02, -9.32917222e-02, -5.24482504e-02]], dtype=float32)"
      ]
     },
     "execution_count": 8,
     "metadata": {},
     "output_type": "execute_result"
    }
   ],
   "source": [
    "greeting_encode"
   ]
  },
  {
   "cell_type": "markdown",
   "id": "e6c69ab4",
   "metadata": {},
   "source": [
    "### Calculate sentence similarity"
   ]
  },
  {
   "cell_type": "code",
   "execution_count": 9,
   "id": "0b8df42d",
   "metadata": {},
   "outputs": [],
   "source": [
    "def construct_sentence_vector(sentence, model):\n",
    "    return model.encode(sentence)"
   ]
  },
  {
   "cell_type": "code",
   "execution_count": 10,
   "id": "66c33f94",
   "metadata": {},
   "outputs": [],
   "source": [
    "def construct_dim_vector(descriptive_words, model):\n",
    "    return np.array([construct_sentence_vector(sentence, model) for sentence in descriptive_words]).mean(axis = 0)"
   ]
  },
  {
   "cell_type": "code",
   "execution_count": 11,
   "id": "89e442b8",
   "metadata": {},
   "outputs": [],
   "source": [
    "def euclidian_distance(X, Y):\n",
    "    return np.sqrt(np.sum(np.power(X-Y, 2)))"
   ]
  },
  {
   "cell_type": "code",
   "execution_count": 12,
   "id": "daa9b7b8",
   "metadata": {},
   "outputs": [],
   "source": [
    "def cosine_sim(X, Y):\n",
    "    return np.dot(X, Y)/(np.linalg.norm(X) * np.linalg.norm(Y))"
   ]
  },
  {
   "cell_type": "code",
   "execution_count": 23,
   "id": "9f838099",
   "metadata": {},
   "outputs": [],
   "source": [
    "def match_category(input_sentence, model, lexicon_type = \"greeting\",\n",
    "                  similarity_threshold = 0.4):\n",
    "    if lexicon_type == \"greeting\":\n",
    "        dic = greeting_lexicons\n",
    "    elif lexicon_type == \"ending\":\n",
    "        dic = ending_lexicons\n",
    "    new_vector = construct_sentence_vector(input_sentence, model)\n",
    "    similarity_ls = []\n",
    "    classes = []\n",
    "    for aspect, descriptive_words in dic.items():\n",
    "        classes.append(aspect)\n",
    "        cur_vector = construct_dim_vector(descriptive_words, model)\n",
    "        cur_similarity = cosine_sim(new_vector, cur_vector)\n",
    "        similarity_ls.append(cur_similarity)\n",
    "    max_similarity = max(similarity_ls)\n",
    "    if max_similarity < similarity_threshold:\n",
    "        return (\"no_matching\", input_sentence)\n",
    "    result_classes = classes[similarity_ls.index(max_similarity)]\n",
    "    return [result_classes, input_sentence]"
   ]
  },
  {
   "cell_type": "code",
   "execution_count": 24,
   "id": "74270144",
   "metadata": {},
   "outputs": [],
   "source": [
    "def batch_match_category(sentence_ls, model, lexicon_type = \"greeting\"):\n",
    "    result_ls = []\n",
    "    for sentence in sentence_ls:\n",
    "        result_ls.append(match_category(sentence, model, lexicon_type))\n",
    "    return result_ls"
   ]
  },
  {
   "cell_type": "code",
   "execution_count": 25,
   "id": "33ae2cb6",
   "metadata": {},
   "outputs": [],
   "source": [
    "# result_ls is the result of batch_match_category function\n",
    "# bool_group = True: group sentences with same label together\n",
    "def nlp_aspect_matching(sentence_ls, model, lexicon_type = \"greeting\", bool_group = True):\n",
    "    result_ls = batch_match_category(sentence_ls, model, lexicon_type) # generate label for each sentence\n",
    "    if not bool_group or len(result_ls) == 1: # if the user don't want to cluster same label sentences, just return the result_ls,     # Or if the result_ls only contains one sentence, just return it\n",
    "        return result_ls\n",
    "    else: # If there are more than 1 sentence in the list and bool_group = True\n",
    "        new_result_ls = cluster_category(result_ls)\n",
    "        return new_result_ls"
   ]
  },
  {
   "cell_type": "code",
   "execution_count": 26,
   "id": "7b48dd3b",
   "metadata": {},
   "outputs": [],
   "source": [
    "# Assume match_result_ls has length > 1\n",
    "# Cluster contigious sentences with same category together\n",
    "def cluster_category(match_result_ls):\n",
    "    sen_store = match_result_ls[0][1]\n",
    "    temp_label = match_result_ls[0][0]\n",
    "    new_result_ls = []\n",
    "    for i in range(1, len(match_result_ls)):\n",
    "        cur_label = match_result_ls[i][0]\n",
    "        cur_sen = match_result_ls[i][1]\n",
    "        if cur_label == temp_label:\n",
    "            sen_store += \" \" + cur_sen\n",
    "        else:\n",
    "            new_result_ls.append([temp_label, sen_store])\n",
    "            sen_store = cur_sen\n",
    "            temp_label = cur_label\n",
    "    if sen_store:\n",
    "        new_result_ls.append([temp_label, sen_store])\n",
    "    return new_result_ls"
   ]
  },
  {
   "cell_type": "code",
   "execution_count": 28,
   "id": "32379d97",
   "metadata": {},
   "outputs": [
    {
     "name": "stdout",
     "output_type": "stream",
     "text": [
      "[['opening', 'ya hello good afternoon speak to nanny seah'], ['no_matching', 'please afternoon miss nanny my name is jaguar shao and'], ['purpose_of_call', 'i m actually calling from insurance company miss nanny good time to speak for a while this is regarding our partnership charter_plus members and as a result of that insurance company actually formulated a very special thirtieth anniversay insurance bundle right called the i thirty \\n']]\n"
     ]
    }
   ],
   "source": [
    "# test above function from mapping sentence to each category\n",
    "greeting_ls = ['ya hello good afternoon speak to nanny seah', 'please afternoon miss nanny my name is jaguar shao and', 'i m actually calling from insurance company miss nanny good time to speak for a while this is regarding our partnership charter_plus members and', 'as a result of that insurance company actually formulated a very special thirtieth anniversay insurance bundle right called the i thirty \\n']\n",
    "category_ls = nlp_aspect_matching(greeting_ls, sentence_model, \"greeting\", True)\n",
    "print(category_ls)"
   ]
  },
  {
   "cell_type": "code",
   "execution_count": 30,
   "id": "984aa17a",
   "metadata": {},
   "outputs": [],
   "source": [
    "greeting_ls2 = ['hello good afternoon just speak to miss leon michael from income ntuc free for one_or_two minutes if you are not busy', 'okay calling behalf of your adviser xiao guo', 'okay because we having this anniversary plan for the family i just check again you are single_or_married \\n']"
   ]
  },
  {
   "cell_type": "code",
   "execution_count": 31,
   "id": "ec6a4722",
   "metadata": {},
   "outputs": [
    {
     "name": "stdout",
     "output_type": "stream",
     "text": [
      "[['opening', 'hello good afternoon just speak to miss leon michael from income ntuc free for one_or_two minutes if you are not busy'], ['no_matching', 'okay calling behalf of your adviser xiao guo'], ['purpose_of_call', 'okay because we having this anniversary plan for the family i just check again you are single_or_married \\n']]\n"
     ]
    }
   ],
   "source": [
    "category_ls2 = nlp_aspect_matching(greeting_ls2, sentence_model, \"greeting\", True)\n",
    "print(category_ls2)"
   ]
  },
  {
   "cell_type": "code",
   "execution_count": 36,
   "id": "627944a4",
   "metadata": {},
   "outputs": [],
   "source": [
    "ending_ls = ['You just reconfirm with your husband whether you already have an enhanced home insurance or', 'not if already have then we can not cover for you oh ok I will call you back tomorrow', 'thank you bye \\n']"
   ]
  },
  {
   "cell_type": "code",
   "execution_count": 37,
   "id": "3084d851",
   "metadata": {},
   "outputs": [
    {
     "name": "stdout",
     "output_type": "stream",
     "text": [
      "[['no_matching', 'You just reconfirm with your husband whether you already have an enhanced home insurance or'], ['follow-up', 'not if already have then we can not cover for you oh ok I will call you back tomorrow'], ['closing', 'thank you bye \\n']]\n"
     ]
    }
   ],
   "source": [
    "category_ls3 = nlp_aspect_matching(ending_ls, sentence_model, \"ending\", True)\n",
    "print(category_ls3)"
   ]
  },
  {
   "cell_type": "code",
   "execution_count": 38,
   "id": "a78923dd",
   "metadata": {},
   "outputs": [],
   "source": [
    "ending_ls2 = ['So maybe if your friends or relatives or family members are interested you', 'can call back at this number lah this number you', 'can see from your phone lah thank you bye bye \\n']"
   ]
  },
  {
   "cell_type": "code",
   "execution_count": 39,
   "id": "6b555871",
   "metadata": {},
   "outputs": [
    {
     "name": "stdout",
     "output_type": "stream",
     "text": [
      "[['no_matching', 'So maybe if your friends or relatives or family members are interested you'], ['follow-up', 'can call back at this number lah this number you'], ['closing', 'can see from your phone lah thank you bye bye \\n']]\n"
     ]
    }
   ],
   "source": [
    "category_ls4 = nlp_aspect_matching(ending_ls2, sentence_model, \"ending\", True)\n",
    "print(category_ls4)"
   ]
  },
  {
   "cell_type": "code",
   "execution_count": null,
   "id": "45da198b",
   "metadata": {},
   "outputs": [],
   "source": []
  }
 ],
 "metadata": {
  "kernelspec": {
   "display_name": "venv2022",
   "language": "python",
   "name": "venv2022"
  },
  "language_info": {
   "codemirror_mode": {
    "name": "ipython",
    "version": 3
   },
   "file_extension": ".py",
   "mimetype": "text/x-python",
   "name": "python",
   "nbconvert_exporter": "python",
   "pygments_lexer": "ipython3",
   "version": "3.7.13"
  }
 },
 "nbformat": 4,
 "nbformat_minor": 5
}
