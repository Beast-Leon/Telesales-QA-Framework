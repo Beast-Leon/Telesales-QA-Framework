{
 "cells": [
  {
   "cell_type": "markdown",
   "id": "91f7fda7",
   "metadata": {},
   "source": [
    "## Outline:\n",
    "### 1. Input transcripts and grammars\n",
    "\n",
    "### 2. Sentencizer transcripts\n",
    "\n",
    "### 3. Mapping sentences to each category\n",
    "\n",
    "### 4. Calculate politeness score for each part"
   ]
  },
  {
   "cell_type": "code",
   "execution_count": 1,
   "id": "b2cb5090",
   "metadata": {},
   "outputs": [],
   "source": [
    "# Load packages\n",
    "import nltk\n",
    "import spacy\n",
    "\n",
    "# Load customized packages\n",
    "from customized_pos import *\n",
    "from pos_helper import *\n",
    "from aspect_matching import *\n",
    "from politeness_helper import *\n",
    "\n",
    "# Load spacy nlp model\n",
    "nlp = spacy.load('en_core_web_lg')\n",
    "nlp.add_pipe(pos_postprocessor_pipe, name=\"pos_postprocessor\", after='tagger')"
   ]
  },
  {
   "cell_type": "code",
   "execution_count": 2,
   "id": "a9601520",
   "metadata": {},
   "outputs": [],
   "source": [
    "# Load standardizer\n",
    "with open('other_collection/standardizer.pkl', 'rb') as f:\n",
    "    standardizer = pickle.load(f)    \n",
    "# Load custom model/data\n",
    "xgb_model = pickle.load(open('model_collection/final_xgb_v2.sav', 'rb'))"
   ]
  },
  {
   "cell_type": "markdown",
   "id": "a8c1a53c",
   "metadata": {},
   "source": [
    "### Section 1: Input transcripts and grammars"
   ]
  },
  {
   "cell_type": "code",
   "execution_count": 3,
   "id": "72544e7f",
   "metadata": {},
   "outputs": [],
   "source": [
    "transcripts = \"\"\"ya hello good afternoon speak to nanny seah please afternoon miss nanny my name is jaguar shao and im actually calling from insurance company miss nanny good time to speak for a while this is regarding our partnership charter_plus members and as a result of that insurance company actually formulated a very special thirtieth anniversay insurance bundle right called the i thirty\"\"\""
   ]
  },
  {
   "cell_type": "code",
   "execution_count": 4,
   "id": "ffec103b",
   "metadata": {},
   "outputs": [],
   "source": [
    "grammars = r\"\"\" \n",
    "    NP: {<PRP.*|DT|JJ|NN.*>+}\n",
    "    PP: {<IN|TO|RP><NP|VB.*>} \n",
    "    VP: {<VB.*|RB.*>+<PP|NP>*}\n",
    "    Sentence: {<UH>*<NP>+<MD>*<VP|PP|NP>+}\n",
    "    Sentence: {<PP|VP|NP>+}\n",
    "    Question: {<MD|WDT|DP|WRB|><MD>*<Sentence|NP|PP|VP>}\n",
    "\"\"\""
   ]
  },
  {
   "cell_type": "markdown",
   "id": "f970398c",
   "metadata": {},
   "source": [
    "### Section 2: Sentencizer transcripts"
   ]
  },
  {
   "cell_type": "code",
   "execution_count": 5,
   "id": "da792375",
   "metadata": {},
   "outputs": [
    {
     "name": "stdout",
     "output_type": "stream",
     "text": [
      "full result:  [('Sentence', 'ya hello good afternoon speak to nanny seah'), ('Sentence', 'please afternoon miss nanny my name is jaguar shao and'), ('Sentence', 'i m actually calling from insurance company miss nanny good time to speak for a while this is regarding our partnership charter_plus members and'), ('Sentence', 'as a result of that insurance company actually formulated a very special thirtieth anniversay insurance bundle right called the i thirty')]\n",
      "\n",
      "\n",
      "only text result:  ['ya hello good afternoon speak to nanny seah', 'please afternoon miss nanny my name is jaguar shao and', 'i m actually calling from insurance company miss nanny good time to speak for a while this is regarding our partnership charter_plus members and', 'as a result of that insurance company actually formulated a very special thirtieth anniversay insurance bundle right called the i thirty']\n"
     ]
    }
   ],
   "source": [
    "full_result = nlp_sentencizer(transcripts, grammars, nlp)\n",
    "text_result = list(map(lambda x: x[1], full_result))\n",
    "print(\"full result: \", full_result)\n",
    "print(\"\\n\")\n",
    "print(\"only text result: \", text_result)"
   ]
  },
  {
   "cell_type": "markdown",
   "id": "a9d0eed2",
   "metadata": {},
   "source": [
    "### Section 3: Mapping sentences to each category (standard greetings, state purpose, ask for permission to speak)"
   ]
  },
  {
   "cell_type": "code",
   "execution_count": 6,
   "id": "d2a9f2eb",
   "metadata": {},
   "outputs": [],
   "source": [
    "category_ls = batch_match_category(text_result, nlp, \"greeting\")"
   ]
  },
  {
   "cell_type": "code",
   "execution_count": 7,
   "id": "24f129e7",
   "metadata": {},
   "outputs": [
    {
     "data": {
      "text/plain": [
       "[('opening', 'ya hello good afternoon speak to nanny seah'),\n",
       " ('opening', 'please afternoon miss nanny my name is jaguar shao and'),\n",
       " ('purpose_of_call',\n",
       "  'i m actually calling from insurance company miss nanny good time to speak for a while this is regarding our partnership charter_plus members and'),\n",
       " ('purpose_of_call',\n",
       "  'as a result of that insurance company actually formulated a very special thirtieth anniversay insurance bundle right called the i thirty')]"
      ]
     },
     "execution_count": 7,
     "metadata": {},
     "output_type": "execute_result"
    }
   ],
   "source": [
    "category_ls"
   ]
  },
  {
   "cell_type": "code",
   "execution_count": 8,
   "id": "6728160c",
   "metadata": {},
   "outputs": [
    {
     "data": {
      "text/plain": [
       "[('opening',\n",
       "  'ya hello good afternoon speak to nanny seah please afternoon miss nanny my name is jaguar shao and'),\n",
       " ('purpose_of_call',\n",
       "  'ya hello good afternoon speak to nanny seah please afternoon miss nanny my name is jaguar shao and as a result of that insurance company actually formulated a very special thirtieth anniversay insurance bundle right called the i thirty')]"
      ]
     },
     "execution_count": 8,
     "metadata": {},
     "output_type": "execute_result"
    }
   ],
   "source": [
    "new_category_ls = nlp_aspect_matching(text_result, nlp, 'greeting', True)\n",
    "new_category_ls"
   ]
  },
  {
   "cell_type": "markdown",
   "id": "33e49d3d",
   "metadata": {},
   "source": [
    "### Section 4: Calculate politeness score for each part"
   ]
  },
  {
   "cell_type": "code",
   "execution_count": 9,
   "id": "2b692479",
   "metadata": {},
   "outputs": [
    {
     "data": {
      "text/plain": [
       "[('opening',\n",
       "  'ya hello good afternoon speak to nanny seah please afternoon miss nanny my name is jaguar shao and',\n",
       "  'polite'),\n",
       " ('purpose_of_call',\n",
       "  'ya hello good afternoon speak to nanny seah please afternoon miss nanny my name is jaguar shao and as a result of that insurance company actually formulated a very special thirtieth anniversay insurance bundle right called the i thirty',\n",
       "  'polite')]"
      ]
     },
     "execution_count": 9,
     "metadata": {},
     "output_type": "execute_result"
    }
   ],
   "source": [
    "politeness_ls = nlp_politeness(new_category_ls, xgb_model, nlp, standardizer, \"int\", 0.45)\n",
    "politeness_ls"
   ]
  },
  {
   "cell_type": "markdown",
   "id": "f3a7acb3",
   "metadata": {},
   "source": [
    "### Print result"
   ]
  },
  {
   "cell_type": "code",
   "execution_count": 10,
   "id": "0f06f019",
   "metadata": {},
   "outputs": [
    {
     "name": "stdout",
     "output_type": "stream",
     "text": [
      "Current Category:  opening\n",
      "Current Sentence:  ya hello good afternoon speak to nanny seah please afternoon miss nanny my name is jaguar shao and\n",
      "Current Politeness Score:  polite\n",
      "\n",
      "\n",
      "Current Category:  purpose_of_call\n",
      "Current Sentence:  ya hello good afternoon speak to nanny seah please afternoon miss nanny my name is jaguar shao and as a result of that insurance company actually formulated a very special thirtieth anniversay insurance bundle right called the i thirty\n",
      "Current Politeness Score:  polite\n",
      "\n",
      "\n"
     ]
    }
   ],
   "source": [
    "for category, sentence, politeness in politeness_ls:\n",
    "    print(\"Current Category: \", category)\n",
    "    print(\"Current Sentence: \", sentence)\n",
    "    print(\"Current Politeness Score: \", politeness)\n",
    "    print(\"\\n\")"
   ]
  },
  {
   "cell_type": "code",
   "execution_count": null,
   "id": "4c7de4ba",
   "metadata": {},
   "outputs": [],
   "source": []
  }
 ],
 "metadata": {
  "kernelspec": {
   "display_name": "venv2022",
   "language": "python",
   "name": "venv2022"
  },
  "language_info": {
   "codemirror_mode": {
    "name": "ipython",
    "version": 3
   },
   "file_extension": ".py",
   "mimetype": "text/x-python",
   "name": "python",
   "nbconvert_exporter": "python",
   "pygments_lexer": "ipython3",
   "version": "3.7.13"
  }
 },
 "nbformat": 4,
 "nbformat_minor": 5
}
