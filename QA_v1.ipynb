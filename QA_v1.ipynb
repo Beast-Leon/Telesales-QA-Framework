{
 "cells": [
  {
   "cell_type": "markdown",
   "id": "83b42618",
   "metadata": {},
   "source": [
    "## Outline:\n",
    "### 1. Input transcripts and grammars\n",
    "\n",
    "### 2. Sentencizer transcripts\n",
    "\n",
    "### 3. Mapping sentences to each category\n",
    "\n",
    "### 4. Calculate politeness score for each part"
   ]
  },
  {
   "cell_type": "code",
   "execution_count": 1,
   "id": "4a192525",
   "metadata": {},
   "outputs": [
    {
     "name": "stderr",
     "output_type": "stream",
     "text": [
      "/opt/anaconda3/envs/tensorflow/lib/python3.7/site-packages/tqdm/auto.py:22: TqdmWarning: IProgress not found. Please update jupyter and ipywidgets. See https://ipywidgets.readthedocs.io/en/stable/user_install.html\n",
      "  from .autonotebook import tqdm as notebook_tqdm\n"
     ]
    },
    {
     "data": {
      "text/plain": [
       "<function customized_pos.pos_postprocessor_pipe(doc)>"
      ]
     },
     "execution_count": 1,
     "metadata": {},
     "output_type": "execute_result"
    }
   ],
   "source": [
    "# Load packages\n",
    "import nltk\n",
    "import spacy\n",
    "\n",
    "# Load customized packages\n",
    "from customized_pos import *\n",
    "from pos_helper import *\n",
    "from aspect_matching import *\n",
    "from politeness_helper import *\n",
    "\n",
    "# Load spacy nlp model\n",
    "nlp = spacy.load('en_core_web_lg')\n",
    "# nlp.add_pipe(pos_postprocessor_pipe, name=\"pos_postprocessor\", after='tagger')\n",
    "nlp.add_pipe(\"pos_postprocessor_pipe\", after='tagger')"
   ]
  },
  {
   "cell_type": "code",
   "execution_count": 2,
   "id": "563ba444",
   "metadata": {},
   "outputs": [],
   "source": [
    "# Load standardizer\n",
    "with open('other_collection/standardizer.pkl', 'rb') as f:\n",
    "    standardizer = pickle.load(f)    \n",
    "# Load custom model/data\n",
    "xgb_model = pickle.load(open('model_collection/final_xgb_v2.sav', 'rb'))"
   ]
  },
  {
   "cell_type": "markdown",
   "id": "e58065b1",
   "metadata": {},
   "source": [
    "### Section 1: Input transcripts and grammars"
   ]
  },
  {
   "cell_type": "code",
   "execution_count": 3,
   "id": "862f553a",
   "metadata": {},
   "outputs": [],
   "source": [
    "transcripts = \"\"\"ya hello good afternoon speak to nanny seah please afternoon miss nanny my name is jaguar shao and im actually calling from insurance company miss nanny good time to speak for a while this is regarding our partnership charter_plus members and as a result of that insurance company actually formulated a very special thirtieth anniversay insurance bundle right called the i thirty\"\"\""
   ]
  },
  {
   "cell_type": "code",
   "execution_count": 4,
   "id": "e195c41b",
   "metadata": {},
   "outputs": [],
   "source": [
    "grammars = r\"\"\" \n",
    "    NP: {<PRP.*|DT|JJ|NN.*>+}\n",
    "    PP: {<IN|TO|RP><NP|VB.*>} \n",
    "    VP: {<VB.*|RB.*>+<PP|NP>*}\n",
    "    Sentence: {<UH>*<NP>+<MD>*<VP|PP|NP>+}\n",
    "    Sentence: {<PP|VP|NP>+}\n",
    "    Question: {<MD|WDT|DP|WRB|><MD>*<Sentence|NP|PP|VP>}\n",
    "\"\"\""
   ]
  },
  {
   "cell_type": "markdown",
   "id": "b415191b",
   "metadata": {},
   "source": [
    "### Section 2: Sentencizer transcripts"
   ]
  },
  {
   "cell_type": "code",
   "execution_count": 5,
   "id": "f6ecdeca",
   "metadata": {},
   "outputs": [
    {
     "name": "stdout",
     "output_type": "stream",
     "text": [
      "(S\n",
      "  (Sentence\n",
      "    ya/UH\n",
      "    hello/UH\n",
      "    (NP good/JJ afternoon/NN)\n",
      "    (VP speak/VBP (PP to/IN (NP nanny/NNP seah/NNP))))\n",
      "  (Sentence\n",
      "    please/UH\n",
      "    (NP afternoon/NN)\n",
      "    (VP miss/VB (NP nanny/NN my/PRP$ name/NN))\n",
      "    (VP is/VBZ (NP jaguar/NNP shao/NNP)))\n",
      "  and/CC\n",
      "  (Sentence\n",
      "    (NP i/PRP)\n",
      "    (VP\n",
      "      m/VBP\n",
      "      actually/RB\n",
      "      calling/VBG\n",
      "      (PP from/IN (NP insurance/NN company/NN)))\n",
      "    (VP\n",
      "      miss/VBP\n",
      "      (NP nanny/NN good/JJ time/NN)\n",
      "      (PP to/TO speak/VB)\n",
      "      (PP for/IN (NP a/DT while/NN this/DT)))\n",
      "    (VP\n",
      "      is/VBZ\n",
      "      regarding/VBG\n",
      "      (NP our/PRP$ partnership/NN charter_plus/NN members/NNS)))\n",
      "  and/CC\n",
      "  (Sentence\n",
      "    (PP as/IN (NP a/DT result/NN))\n",
      "    (PP of/IN (NP that/DT insurance/NN company/NN))\n",
      "    (VP actually/RB formulated/VBD (NP a/DT))\n",
      "    (VP\n",
      "      very/RB\n",
      "      (NP\n",
      "        special/JJ\n",
      "        thirtieth/JJ\n",
      "        anniversay/NNP\n",
      "        insurance/NNP\n",
      "        bundle/NNP))\n",
      "    (VP right/RB called/VBN (NP the/DT i/NNP)))\n",
      "  thirty/CD)\n",
      "full result:  [('Sentence', 'ya hello good afternoon speak to nanny seah'), ('Sentence', 'please afternoon miss nanny my name is jaguar shao and'), ('Sentence', 'i m actually calling from insurance company miss nanny good time to speak for a while this is regarding our partnership charter_plus members and'), ('Sentence', 'as a result of that insurance company actually formulated a very special thirtieth anniversay insurance bundle right called the i thirty')]\n",
      "\n",
      "\n",
      "only text result:  ['ya hello good afternoon speak to nanny seah', 'please afternoon miss nanny my name is jaguar shao and', 'i m actually calling from insurance company miss nanny good time to speak for a while this is regarding our partnership charter_plus members and', 'as a result of that insurance company actually formulated a very special thirtieth anniversay insurance bundle right called the i thirty']\n"
     ]
    }
   ],
   "source": [
    "full_result = nlp_sentencizer(transcripts, grammars, nlp)\n",
    "text_result = list(map(lambda x: x[1], full_result))\n",
    "print(\"full result: \", full_result)\n",
    "print(\"\\n\")\n",
    "print(\"only text result: \", text_result)"
   ]
  },
  {
   "cell_type": "markdown",
   "id": "0f4a8d5c",
   "metadata": {},
   "source": [
    "### Section 3: Mapping sentences to each category (standard greetings, state purpose, ask for permission to speak)"
   ]
  },
  {
   "cell_type": "code",
   "execution_count": 6,
   "id": "6dde6053",
   "metadata": {},
   "outputs": [
    {
     "name": "stdout",
     "output_type": "stream",
     "text": [
      "[0.78770024, 0.54077864, 0.78323364]\n",
      "[0.6406816, 0.66061425, 0.6163679]\n",
      "[0.87054694, 0.90663826, 0.7614186]\n",
      "[0.7013029, 0.9084571, 0.588287]\n"
     ]
    }
   ],
   "source": [
    "category_ls = batch_match_category(text_result, nlp, \"greeting\")"
   ]
  },
  {
   "cell_type": "code",
   "execution_count": 7,
   "id": "945b0891",
   "metadata": {},
   "outputs": [
    {
     "data": {
      "text/plain": [
       "[('ask_for_permission', 'ya hello good afternoon speak to nanny seah'),\n",
       " ('purpose_of_call', 'please afternoon miss nanny my name is jaguar shao and'),\n",
       " ('purpose_of_call',\n",
       "  'i m actually calling from insurance company miss nanny good time to speak for a while this is regarding our partnership charter_plus members and'),\n",
       " ('purpose_of_call',\n",
       "  'as a result of that insurance company actually formulated a very special thirtieth anniversay insurance bundle right called the i thirty')]"
      ]
     },
     "execution_count": 7,
     "metadata": {},
     "output_type": "execute_result"
    }
   ],
   "source": [
    "category_ls"
   ]
  },
  {
   "cell_type": "code",
   "execution_count": 9,
   "id": "f4db41ce",
   "metadata": {},
   "outputs": [
    {
     "data": {
      "text/plain": [
       "[('ask_for_permission', 'ya hello good afternoon speak to nanny seah'),\n",
       " ('purpose_of_call', 'please afternoon miss nanny my name is jaguar shao and'),\n",
       " ('purpose_of_call',\n",
       "  ' i m actually calling from insurance company miss nanny good time to speak for a while this is regarding our partnership charter_plus members and as a result of that insurance company actually formulated a very special thirtieth anniversay insurance bundle right called the i thirty')]"
      ]
     },
     "execution_count": 9,
     "metadata": {},
     "output_type": "execute_result"
    }
   ],
   "source": [
    "new_category_ls = nlp_aspect_matching(text_result, nlp, 'greeting', True)\n",
    "new_category_ls"
   ]
  },
  {
   "cell_type": "markdown",
   "id": "b5210502",
   "metadata": {},
   "source": [
    "### Section 4: Calculate politeness score for each part"
   ]
  },
  {
   "cell_type": "code",
   "execution_count": 10,
   "id": "cb8f56ee",
   "metadata": {},
   "outputs": [
    {
     "data": {
      "text/plain": [
       "[('ask_for_permission',\n",
       "  'ya hello good afternoon speak to nanny seah',\n",
       "  'polite'),\n",
       " ('purpose_of_call',\n",
       "  'please afternoon miss nanny my name is jaguar shao and',\n",
       "  'polite'),\n",
       " ('purpose_of_call',\n",
       "  ' i m actually calling from insurance company miss nanny good time to speak for a while this is regarding our partnership charter_plus members and as a result of that insurance company actually formulated a very special thirtieth anniversay insurance bundle right called the i thirty',\n",
       "  'polite')]"
      ]
     },
     "execution_count": 10,
     "metadata": {},
     "output_type": "execute_result"
    }
   ],
   "source": [
    "politeness_ls = nlp_politeness(new_category_ls, xgb_model, nlp, standardizer, \"int\", 0.4)\n",
    "politeness_ls"
   ]
  },
  {
   "cell_type": "markdown",
   "id": "544c0260",
   "metadata": {},
   "source": [
    "### Print result"
   ]
  },
  {
   "cell_type": "code",
   "execution_count": 14,
   "id": "c6cced3e",
   "metadata": {},
   "outputs": [
    {
     "name": "stdout",
     "output_type": "stream",
     "text": [
      "Current Category:  opening\n",
      "Current Sentence:  ya hello good afternoon speak to nanny seah please afternoon miss nanny my name is jaguar shao and\n",
      "Current Politeness Score:  polite\n",
      "\n",
      "\n",
      "Current Category:  purpose_of_call\n",
      "Current Sentence:   as a result of that insurance company actually formulated a very special thirtieth anniversay insurance bundle right called the i thirty\n",
      "Current Politeness Score:  polite\n",
      "\n",
      "\n"
     ]
    }
   ],
   "source": [
    "for category, sentence, politeness in politeness_ls:\n",
    "    print(\"Current Category: \", category)\n",
    "    print(\"Current Sentence: \", sentence)\n",
    "    print(\"Current Politeness Score: \", politeness)\n",
    "    print(\"\\n\")"
   ]
  },
  {
   "cell_type": "code",
   "execution_count": null,
   "id": "56ca64d5",
   "metadata": {},
   "outputs": [],
   "source": []
  }
 ],
 "metadata": {
  "kernelspec": {
   "display_name": "venv2022",
   "language": "python",
   "name": "venv2022"
  },
  "language_info": {
   "codemirror_mode": {
    "name": "ipython",
    "version": 3
   },
   "file_extension": ".py",
   "mimetype": "text/x-python",
   "name": "python",
   "nbconvert_exporter": "python",
   "pygments_lexer": "ipython3",
   "version": "3.7.13"
  }
 },
 "nbformat": 4,
 "nbformat_minor": 5
}
