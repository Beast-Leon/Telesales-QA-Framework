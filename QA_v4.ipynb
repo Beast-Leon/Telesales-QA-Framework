{
 "cells": [
  {
   "cell_type": "markdown",
   "id": "08ad0963",
   "metadata": {},
   "source": [
    "## Outline\n",
    "\n",
    "1. Input the whole transcipts\n",
    "2. Cut the first several lines as opening, and the last several lines as closing\n",
    "3. Do sentence seperation, category matching, sentiment analysis on each part\n",
    "4. Save the score config file"
   ]
  },
  {
   "cell_type": "code",
   "execution_count": 1,
   "id": "74488b1c",
   "metadata": {},
   "outputs": [
    {
     "name": "stderr",
     "output_type": "stream",
     "text": [
      "/opt/anaconda3/envs/tensorflow/lib/python3.7/site-packages/tqdm/auto.py:22: TqdmWarning: IProgress not found. Please update jupyter and ipywidgets. See https://ipywidgets.readthedocs.io/en/stable/user_install.html\n",
      "  from .autonotebook import tqdm as notebook_tqdm\n"
     ]
    }
   ],
   "source": [
    "# Load packages\n",
    "import nltk\n",
    "import spacy\n",
    "from sentence_transformers import SentenceTransformer\n",
    "from transformers import AutoModelForSequenceClassification, AutoTokenizer\n",
    "import torch\n",
    "import torch.nn\n",
    "\n",
    "import sys\n",
    "sys.path.insert(0, '/Users/leon/Income/python files/Telesales-QA-Framework')\n",
    "import os\n",
    "\n",
    "# Load customized file\n",
    "from helper.customized_pos import *\n",
    "from helper.pos_helper import *\n",
    "from helper.grammar import *\n",
    "from helper.aspect_matching import *\n",
    "from helper.sentiment_helper import *\n",
    "from helper.score_generation import *\n",
    "from helper.text_preprocessing import *\n",
    "from model_code.distilbert import *\n",
    "from helper.config_helper import *"
   ]
  },
  {
   "cell_type": "code",
   "execution_count": 2,
   "id": "a0dfcbc2",
   "metadata": {},
   "outputs": [],
   "source": [
    "# model path\n",
    "sentiment_path = \"../model_collection/sentiment_model/fine_tune_disbert.pt\"\n",
    "transcript_name = \"VL220822.txt\"\n",
    "# transcript path\n",
    "transcript_path = os.path.join(\"transcripts\", transcript_name)"
   ]
  },
  {
   "cell_type": "code",
   "execution_count": 3,
   "id": "9d1d8b14",
   "metadata": {},
   "outputs": [],
   "source": [
    "# Load model\n",
    "sentiment_tokenizer = AutoTokenizer.from_pretrained(\"../model_collection/sentiment_tokenizer\")\n",
    "sentiment_model = AutoModelForSequenceClassification.from_pretrained(\"../model_collection/sentiment_model/\")\n",
    "sentiment_model = disbert_arch(sentiment_model)\n",
    "sentiment_model.load_state_dict(torch.load(sentiment_path))\n",
    "\n",
    "nlp = spacy.load('en_core_web_lg')\n",
    "sentence_model = SentenceTransformer(\"../model_collection/sentence_model\")"
   ]
  },
  {
   "cell_type": "code",
   "execution_count": 4,
   "id": "de0d4e3b",
   "metadata": {},
   "outputs": [],
   "source": [
    "# Add customized rules to the spacy model\n",
    "add_pos(pos_ls, nlp)"
   ]
  },
  {
   "cell_type": "code",
   "execution_count": 5,
   "id": "85e0a52a",
   "metadata": {},
   "outputs": [],
   "source": [
    "# Load config\n",
    "general_config = load_yaml('config/general_config.yaml')\n",
    "threshold_config = general_config[0]['similarity_threshold']"
   ]
  },
  {
   "cell_type": "markdown",
   "id": "91323588",
   "metadata": {},
   "source": [
    "## Input transcripts and text processing"
   ]
  },
  {
   "cell_type": "code",
   "execution_count": 6,
   "id": "863d451a",
   "metadata": {},
   "outputs": [],
   "source": [
    "with open(transcript_path) as f:\n",
    "    transcript = f.read()\n",
    "# Text preprocessing\n",
    "transcript = text_preprocessing(transcript)"
   ]
  },
  {
   "cell_type": "code",
   "execution_count": 7,
   "id": "45a4764b",
   "metadata": {},
   "outputs": [
    {
     "name": "stdout",
     "output_type": "stream",
     "text": [
      "okay this is alice here coming from income ntuc income okay currently we partnership with ocbc plus can i check with you if you a good time to speak for a while first of course thank you for using ocbc okay and then secondly as a valued customer we would like to actually update and also give you a priority okay because in year twenty twenty right income actually celebrate our fiftieth annivesary okay and then in that particular year we actually came out a very very special anniversary policy called i fifty okay of course i stand for income income fifty means for fifty years alright okay miss junar even you already have a existing policy right okay then we even make it very very special because we can cover for your whole family member at one flat premium okay and this regardless of your age secondly right we garden to how many dependent are children you have as well as regardless of your occupation and also your occupation economic security is an important pillar of national and regional security tsai said taiwan is willing and able to strengthen cooperation with democratic partners in building sustainable supply chains for democracy chips holcomb talked of the efforts his state is making in supporting the tech industry pointing to a june announcement by taiwans mediatek the worlds fourth largest chip designer by revenue of a new design centre in indiana in partnership with purdue university we look so forward to working with them in designing the future he said taiwan has been keen to show the united states its most important international backer that it is a reliable friend as a global chip crunch impacts auto production and consumer electronics so the policy will be effective tokay lah you mean this policy i help you apply right now once i submit the application and then i sent you the policy number sure meaning it is approved but we will deduct the premium within three working days you will receive the policy documents via sms or email in three working days please ensure all information is correct lets say if you have any issues or questions you can call me again yah ok do you still have any questions for me i will just help you with the application and send you the policy information shortly thank you so much bye bye\n"
     ]
    }
   ],
   "source": [
    "print(transcript)"
   ]
  },
  {
   "cell_type": "markdown",
   "id": "82210c28",
   "metadata": {},
   "source": [
    "## Find opening and closing parts"
   ]
  },
  {
   "cell_type": "code",
   "execution_count": 8,
   "id": "a3c47fdb",
   "metadata": {},
   "outputs": [
    {
     "data": {
      "text/plain": [
       "'okay this is alice here coming from income ntuc income okay currently we partnership with ocbc plus can i check with you if you a good time to speak for a while first of course thank you for using ocbc okay and then secondly as a valued customer we would like to actually update and also give you a priority okay because in year twenty twenty right income actually celebrate our fiftieth annivesary okay and then in that particular year we actually came out a very very special anniversary policy called i fifty okay of course i stand for income income fifty means for fifty years alright okay miss junar even you already have a existing policy right okay then we even make it very very special because we can cover for your whole family member at one flat premium okay and this regardless of your age secondly right we garden to how many dependent are children you have as well as regardless of your occupation and also your occupation economic security is an important pillar of national and region'"
      ]
     },
     "execution_count": 8,
     "metadata": {},
     "output_type": "execute_result"
    }
   ],
   "source": [
    "opening = transcript[:1000]\n",
    "opening"
   ]
  },
  {
   "cell_type": "code",
   "execution_count": 9,
   "id": "debbecd9",
   "metadata": {},
   "outputs": [
    {
     "data": {
      "text/plain": [
       "'er electronics so the policy will be effective tokay lah you mean this policy i help you apply right now once i submit the application and then i sent you the policy number sure meaning it is approved but we will deduct the premium within three working days you will receive the policy documents via sms or email in three working days please ensure all information is correct lets say if you have any issues or questions you can call me again yah ok do you still have any questions for me i will just help you with the application and send you the policy information shortly thank you so much bye bye'"
      ]
     },
     "execution_count": 9,
     "metadata": {},
     "output_type": "execute_result"
    }
   ],
   "source": [
    "ending = transcript[-600:]\n",
    "ending"
   ]
  },
  {
   "cell_type": "markdown",
   "id": "c048384b",
   "metadata": {},
   "source": [
    "## Sentencizer"
   ]
  },
  {
   "cell_type": "code",
   "execution_count": 10,
   "id": "f12e72fc",
   "metadata": {},
   "outputs": [
    {
     "data": {
      "text/plain": [
       "[' okay this is alice here coming from income ntuc income',\n",
       " ' okay currently we partnership with ocbc plus can i check with you if you a good time to speak for a while first of course thank you for using ocbc',\n",
       " 'okay and then secondly as a valued customer we would like to actually update and also give you a priority okay',\n",
       " ' because in year twenty twenty right income actually celebrate our fiftieth annivesary okay',\n",
       " ' and then in that particular year we actually came out a very very special anniversary policy called i fifty',\n",
       " ' okay of course i stand for income income fifty means for fifty years',\n",
       " 'alright okay miss junar even you already have a existing policy',\n",
       " 'right okay then we even make it very very special because we can cover for your whole family member at one flat premium',\n",
       " 'okay and this regardless of your age secondly',\n",
       " ' right we garden to how many dependent are children you have as well as regardless of your occupation and also your occupation economic security is an important pillar of national and region']"
      ]
     },
     "execution_count": 10,
     "metadata": {},
     "output_type": "execute_result"
    }
   ],
   "source": [
    "open_sentence = nlp_sentencizer_v2(opening, nlp)\n",
    "open_sentence"
   ]
  },
  {
   "cell_type": "code",
   "execution_count": 13,
   "id": "abb281f2",
   "metadata": {},
   "outputs": [
    {
     "data": {
      "text/plain": [
       "[' er electronics so the policy will be effective',\n",
       " ' tokay lah you mean this policy i help you apply right now once i submit the application',\n",
       " ' and then i sent you the policy number sure meaning it is approved but we will deduct the premium within three working days you will receive the policy documents via sms or email in three working days please ensure all information is correct lets say if you have any issues or questions you can call me again',\n",
       " ' yah ok do you still have any questions for me i will just help you with the application and send you the policy information shortly thank you so much bye bye']"
      ]
     },
     "execution_count": 13,
     "metadata": {},
     "output_type": "execute_result"
    }
   ],
   "source": [
    "end_sentence = nlp_sentencizer_v2(ending, nlp)\n",
    "end_sentence"
   ]
  },
  {
   "cell_type": "markdown",
   "id": "0a1c600e",
   "metadata": {},
   "source": [
    "## Category Matching"
   ]
  },
  {
   "cell_type": "code",
   "execution_count": 14,
   "id": "b6bcadfe",
   "metadata": {},
   "outputs": [],
   "source": [
    "open_matched_result, open_sentence_ls, open_label_ls, open_similarity_ls = batch_match_multi_categories(open_sentence, sentence_model, threshold_config[0]['opening'], opening_lexicons)"
   ]
  },
  {
   "cell_type": "code",
   "execution_count": 15,
   "id": "1039e8b0",
   "metadata": {},
   "outputs": [
    {
     "data": {
      "text/plain": [
       "[[' okay this is alice here coming from income ntuc income',\n",
       "  ['standard_greeting', 'purpose_of_call']],\n",
       " [' okay currently we partnership with ocbc plus can i check with you if you a good time to speak for a while first of course thank you for using ocbc',\n",
       "  ['standard_greeting', 'purpose_of_call']],\n",
       " ['okay and then secondly as a valued customer we would like to actually update and also give you a priority okay',\n",
       "  ['standard_greeting', 'purpose_of_call']],\n",
       " [' because in year twenty twenty right income actually celebrate our fiftieth annivesary okay',\n",
       "  ['no matching']],\n",
       " [' and then in that particular year we actually came out a very very special anniversary policy called i fifty',\n",
       "  ['purpose_of_call']],\n",
       " [' okay of course i stand for income income fifty means for fifty years',\n",
       "  ['purpose_of_call']],\n",
       " ['alright okay miss junar even you already have a existing policy',\n",
       "  ['standard_greeting', 'purpose_of_call']],\n",
       " ['right okay then we even make it very very special because we can cover for your whole family member at one flat premium',\n",
       "  ['purpose_of_call']],\n",
       " ['okay and this regardless of your age secondly', ['no matching']],\n",
       " [' right we garden to how many dependent are children you have as well as regardless of your occupation and also your occupation economic security is an important pillar of national and region',\n",
       "  ['no matching']]]"
      ]
     },
     "execution_count": 15,
     "metadata": {},
     "output_type": "execute_result"
    }
   ],
   "source": [
    "open_matched_result"
   ]
  },
  {
   "cell_type": "code",
   "execution_count": 18,
   "id": "acb8ee66",
   "metadata": {},
   "outputs": [
    {
     "data": {
      "text/plain": [
       "[[0.42427972, 0.31466082, 0.20223577],\n",
       " [0.33511627, 0.3419063, 0.330265],\n",
       " [0.30356756, 0.4274702, 0.2733118],\n",
       " [0.17577949, 0.27646947, 0.09803732],\n",
       " [0.0964587, 0.45960838, 0.09786334],\n",
       " [0.24849632, 0.34048322, 0.10549793],\n",
       " [0.2883965, 0.28186268, 0.24810791],\n",
       " [0.055603635, 0.53493875, 0.08320273],\n",
       " [0.22202629, 0.17394884, 0.28677443],\n",
       " [0.1452643, 0.25098944, 0.1444247]]"
      ]
     },
     "execution_count": 18,
     "metadata": {},
     "output_type": "execute_result"
    }
   ],
   "source": [
    "open_similarity_ls"
   ]
  },
  {
   "cell_type": "code",
   "execution_count": 16,
   "id": "1327ce4f",
   "metadata": {},
   "outputs": [],
   "source": [
    "close_matched_result, close_sentence_ls, close_label_ls, close_similarity_ls = batch_match_multi_categories(end_sentence, sentence_model, threshold_config[1]['closing'], closing_lexicons)"
   ]
  },
  {
   "cell_type": "code",
   "execution_count": 17,
   "id": "2cb3c3f3",
   "metadata": {},
   "outputs": [
    {
     "data": {
      "text/plain": [
       "[[' er electronics so the policy will be effective', ['no matching']],\n",
       " [' tokay lah you mean this policy i help you apply right now once i submit the application',\n",
       "  ['no matching']],\n",
       " [' and then i sent you the policy number sure meaning it is approved but we will deduct the premium within three working days you will receive the policy documents via sms or email in three working days please ensure all information is correct lets say if you have any issues or questions you can call me again',\n",
       "  ['data_enrichment']],\n",
       " [' yah ok do you still have any questions for me i will just help you with the application and send you the policy information shortly thank you so much bye bye',\n",
       "  ['data_enrichment', 'standard_closing']]]"
      ]
     },
     "execution_count": 17,
     "metadata": {},
     "output_type": "execute_result"
    }
   ],
   "source": [
    "close_matched_result"
   ]
  },
  {
   "cell_type": "code",
   "execution_count": 19,
   "id": "299e801d",
   "metadata": {},
   "outputs": [
    {
     "data": {
      "text/plain": [
       "[[0.0862126, 0.11242257, 0.109900825],\n",
       " [0.28964415, 0.3003706, 0.26638153],\n",
       " [0.3349283, 0.37765583, 0.20113377],\n",
       " [0.29277515, 0.4138102, 0.32034466]]"
      ]
     },
     "execution_count": 19,
     "metadata": {},
     "output_type": "execute_result"
    }
   ],
   "source": [
    "close_similarity_ls"
   ]
  },
  {
   "cell_type": "markdown",
   "id": "60904e1b",
   "metadata": {},
   "source": [
    "## Politeness Analysis"
   ]
  },
  {
   "cell_type": "code",
   "execution_count": 20,
   "id": "d9c2721b",
   "metadata": {},
   "outputs": [],
   "source": [
    "opening_politeness = nlp_sentiment(open_sentence_ls, open_label_ls, sentiment_tokenizer, sentiment_model)"
   ]
  },
  {
   "cell_type": "code",
   "execution_count": 21,
   "id": "35edc812",
   "metadata": {},
   "outputs": [
    {
     "data": {
      "text/plain": [
       "[[' okay this is alice here coming from income ntuc income',\n",
       "  ['standard_greeting', 'purpose_of_call'],\n",
       "  'neutral'],\n",
       " [' okay currently we partnership with ocbc plus can i check with you if you a good time to speak for a while first of course thank you for using ocbc',\n",
       "  ['standard_greeting', 'purpose_of_call'],\n",
       "  'polite'],\n",
       " ['okay and then secondly as a valued customer we would like to actually update and also give you a priority okay',\n",
       "  ['standard_greeting', 'purpose_of_call'],\n",
       "  'polite'],\n",
       " [' because in year twenty twenty right income actually celebrate our fiftieth annivesary okay',\n",
       "  ['no matching'],\n",
       "  'neutral'],\n",
       " [' and then in that particular year we actually came out a very very special anniversary policy called i fifty',\n",
       "  ['purpose_of_call'],\n",
       "  'neutral'],\n",
       " [' okay of course i stand for income income fifty means for fifty years',\n",
       "  ['purpose_of_call'],\n",
       "  'neutral'],\n",
       " ['alright okay miss junar even you already have a existing policy',\n",
       "  ['standard_greeting', 'purpose_of_call'],\n",
       "  'neutral'],\n",
       " ['right okay then we even make it very very special because we can cover for your whole family member at one flat premium',\n",
       "  ['purpose_of_call'],\n",
       "  'neutral'],\n",
       " ['okay and this regardless of your age secondly', ['no matching'], 'neutral'],\n",
       " [' right we garden to how many dependent are children you have as well as regardless of your occupation and also your occupation economic security is an important pillar of national and region',\n",
       "  ['no matching'],\n",
       "  'neutral']]"
      ]
     },
     "execution_count": 21,
     "metadata": {},
     "output_type": "execute_result"
    }
   ],
   "source": [
    "opening_politeness"
   ]
  },
  {
   "cell_type": "code",
   "execution_count": 22,
   "id": "141fd6b4",
   "metadata": {},
   "outputs": [],
   "source": [
    "closing_politeness = nlp_sentiment(close_sentence_ls, close_label_ls, sentiment_tokenizer, sentiment_model)"
   ]
  },
  {
   "cell_type": "code",
   "execution_count": 23,
   "id": "dd39f562",
   "metadata": {},
   "outputs": [
    {
     "data": {
      "text/plain": [
       "[[' er electronics so the policy will be effective',\n",
       "  ['no matching'],\n",
       "  'polite'],\n",
       " [' tokay lah you mean this policy i help you apply right now once i submit the application',\n",
       "  ['no matching'],\n",
       "  'neutral'],\n",
       " [' and then i sent you the policy number sure meaning it is approved but we will deduct the premium within three working days you will receive the policy documents via sms or email in three working days please ensure all information is correct lets say if you have any issues or questions you can call me again',\n",
       "  ['data_enrichment'],\n",
       "  'neutral'],\n",
       " [' yah ok do you still have any questions for me i will just help you with the application and send you the policy information shortly thank you so much bye bye',\n",
       "  ['data_enrichment', 'standard_closing'],\n",
       "  'neutral']]"
      ]
     },
     "execution_count": 23,
     "metadata": {},
     "output_type": "execute_result"
    }
   ],
   "source": [
    "closing_politeness"
   ]
  },
  {
   "cell_type": "markdown",
   "id": "8f8a4e40",
   "metadata": {},
   "source": [
    "## Score Assignment"
   ]
  },
  {
   "cell_type": "code",
   "execution_count": 24,
   "id": "039cd8a8",
   "metadata": {},
   "outputs": [],
   "source": [
    "# read score_reference config file\n",
    "ref_score_dict = load_yaml('config/score_reference.yaml')[0]"
   ]
  },
  {
   "cell_type": "code",
   "execution_count": 25,
   "id": "5101bd52",
   "metadata": {},
   "outputs": [
    {
     "data": {
      "text/plain": [
       "{'opening': {'standard_greeting': 1,\n",
       "  'purpose_of_call': 2,\n",
       "  'ask_for_permission': 2},\n",
       " 'closing': {'follow_up': 2, 'data_enrichment': 2, 'standard_closing': 2}}"
      ]
     },
     "execution_count": 25,
     "metadata": {},
     "output_type": "execute_result"
    }
   ],
   "source": [
    "ref_score_dict"
   ]
  },
  {
   "cell_type": "code",
   "execution_count": 26,
   "id": "2c2b7067",
   "metadata": {},
   "outputs": [
    {
     "data": {
      "text/plain": [
       "{'opening': {'standard_greeting': True,\n",
       "  'purpose_of_call': True,\n",
       "  'ask_for_permission': False}}"
      ]
     },
     "execution_count": 26,
     "metadata": {},
     "output_type": "execute_result"
    }
   ],
   "source": [
    "opening_pass_result = check_passed(opening_politeness, opening_lexicons.keys(), 'opening')\n",
    "opening_pass_result"
   ]
  },
  {
   "cell_type": "code",
   "execution_count": 27,
   "id": "9a55588f",
   "metadata": {},
   "outputs": [
    {
     "data": {
      "text/plain": [
       "({'opening': {'standard_greeting': 1,\n",
       "   'purpose_of_call': 2,\n",
       "   'ask_for_permission': 0}},\n",
       " 3)"
      ]
     },
     "execution_count": 27,
     "metadata": {},
     "output_type": "execute_result"
    }
   ],
   "source": [
    "opening_score_result = assign_score(opening_pass_result, ref_score_dict, 'opening')\n",
    "opening_score_result"
   ]
  },
  {
   "cell_type": "code",
   "execution_count": 28,
   "id": "39421492",
   "metadata": {},
   "outputs": [
    {
     "data": {
      "text/plain": [
       "{'closing': {'follow_up': False,\n",
       "  'data_enrichment': True,\n",
       "  'standard_closing': True}}"
      ]
     },
     "execution_count": 28,
     "metadata": {},
     "output_type": "execute_result"
    }
   ],
   "source": [
    "closing_pass_result = check_passed(closing_politeness, closing_lexicons.keys(), 'closing')\n",
    "closing_pass_result"
   ]
  },
  {
   "cell_type": "code",
   "execution_count": 29,
   "id": "317cfafc",
   "metadata": {},
   "outputs": [
    {
     "data": {
      "text/plain": [
       "({'closing': {'follow_up': 0, 'data_enrichment': 2, 'standard_closing': 2}}, 4)"
      ]
     },
     "execution_count": 29,
     "metadata": {},
     "output_type": "execute_result"
    }
   ],
   "source": [
    "closing_score_result = assign_score(closing_pass_result, ref_score_dict, 'closing')\n",
    "closing_score_result"
   ]
  },
  {
   "cell_type": "markdown",
   "id": "2e60a9ea",
   "metadata": {},
   "source": [
    "## Save to Config"
   ]
  },
  {
   "cell_type": "code",
   "execution_count": 30,
   "id": "117ce070",
   "metadata": {},
   "outputs": [],
   "source": [
    "total_score_result = [opening_score_result[0], closing_score_result[0]]\n",
    "transcript_id = transcript_name.split(\".\")[0] + \".yaml\"\n",
    "save_address = os.path.join(\"qa_result\", transcript_id)\n",
    "dump_yaml(total_score_result, save_address)"
   ]
  },
  {
   "cell_type": "code",
   "execution_count": null,
   "id": "27d165de",
   "metadata": {},
   "outputs": [],
   "source": []
  },
  {
   "cell_type": "code",
   "execution_count": null,
   "id": "10bcd0c6",
   "metadata": {},
   "outputs": [],
   "source": []
  }
 ],
 "metadata": {
  "kernelspec": {
   "display_name": "venv2022",
   "language": "python",
   "name": "venv2022"
  },
  "language_info": {
   "codemirror_mode": {
    "name": "ipython",
    "version": 3
   },
   "file_extension": ".py",
   "mimetype": "text/x-python",
   "name": "python",
   "nbconvert_exporter": "python",
   "pygments_lexer": "ipython3",
   "version": "3.7.13"
  }
 },
 "nbformat": 4,
 "nbformat_minor": 5
}
