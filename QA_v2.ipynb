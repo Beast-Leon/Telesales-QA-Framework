{
 "cells": [
  {
   "cell_type": "markdown",
   "id": "b83e9031",
   "metadata": {},
   "source": [
    "## Improvement from QA_v1:\n",
    "### 1. Change the politeness model to the sentiment model, which is powered by Bert and works better\n",
    "\n",
    "### 2. Test more cases for completeness\n",
    "\n",
    "## Outline:\n",
    "### 1. Input transcripts and grammars\n",
    "\n",
    "### 2. Sentencizer transcripts\n",
    "\n",
    "### 3. Mapping sentences to each category\n",
    "\n",
    "### 4. Calculate sentiment score for each part"
   ]
  },
  {
   "cell_type": "code",
   "execution_count": 1,
   "id": "1c88a1b4",
   "metadata": {},
   "outputs": [],
   "source": [
    "# Load packages\n",
    "import nltk\n",
    "import spacy\n",
    "\n",
    "# Load customized packages\n",
    "from customized_pos import *\n",
    "from pos_helper import *\n",
    "from aspect_matching import *\n",
    "from politeness_helper import *\n",
    "\n",
    "# Load spacy nlp model\n",
    "nlp = spacy.load('en_core_web_lg')\n",
    "nlp.add_pipe(pos_postprocessor_pipe, name=\"pos_postprocessor\", after='tagger')"
   ]
  },
  {
   "cell_type": "markdown",
   "id": "7e6952d2",
   "metadata": {},
   "source": [
    "### Section 1: Input transcripts and grammars"
   ]
  },
  {
   "cell_type": "code",
   "execution_count": 2,
   "id": "07e98ab7",
   "metadata": {},
   "outputs": [],
   "source": [
    "# Load from text file\n",
    "with open (\"data_collection/transcripts.txt\") as f:\n",
    "    transcripts_ls = f.readlines()"
   ]
  },
  {
   "cell_type": "code",
   "execution_count": 3,
   "id": "c492e2b1",
   "metadata": {},
   "outputs": [
    {
     "data": {
      "text/plain": [
       "['ya hello good afternoon speak to nanny seah please afternoon miss nanny my name is jaguar shao and im actually calling from insurance company miss nanny good time to speak for a while this is regarding our partnership charter_plus members and as a result of that insurance company actually formulated a very special thirtieth anniversay insurance bundle right called the i thirty\\n',\n",
       " 'hello good afternoon just speak to miss leon michael from income ntuc free for one_or_two minutes if you are not busy okay calling behalf of your adviser xiao guo okay because we having this anniversary plan for the family i just check again you are single_or_married\\n']"
      ]
     },
     "execution_count": 3,
     "metadata": {},
     "output_type": "execute_result"
    }
   ],
   "source": [
    "transcripts_ls"
   ]
  },
  {
   "cell_type": "code",
   "execution_count": 13,
   "id": "83756b19",
   "metadata": {},
   "outputs": [],
   "source": [
    "grammars = r\"\"\" \n",
    "    JP: {<JJ.*>}\n",
    "    NP: {<JP|CD>*<PRP.*|DT|NN.*>+}\n",
    "    PP: {<IN|TO|RP><NP|VB.*>} \n",
    "    VP: {<VB.*|RB.*>+<JP>*}\n",
    "    VP: {<VB.*|RB.*>+<PP|NP>*}\n",
    "    Sentence: {<UH>*<JP|NP>+<MD|IN>*<VP|PP|NP>+}\n",
    "    Sentence: {<PP|VP|NP|JP>+}\n",
    "    Question: {<MD|WDT|DP|WRB|><MD>*<Sentence|NP|PP|VP|JP>}\n",
    "\"\"\""
   ]
  },
  {
   "cell_type": "markdown",
   "id": "627d83ca",
   "metadata": {},
   "source": [
    "### Section 2: Sentencizer transcripts"
   ]
  },
  {
   "cell_type": "code",
   "execution_count": 16,
   "id": "98059ce5",
   "metadata": {},
   "outputs": [
    {
     "name": "stdout",
     "output_type": "stream",
     "text": [
      "Current transcript id:  0\n",
      "full result:  [('Sentence', 'ya hello good afternoon speak to nanny seah'), ('Sentence', 'please afternoon miss nanny my name is jaguar shao and'), ('Sentence', 'i m actually calling from insurance company miss nanny good time to speak for a while this is regarding our partnership charter_plus members and'), ('Sentence', 'as a result of that insurance company actually formulated'), ('Sentence', 'a very special thirtieth anniversay insurance bundle right called the i thirty \\n')]\n",
      "\n",
      "\n",
      "only text result:  ['ya hello good afternoon speak to nanny seah', 'please afternoon miss nanny my name is jaguar shao and', 'i m actually calling from insurance company miss nanny good time to speak for a while this is regarding our partnership charter_plus members and', 'as a result of that insurance company actually formulated', 'a very special thirtieth anniversay insurance bundle right called the i thirty \\n']\n",
      "\n",
      "\n",
      "Current transcript id:  1\n",
      "full result:  [('Sentence', 'hello good afternoon just speak to miss leon michael from income ntuc'), ('Sentence', 'free for one_or_two minutes if you are not busy okay'), ('Sentence', 'calling behalf of your adviser xiao guo okay'), ('Sentence', 'because we having this anniversary plan for the family i just check again you are single_or_married \\n')]\n",
      "\n",
      "\n",
      "only text result:  ['hello good afternoon just speak to miss leon michael from income ntuc', 'free for one_or_two minutes if you are not busy okay', 'calling behalf of your adviser xiao guo okay', 'because we having this anniversary plan for the family i just check again you are single_or_married \\n']\n",
      "\n",
      "\n"
     ]
    }
   ],
   "source": [
    "# Loop to sentencizer each sentences in the transcript_ls\n",
    "text_result_dic = {}\n",
    "for i, transcripts in enumerate(transcripts_ls):\n",
    "    full_result = nlp_sentencizer(transcripts, grammars, nlp)\n",
    "    text_result = list(map(lambda x: x[1], full_result))\n",
    "    text_result_dic[i] = text_result\n",
    "    print(\"Current transcript id: \", i)\n",
    "    print(\"full result: \", full_result)\n",
    "    print(\"\\n\")\n",
    "    print(\"only text result: \", text_result)\n",
    "    print(\"\\n\")"
   ]
  },
  {
   "cell_type": "markdown",
   "id": "d828186d",
   "metadata": {},
   "source": [
    "### Section 3: Mapping sentence to each category"
   ]
  },
  {
   "cell_type": "code",
   "execution_count": 20,
   "id": "9e2a6688",
   "metadata": {},
   "outputs": [
    {
     "name": "stdout",
     "output_type": "stream",
     "text": [
      "['ya hello good afternoon speak to nanny seah', 'please afternoon miss nanny my name is jaguar shao and', 'i m actually calling from insurance company miss nanny good time to speak for a while this is regarding our partnership charter_plus members and', 'as a result of that insurance company actually formulated', 'a very special thirtieth anniversay insurance bundle right called the i thirty \\n']\n",
      "[('opening', 'ya hello good afternoon speak to nanny seah please afternoon miss nanny my name is jaguar shao and'), ('purpose_of_call', ' as a result of that insurance company actually formulated a very special thirtieth anniversay insurance bundle right called the i thirty \\n')]\n",
      "['hello good afternoon just speak to miss leon michael from income ntuc', 'free for one_or_two minutes if you are not busy okay', 'calling behalf of your adviser xiao guo okay', 'because we having this anniversary plan for the family i just check again you are single_or_married \\n']\n",
      "[('opening', 'hello good afternoon just speak to miss leon michael from income ntuc'), ('ask_for_permission', ''), ('opening', ''), ('purpose_of_call', '')]\n"
     ]
    }
   ],
   "source": [
    "# Looping to store mapping result to dic\n",
    "mapping_result_dic = {}\n",
    "for i, text in text_result_dic.items():\n",
    "    print(text)\n",
    "    category_ls = nlp_aspect_matching(text, nlp, 'greeting', True)\n",
    "    print(category_ls)\n",
    "    mapping_result_dic[i] = category_ls"
   ]
  },
  {
   "cell_type": "code",
   "execution_count": null,
   "id": "e14086e2",
   "metadata": {},
   "outputs": [],
   "source": []
  }
 ],
 "metadata": {
  "kernelspec": {
   "display_name": "venv2022",
   "language": "python",
   "name": "venv2022"
  },
  "language_info": {
   "codemirror_mode": {
    "name": "ipython",
    "version": 3
   },
   "file_extension": ".py",
   "mimetype": "text/x-python",
   "name": "python",
   "nbconvert_exporter": "python",
   "pygments_lexer": "ipython3",
   "version": "3.7.13"
  }
 },
 "nbformat": 4,
 "nbformat_minor": 5
}
