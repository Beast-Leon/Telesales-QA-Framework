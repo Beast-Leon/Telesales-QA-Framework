{
 "cells": [
  {
   "cell_type": "code",
   "execution_count": 1,
   "id": "f3f47a71",
   "metadata": {},
   "outputs": [
    {
     "name": "stderr",
     "output_type": "stream",
     "text": [
      "[nltk_data] Downloading package punkt to /Users/leon/nltk_data...\n",
      "[nltk_data]   Package punkt is already up-to-date!\n"
     ]
    }
   ],
   "source": [
    "import nltk\n",
    "import spacy\n",
    "nltk.download('punkt')\n",
    "\n",
    "import pickle\n",
    "# load model packages\n",
    "import xgboost as xgb\n",
    "from sklearn import svm\n",
    "from sklearn.ensemble import RandomForestClassifier\n",
    "from sklearn.ensemble import GradientBoostingClassifier\n",
    "# Load some metrics\n",
    "from sklearn.metrics import accuracy_score\n",
    "from sklearn import metrics\n",
    "from sklearn.metrics import classification_report\n",
    "\n",
    "# Load other sklearn packages\n",
    "from sklearn.model_selection import GridSearchCV\n",
    "\n",
    "# Load other packages\n",
    "from tqdm import tqdm"
   ]
  },
  {
   "cell_type": "code",
   "execution_count": 2,
   "id": "342dd760",
   "metadata": {},
   "outputs": [],
   "source": [
    "# Load spacy model\n",
    "nlp = spacy.load('en_core_web_lg')"
   ]
  },
  {
   "cell_type": "code",
   "execution_count": 3,
   "id": "a099f2b1",
   "metadata": {},
   "outputs": [],
   "source": [
    "# Load custom model/data\n",
    "xgb_model = pickle.load(open('model_collection/final_xgb_v2.sav', 'rb'))\n",
    "\n",
    "# Load data\n",
    "with open('data_collection/X_train.pkl', 'rb') as f:\n",
    "    X_train = pickle.load(f)\n",
    "with open('data_collection/y_train.pkl', 'rb') as f:\n",
    "    y_train = pickle.load(f)\n",
    "with open('data_collection/X_test.pkl', 'rb') as f:\n",
    "    X_test = pickle.load(f)\n",
    "with open('data_collection/y_test.pkl', 'rb') as f:\n",
    "    y_test = pickle.load(f)\n"
   ]
  },
  {
   "cell_type": "code",
   "execution_count": 4,
   "id": "27ad262f",
   "metadata": {},
   "outputs": [
    {
     "name": "stdout",
     "output_type": "stream",
     "text": [
      "              precision    recall  f1-score   support\n",
      "\n",
      "         0.0       0.67      0.66      0.67      1992\n",
      "         1.0       0.67      0.68      0.67      1992\n",
      "\n",
      "    accuracy                           0.67      3984\n",
      "   macro avg       0.67      0.67      0.67      3984\n",
      "weighted avg       0.67      0.67      0.67      3984\n",
      "\n"
     ]
    }
   ],
   "source": [
    "# Check xgb model\n",
    "# Predict\n",
    "xgb_result = xgb_model.predict(X_test)\n",
    "# Pring classification report\n",
    "print(classification_report(y_test, xgb_result))"
   ]
  },
  {
   "cell_type": "markdown",
   "id": "56186f00",
   "metadata": {},
   "source": [
    "Ok, now xgb model is good for using now. Let's try some sample!!!"
   ]
  },
  {
   "cell_type": "code",
   "execution_count": 5,
   "id": "1b4d87c0",
   "metadata": {},
   "outputs": [],
   "source": [
    "# Load from helper.py with two helper functions\n",
    "from helper import *"
   ]
  },
  {
   "cell_type": "code",
   "execution_count": 6,
   "id": "2a7f1dcc",
   "metadata": {},
   "outputs": [],
   "source": [
    "# Function to loop through text files\n",
    "def load_sentence(file_name, model = xgb_model, score_format = \"prob\"):\n",
    "    with open(file_name, 'r') as f:\n",
    "        txt_ls = f.readlines()\n",
    "    result_dict = {}\n",
    "    for i, sen in enumerate(txt_ls):\n",
    "        cur_parse = format_doc(sen)\n",
    "        cur_score = customize_score(cur_parse, model, score_format)\n",
    "        result_dict[sen] = cur_score\n",
    "    return result_dict"
   ]
  },
  {
   "cell_type": "code",
   "execution_count": 7,
   "id": "7979fe70",
   "metadata": {},
   "outputs": [],
   "source": [
    "def print_result(result_dict):\n",
    "    for key, value in result_dict.items():\n",
    "        print(\"current sentence: \", key)\n",
    "        print(\"politeness score: \", value)"
   ]
  },
  {
   "cell_type": "markdown",
   "id": "a4bab395",
   "metadata": {},
   "source": [
    "### Sample text for greetings"
   ]
  },
  {
   "cell_type": "code",
   "execution_count": 8,
   "id": "2f21aed5",
   "metadata": {},
   "outputs": [
    {
     "name": "stdout",
     "output_type": "stream",
     "text": [
      "current sentence:  hi this is leon calling from income ntuc. is it a good time to speak for a while?\n",
      "\n",
      "politeness score:  {'polite': 0.92927027, 'impolite': 0.07072973}\n",
      "current sentence:  ya hello good afternoon speak to leon please. afternoon mister leon my name is jimmy and im actually calling from income.\n",
      "\n",
      "politeness score:  {'polite': 0.47284272, 'impolite': 0.5271573}\n",
      "current sentence:  ya you see even just now he message me he said wah i wanna die.\n",
      "\n",
      "politeness score:  {'polite': 0.5830819, 'impolite': 0.4169181}\n",
      "current sentence:  currently we partnership with abcd. can i check with you is this a good time to speak with you right now?\n",
      "\n",
      "politeness score:  {'polite': 0.65582114, 'impolite': 0.34417886}\n",
      "current sentence:  good evening may i speak to mister leon please? my name is Leon and im calling from Income. may I speak with you for a few minutes?\n",
      "\n",
      "politeness score:  {'polite': 0.90521586, 'impolite': 0.09478414}\n",
      "current sentence:  thank you for calling income. this is leon how may i assist you?\n",
      "politeness score:  {'polite': 0.83262426, 'impolite': 0.16737574}\n"
     ]
    }
   ],
   "source": [
    "greeting_dict = load_sentence('data_collection/greeting_sentence.txt')\n",
    "print_result(greeting_dict)"
   ]
  },
  {
   "cell_type": "markdown",
   "id": "6988f6a9",
   "metadata": {},
   "source": [
    "### Sample text for endings"
   ]
  },
  {
   "cell_type": "code",
   "execution_count": 9,
   "id": "a662dc00",
   "metadata": {},
   "outputs": [
    {
     "name": "stdout",
     "output_type": "stream",
     "text": [
      "current sentence:  no problem i will send you the information shortly. then i can give you a follow call friday around five.\n",
      "\n",
      "politeness score:  {'polite': 0.44172865, 'impolite': 0.55827135}\n",
      "current sentence:  maybe i give you a call back. do you prefer to call around this one after lunch time.\n",
      "\n",
      "politeness score:  {'polite': 0.4616409, 'impolite': 0.5383591}\n",
      "current sentence:  okay thank you so much for your time.\n",
      "\n",
      "politeness score:  {'polite': 0.9308717, 'impolite': 0.069128275}\n",
      "current sentence:  then okay i will call again on tuesday bye bye.\n",
      "\n",
      "politeness score:  {'polite': 0.42934066, 'impolite': 0.57065934}\n",
      "current sentence:  sure I can call you back on next tuesday. thanks so much.\n",
      "politeness score:  {'polite': 0.8740092, 'impolite': 0.12599081}\n"
     ]
    }
   ],
   "source": [
    "ending_dict = load_sentence('data_collection/ending_sentence.txt')\n",
    "print_result(ending_dict)"
   ]
  },
  {
   "cell_type": "markdown",
   "id": "2d32ea64",
   "metadata": {},
   "source": [
    "### Show some findings about the politeness model"
   ]
  },
  {
   "cell_type": "markdown",
   "id": "9fd0ff60",
   "metadata": {},
   "source": [
    "1. \"ya\" will affect severely on the model result"
   ]
  },
  {
   "cell_type": "code",
   "execution_count": 10,
   "id": "777d96a0",
   "metadata": {},
   "outputs": [
    {
     "name": "stdout",
     "output_type": "stream",
     "text": [
      "with ya score:  {'polite': 0.47284272, 'impolite': 0.5271573}\n",
      "without ya score:  {'polite': 0.7473273, 'impolite': 0.25267267}\n"
     ]
    }
   ],
   "source": [
    "with_ya = \"ya hello good afternoon speak to leon please. afternoon mister leon my name is jimmy and im actually calling from income\"\n",
    "without_ya = \"hello good afternoon speak to leon please. afternoon mister leon my name is jimmy and im actually calling from income\"\n",
    "print(\"with ya score: \", customize_score(format_doc(with_ya), xgb_model, \"prob\"))\n",
    "print(\"without ya score: \", customize_score(format_doc(without_ya), xgb_model, \"prob\"))"
   ]
  },
  {
   "cell_type": "markdown",
   "id": "9fecefd6",
   "metadata": {},
   "source": [
    "2. many of the ending sentences are more impolite than greeting sentences. Referring to the result shows above in \"Sample text for endings\""
   ]
  },
  {
   "cell_type": "markdown",
   "id": "0fa54291",
   "metadata": {},
   "source": [
    "3. Many sentences may have ambiguitity around politeness and impoliteness. The model can't capture that ambiguitity."
   ]
  },
  {
   "cell_type": "code",
   "execution_count": null,
   "id": "4c6b2183",
   "metadata": {},
   "outputs": [],
   "source": []
  }
 ],
 "metadata": {
  "kernelspec": {
   "display_name": "venv2022",
   "language": "python",
   "name": "venv2022"
  },
  "language_info": {
   "codemirror_mode": {
    "name": "ipython",
    "version": 3
   },
   "file_extension": ".py",
   "mimetype": "text/x-python",
   "name": "python",
   "nbconvert_exporter": "python",
   "pygments_lexer": "ipython3",
   "version": "3.7.13"
  }
 },
 "nbformat": 4,
 "nbformat_minor": 5
}
