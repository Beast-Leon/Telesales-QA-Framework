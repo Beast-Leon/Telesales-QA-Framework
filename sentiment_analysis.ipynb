{
 "cells": [
  {
   "cell_type": "code",
   "execution_count": 1,
   "id": "88b8c21f",
   "metadata": {},
   "outputs": [
    {
     "name": "stderr",
     "output_type": "stream",
     "text": [
      "/opt/anaconda3/envs/tensorflow/lib/python3.7/site-packages/tqdm/auto.py:22: TqdmWarning: IProgress not found. Please update jupyter and ipywidgets. See https://ipywidgets.readthedocs.io/en/stable/user_install.html\n",
      "  from .autonotebook import tqdm as notebook_tqdm\n"
     ]
    }
   ],
   "source": [
    "from transformers import AutoModelForSequenceClassification, AutoTokenizer"
   ]
  },
  {
   "cell_type": "code",
   "execution_count": 2,
   "id": "a0803a0a",
   "metadata": {},
   "outputs": [],
   "source": [
    "tokenizer = AutoTokenizer.from_pretrained(\"Souvikcmsa/SentimentAnalysisDistillBERT\")"
   ]
  },
  {
   "cell_type": "code",
   "execution_count": null,
   "id": "1aa1a08f",
   "metadata": {},
   "outputs": [],
   "source": [
    "model = AutoModelForSequenceClassification.from_pretrained(\"Souvikcmsa/SentimentAnalysisDistillBERT\")"
   ]
  },
  {
   "cell_type": "code",
   "execution_count": 6,
   "id": "0743f551",
   "metadata": {},
   "outputs": [],
   "source": [
    "# Input sample sentences\n",
    "sentence = \"\"\"no problem i will send you the information shortly. then i can give you a follow call friday around five.\n",
    "maybe i give you a call back. do you prefer to call around this one after lunch time.\n",
    "okay thank you so much for your time.\n",
    "then okay i will call again on tuesday bye bye.\n",
    "sure I can call you back on next tuesday. thanks so much.\n",
    "hi this is leon calling from income ntuc. is it a good time to speak for a while?\n",
    "ya hello good afternoon speak to leon please. afternoon mister leon my name is jimmy and im actually calling from income.\n",
    "ya you see even just now he message me he said wah i wanna die.\n",
    "currently we partnership with abcd. can i check with you is this a good time to speak with you right now?\n",
    "good evening may i speak to mister leon please? my name is Leon and im calling from Income. may I speak with you for a few minutes?\n",
    "thank you for calling income. this is leon how may i assist you?\n",
    "ya hello good afternoon speak to nanny seah please afternoon miss nanny my name is jaguar shao and\n",
    "as a result of that insurance company actually formulated a very special thirtieth anniversay insurance bundle right called the i thirty\n",
    "i dont want to talk with you\n",
    "I hate you\n",
    "\"\"\""
   ]
  },
  {
   "cell_type": "code",
   "execution_count": 7,
   "id": "5beb16a8",
   "metadata": {},
   "outputs": [
    {
     "data": {
      "text/plain": [
       "''"
      ]
     },
     "execution_count": 7,
     "metadata": {},
     "output_type": "execute_result"
    }
   ],
   "source": [
    "# Split sentence and store in a list\n",
    "sentence_ls = sentence.split(\"\\n\")\n",
    "# Remove the top and last empty string\n",
    "sentence_ls.pop(0)\n",
    "sentence_ls.pop(-1)"
   ]
  },
  {
   "cell_type": "code",
   "execution_count": 8,
   "id": "822b87b3",
   "metadata": {},
   "outputs": [],
   "source": [
    "import numpy as np\n",
    "def softmax(x, axis):\n",
    "    e_x = np.exp(x - np.max(x, axis))\n",
    "    return e_x / (e_x.sum(axis) + 1e-9)"
   ]
  },
  {
   "cell_type": "code",
   "execution_count": 9,
   "id": "5e360483",
   "metadata": {},
   "outputs": [],
   "source": [
    "def batch_tokenizer(sentence_ls):\n",
    "    output_ls = []\n",
    "    for sentence in sentence_ls:\n",
    "        cur_input = tokenizer(sentence, return_tensors = \"pt\")\n",
    "        output = model(**cur_input).logits.detach().numpy()[0]\n",
    "        soft_output = softmax(output, 0)\n",
    "        output_ls.append(soft_output)\n",
    "    return output_ls"
   ]
  },
  {
   "cell_type": "code",
   "execution_count": 10,
   "id": "73945a92",
   "metadata": {},
   "outputs": [],
   "source": [
    "# Label 0 is negative, Label 1 is neutral, Label 2 is positive\n",
    "output_ls = batch_tokenizer(sentence_ls)"
   ]
  },
  {
   "cell_type": "code",
   "execution_count": 11,
   "id": "dc864f3f",
   "metadata": {},
   "outputs": [],
   "source": [
    "# generate label\n",
    "def generate_label(output_ls, sentence_ls):\n",
    "    new_output_ls = []\n",
    "    label = ['negative', 'neutral', 'positive']\n",
    "    for i, output in enumerate(output_ls):\n",
    "        index = np.argmax(output)\n",
    "        new_output_ls.append((sentence_ls[i], label[index]))\n",
    "    return new_output_ls"
   ]
  },
  {
   "cell_type": "code",
   "execution_count": 12,
   "id": "cbf08ff7",
   "metadata": {},
   "outputs": [
    {
     "data": {
      "text/plain": [
       "[('maybe i give you a call back. do you prefer to call around this one after lunch time.',\n",
       "  'neutral'),\n",
       " ('okay thank you so much for your time.', 'positive'),\n",
       " ('then okay i will call again on tuesday bye bye.', 'neutral'),\n",
       " ('sure I can call you back on next tuesday. thanks so much.', 'positive'),\n",
       " ('hi this is leon calling from income ntuc. is it a good time to speak for a while?',\n",
       "  'neutral'),\n",
       " ('ya hello good afternoon speak to leon please. afternoon mister leon my name is jimmy and im actually calling from income.',\n",
       "  'positive'),\n",
       " ('ya you see even just now he message me he said wah i wanna die.',\n",
       "  'negative'),\n",
       " ('currently we partnership with abcd. can i check with you is this a good time to speak with you right now?',\n",
       "  'positive'),\n",
       " ('good evening may i speak to mister leon please? my name is Leon and im calling from Income. may I speak with you for a few minutes?',\n",
       "  'positive'),\n",
       " ('thank you for calling income. this is leon how may i assist you?',\n",
       "  'positive'),\n",
       " ('ya hello good afternoon speak to nanny seah please afternoon miss nanny my name is jaguar shao and',\n",
       "  'neutral'),\n",
       " ('as a result of that insurance company actually formulated a very special thirtieth anniversay insurance bundle right called the i thirty',\n",
       "  'neutral'),\n",
       " ('i dont want to talk with you', 'negative'),\n",
       " ('I hate you', 'negative')]"
      ]
     },
     "execution_count": 12,
     "metadata": {},
     "output_type": "execute_result"
    }
   ],
   "source": [
    "generate_label(output_ls, sentence_ls)"
   ]
  }
 ],
 "metadata": {
  "kernelspec": {
   "display_name": "venv2022",
   "language": "python",
   "name": "venv2022"
  },
  "language_info": {
   "codemirror_mode": {
    "name": "ipython",
    "version": 3
   },
   "file_extension": ".py",
   "mimetype": "text/x-python",
   "name": "python",
   "nbconvert_exporter": "python",
   "pygments_lexer": "ipython3",
   "version": "3.7.13"
  }
 },
 "nbformat": 4,
 "nbformat_minor": 5
}
