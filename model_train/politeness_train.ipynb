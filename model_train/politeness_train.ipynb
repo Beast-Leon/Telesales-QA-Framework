{
 "cells": [
  {
   "cell_type": "markdown",
   "id": "0e4e88ee",
   "metadata": {},
   "source": [
    "### Test function"
   ]
  },
  {
   "cell_type": "code",
   "execution_count": 1,
   "id": "99bf6134",
   "metadata": {},
   "outputs": [
    {
     "name": "stderr",
     "output_type": "stream",
     "text": [
      "[nltk_data] Downloading package punkt to /Users/leon/nltk_data...\n",
      "[nltk_data]   Package punkt is already up-to-date!\n"
     ]
    },
    {
     "data": {
      "text/plain": [
       "True"
      ]
     },
     "execution_count": 1,
     "metadata": {},
     "output_type": "execute_result"
    }
   ],
   "source": [
    "import nltk\n",
    "import spacy\n",
    "nltk.download('punkt')"
   ]
  },
  {
   "cell_type": "code",
   "execution_count": 2,
   "id": "8bd8d7fe",
   "metadata": {},
   "outputs": [],
   "source": [
    "sample_text = \"What are you trying to do?  Why can't you just store the \\\"Range\\\"?\""
   ]
  },
  {
   "cell_type": "code",
   "execution_count": 3,
   "id": "12899084",
   "metadata": {},
   "outputs": [
    {
     "name": "stdout",
     "output_type": "stream",
     "text": [
      "What dobj 5 do []\n",
      "are aux 3 trying []\n",
      "you nsubj 3 trying []\n",
      "trying ROOT 3 trying [are, you, do, ?]\n",
      "to aux 5 do []\n",
      "do xcomp 3 trying [What, to]\n",
      "? punct 3 trying [ ]\n",
      "   6 ? []\n",
      "Why advmod 13 store []\n",
      "ca aux 13 store []\n",
      "n't neg 13 store []\n",
      "you nsubj 13 store []\n",
      "just advmod 13 store []\n",
      "store ROOT 13 store [Why, ca, n't, you, just, Range, ?]\n",
      "the det 16 Range []\n",
      "\" punct 16 Range []\n",
      "Range dobj 13 store [the, \", \"]\n",
      "\" punct 16 Range []\n",
      "? punct 13 store []\n"
     ]
    }
   ],
   "source": [
    "nlp = spacy.load('en_core_web_lg')\n",
    "doc = nlp(sample_text)\n",
    "for token in doc:\n",
    "    print(token.text, token.dep_, token.head.i, token.head.text, [child for child in token.children])"
   ]
  },
  {
   "cell_type": "code",
   "execution_count": 4,
   "id": "cd6bbb9d",
   "metadata": {},
   "outputs": [
    {
     "data": {
      "text/html": [
       "<span class=\"tex2jax_ignore\"><svg xmlns=\"http://www.w3.org/2000/svg\" xmlns:xlink=\"http://www.w3.org/1999/xlink\" xml:lang=\"en\" id=\"7df68a6dd9f24e0d924100dd609f8934-0\" class=\"displacy\" width=\"2675\" height=\"574.5\" direction=\"ltr\" style=\"max-width: none; height: 574.5px; color: #000000; background: #ffffff; font-family: Arial; direction: ltr\">\n",
       "<text class=\"displacy-token\" fill=\"currentColor\" text-anchor=\"middle\" y=\"484.5\">\n",
       "    <tspan class=\"displacy-word\" fill=\"currentColor\" x=\"50\">What</tspan>\n",
       "    <tspan class=\"displacy-tag\" dy=\"2em\" fill=\"currentColor\" x=\"50\">PRON</tspan>\n",
       "</text>\n",
       "\n",
       "<text class=\"displacy-token\" fill=\"currentColor\" text-anchor=\"middle\" y=\"484.5\">\n",
       "    <tspan class=\"displacy-word\" fill=\"currentColor\" x=\"225\">are</tspan>\n",
       "    <tspan class=\"displacy-tag\" dy=\"2em\" fill=\"currentColor\" x=\"225\">AUX</tspan>\n",
       "</text>\n",
       "\n",
       "<text class=\"displacy-token\" fill=\"currentColor\" text-anchor=\"middle\" y=\"484.5\">\n",
       "    <tspan class=\"displacy-word\" fill=\"currentColor\" x=\"400\">you</tspan>\n",
       "    <tspan class=\"displacy-tag\" dy=\"2em\" fill=\"currentColor\" x=\"400\">PRON</tspan>\n",
       "</text>\n",
       "\n",
       "<text class=\"displacy-token\" fill=\"currentColor\" text-anchor=\"middle\" y=\"484.5\">\n",
       "    <tspan class=\"displacy-word\" fill=\"currentColor\" x=\"575\">trying</tspan>\n",
       "    <tspan class=\"displacy-tag\" dy=\"2em\" fill=\"currentColor\" x=\"575\">VERB</tspan>\n",
       "</text>\n",
       "\n",
       "<text class=\"displacy-token\" fill=\"currentColor\" text-anchor=\"middle\" y=\"484.5\">\n",
       "    <tspan class=\"displacy-word\" fill=\"currentColor\" x=\"750\">to</tspan>\n",
       "    <tspan class=\"displacy-tag\" dy=\"2em\" fill=\"currentColor\" x=\"750\">PART</tspan>\n",
       "</text>\n",
       "\n",
       "<text class=\"displacy-token\" fill=\"currentColor\" text-anchor=\"middle\" y=\"484.5\">\n",
       "    <tspan class=\"displacy-word\" fill=\"currentColor\" x=\"925\">do?</tspan>\n",
       "    <tspan class=\"displacy-tag\" dy=\"2em\" fill=\"currentColor\" x=\"925\">VERB</tspan>\n",
       "</text>\n",
       "\n",
       "<text class=\"displacy-token\" fill=\"currentColor\" text-anchor=\"middle\" y=\"484.5\">\n",
       "    <tspan class=\"displacy-word\" fill=\"currentColor\" x=\"1100\"> </tspan>\n",
       "    <tspan class=\"displacy-tag\" dy=\"2em\" fill=\"currentColor\" x=\"1100\">SPACE</tspan>\n",
       "</text>\n",
       "\n",
       "<text class=\"displacy-token\" fill=\"currentColor\" text-anchor=\"middle\" y=\"484.5\">\n",
       "    <tspan class=\"displacy-word\" fill=\"currentColor\" x=\"1275\">Why</tspan>\n",
       "    <tspan class=\"displacy-tag\" dy=\"2em\" fill=\"currentColor\" x=\"1275\">ADV</tspan>\n",
       "</text>\n",
       "\n",
       "<text class=\"displacy-token\" fill=\"currentColor\" text-anchor=\"middle\" y=\"484.5\">\n",
       "    <tspan class=\"displacy-word\" fill=\"currentColor\" x=\"1450\">ca</tspan>\n",
       "    <tspan class=\"displacy-tag\" dy=\"2em\" fill=\"currentColor\" x=\"1450\">VERB</tspan>\n",
       "</text>\n",
       "\n",
       "<text class=\"displacy-token\" fill=\"currentColor\" text-anchor=\"middle\" y=\"484.5\">\n",
       "    <tspan class=\"displacy-word\" fill=\"currentColor\" x=\"1625\">n't</tspan>\n",
       "    <tspan class=\"displacy-tag\" dy=\"2em\" fill=\"currentColor\" x=\"1625\">PART</tspan>\n",
       "</text>\n",
       "\n",
       "<text class=\"displacy-token\" fill=\"currentColor\" text-anchor=\"middle\" y=\"484.5\">\n",
       "    <tspan class=\"displacy-word\" fill=\"currentColor\" x=\"1800\">you</tspan>\n",
       "    <tspan class=\"displacy-tag\" dy=\"2em\" fill=\"currentColor\" x=\"1800\">PRON</tspan>\n",
       "</text>\n",
       "\n",
       "<text class=\"displacy-token\" fill=\"currentColor\" text-anchor=\"middle\" y=\"484.5\">\n",
       "    <tspan class=\"displacy-word\" fill=\"currentColor\" x=\"1975\">just</tspan>\n",
       "    <tspan class=\"displacy-tag\" dy=\"2em\" fill=\"currentColor\" x=\"1975\">ADV</tspan>\n",
       "</text>\n",
       "\n",
       "<text class=\"displacy-token\" fill=\"currentColor\" text-anchor=\"middle\" y=\"484.5\">\n",
       "    <tspan class=\"displacy-word\" fill=\"currentColor\" x=\"2150\">store</tspan>\n",
       "    <tspan class=\"displacy-tag\" dy=\"2em\" fill=\"currentColor\" x=\"2150\">VERB</tspan>\n",
       "</text>\n",
       "\n",
       "<text class=\"displacy-token\" fill=\"currentColor\" text-anchor=\"middle\" y=\"484.5\">\n",
       "    <tspan class=\"displacy-word\" fill=\"currentColor\" x=\"2325\">the &quot;</tspan>\n",
       "    <tspan class=\"displacy-tag\" dy=\"2em\" fill=\"currentColor\" x=\"2325\">DET</tspan>\n",
       "</text>\n",
       "\n",
       "<text class=\"displacy-token\" fill=\"currentColor\" text-anchor=\"middle\" y=\"484.5\">\n",
       "    <tspan class=\"displacy-word\" fill=\"currentColor\" x=\"2500\">Range&quot;?</tspan>\n",
       "    <tspan class=\"displacy-tag\" dy=\"2em\" fill=\"currentColor\" x=\"2500\">PROPN</tspan>\n",
       "</text>\n",
       "\n",
       "<g class=\"displacy-arrow\">\n",
       "    <path class=\"displacy-arc\" id=\"arrow-7df68a6dd9f24e0d924100dd609f8934-0-0\" stroke-width=\"2px\" d=\"M70,439.5 C70,2.0 925.0,2.0 925.0,439.5\" fill=\"none\" stroke=\"currentColor\"/>\n",
       "    <text dy=\"1.25em\" style=\"font-size: 0.8em; letter-spacing: 1px\">\n",
       "        <textPath xlink:href=\"#arrow-7df68a6dd9f24e0d924100dd609f8934-0-0\" class=\"displacy-label\" startOffset=\"50%\" side=\"left\" fill=\"currentColor\" text-anchor=\"middle\">dobj</textPath>\n",
       "    </text>\n",
       "    <path class=\"displacy-arrowhead\" d=\"M70,441.5 L62,429.5 78,429.5\" fill=\"currentColor\"/>\n",
       "</g>\n",
       "\n",
       "<g class=\"displacy-arrow\">\n",
       "    <path class=\"displacy-arc\" id=\"arrow-7df68a6dd9f24e0d924100dd609f8934-0-1\" stroke-width=\"2px\" d=\"M245,439.5 C245,264.5 560.0,264.5 560.0,439.5\" fill=\"none\" stroke=\"currentColor\"/>\n",
       "    <text dy=\"1.25em\" style=\"font-size: 0.8em; letter-spacing: 1px\">\n",
       "        <textPath xlink:href=\"#arrow-7df68a6dd9f24e0d924100dd609f8934-0-1\" class=\"displacy-label\" startOffset=\"50%\" side=\"left\" fill=\"currentColor\" text-anchor=\"middle\">aux</textPath>\n",
       "    </text>\n",
       "    <path class=\"displacy-arrowhead\" d=\"M245,441.5 L237,429.5 253,429.5\" fill=\"currentColor\"/>\n",
       "</g>\n",
       "\n",
       "<g class=\"displacy-arrow\">\n",
       "    <path class=\"displacy-arc\" id=\"arrow-7df68a6dd9f24e0d924100dd609f8934-0-2\" stroke-width=\"2px\" d=\"M420,439.5 C420,352.0 555.0,352.0 555.0,439.5\" fill=\"none\" stroke=\"currentColor\"/>\n",
       "    <text dy=\"1.25em\" style=\"font-size: 0.8em; letter-spacing: 1px\">\n",
       "        <textPath xlink:href=\"#arrow-7df68a6dd9f24e0d924100dd609f8934-0-2\" class=\"displacy-label\" startOffset=\"50%\" side=\"left\" fill=\"currentColor\" text-anchor=\"middle\">nsubj</textPath>\n",
       "    </text>\n",
       "    <path class=\"displacy-arrowhead\" d=\"M420,441.5 L412,429.5 428,429.5\" fill=\"currentColor\"/>\n",
       "</g>\n",
       "\n",
       "<g class=\"displacy-arrow\">\n",
       "    <path class=\"displacy-arc\" id=\"arrow-7df68a6dd9f24e0d924100dd609f8934-0-3\" stroke-width=\"2px\" d=\"M770,439.5 C770,352.0 905.0,352.0 905.0,439.5\" fill=\"none\" stroke=\"currentColor\"/>\n",
       "    <text dy=\"1.25em\" style=\"font-size: 0.8em; letter-spacing: 1px\">\n",
       "        <textPath xlink:href=\"#arrow-7df68a6dd9f24e0d924100dd609f8934-0-3\" class=\"displacy-label\" startOffset=\"50%\" side=\"left\" fill=\"currentColor\" text-anchor=\"middle\">aux</textPath>\n",
       "    </text>\n",
       "    <path class=\"displacy-arrowhead\" d=\"M770,441.5 L762,429.5 778,429.5\" fill=\"currentColor\"/>\n",
       "</g>\n",
       "\n",
       "<g class=\"displacy-arrow\">\n",
       "    <path class=\"displacy-arc\" id=\"arrow-7df68a6dd9f24e0d924100dd609f8934-0-4\" stroke-width=\"2px\" d=\"M595,439.5 C595,264.5 910.0,264.5 910.0,439.5\" fill=\"none\" stroke=\"currentColor\"/>\n",
       "    <text dy=\"1.25em\" style=\"font-size: 0.8em; letter-spacing: 1px\">\n",
       "        <textPath xlink:href=\"#arrow-7df68a6dd9f24e0d924100dd609f8934-0-4\" class=\"displacy-label\" startOffset=\"50%\" side=\"left\" fill=\"currentColor\" text-anchor=\"middle\">xcomp</textPath>\n",
       "    </text>\n",
       "    <path class=\"displacy-arrowhead\" d=\"M910.0,441.5 L918.0,429.5 902.0,429.5\" fill=\"currentColor\"/>\n",
       "</g>\n",
       "\n",
       "<g class=\"displacy-arrow\">\n",
       "    <path class=\"displacy-arc\" id=\"arrow-7df68a6dd9f24e0d924100dd609f8934-0-5\" stroke-width=\"2px\" d=\"M945,439.5 C945,352.0 1080.0,352.0 1080.0,439.5\" fill=\"none\" stroke=\"currentColor\"/>\n",
       "    <text dy=\"1.25em\" style=\"font-size: 0.8em; letter-spacing: 1px\">\n",
       "        <textPath xlink:href=\"#arrow-7df68a6dd9f24e0d924100dd609f8934-0-5\" class=\"displacy-label\" startOffset=\"50%\" side=\"left\" fill=\"currentColor\" text-anchor=\"middle\"></textPath>\n",
       "    </text>\n",
       "    <path class=\"displacy-arrowhead\" d=\"M1080.0,441.5 L1088.0,429.5 1072.0,429.5\" fill=\"currentColor\"/>\n",
       "</g>\n",
       "\n",
       "<g class=\"displacy-arrow\">\n",
       "    <path class=\"displacy-arc\" id=\"arrow-7df68a6dd9f24e0d924100dd609f8934-0-6\" stroke-width=\"2px\" d=\"M1295,439.5 C1295,2.0 2150.0,2.0 2150.0,439.5\" fill=\"none\" stroke=\"currentColor\"/>\n",
       "    <text dy=\"1.25em\" style=\"font-size: 0.8em; letter-spacing: 1px\">\n",
       "        <textPath xlink:href=\"#arrow-7df68a6dd9f24e0d924100dd609f8934-0-6\" class=\"displacy-label\" startOffset=\"50%\" side=\"left\" fill=\"currentColor\" text-anchor=\"middle\">advmod</textPath>\n",
       "    </text>\n",
       "    <path class=\"displacy-arrowhead\" d=\"M1295,441.5 L1287,429.5 1303,429.5\" fill=\"currentColor\"/>\n",
       "</g>\n",
       "\n",
       "<g class=\"displacy-arrow\">\n",
       "    <path class=\"displacy-arc\" id=\"arrow-7df68a6dd9f24e0d924100dd609f8934-0-7\" stroke-width=\"2px\" d=\"M1470,439.5 C1470,89.5 2145.0,89.5 2145.0,439.5\" fill=\"none\" stroke=\"currentColor\"/>\n",
       "    <text dy=\"1.25em\" style=\"font-size: 0.8em; letter-spacing: 1px\">\n",
       "        <textPath xlink:href=\"#arrow-7df68a6dd9f24e0d924100dd609f8934-0-7\" class=\"displacy-label\" startOffset=\"50%\" side=\"left\" fill=\"currentColor\" text-anchor=\"middle\">aux</textPath>\n",
       "    </text>\n",
       "    <path class=\"displacy-arrowhead\" d=\"M1470,441.5 L1462,429.5 1478,429.5\" fill=\"currentColor\"/>\n",
       "</g>\n",
       "\n",
       "<g class=\"displacy-arrow\">\n",
       "    <path class=\"displacy-arc\" id=\"arrow-7df68a6dd9f24e0d924100dd609f8934-0-8\" stroke-width=\"2px\" d=\"M1645,439.5 C1645,177.0 2140.0,177.0 2140.0,439.5\" fill=\"none\" stroke=\"currentColor\"/>\n",
       "    <text dy=\"1.25em\" style=\"font-size: 0.8em; letter-spacing: 1px\">\n",
       "        <textPath xlink:href=\"#arrow-7df68a6dd9f24e0d924100dd609f8934-0-8\" class=\"displacy-label\" startOffset=\"50%\" side=\"left\" fill=\"currentColor\" text-anchor=\"middle\">neg</textPath>\n",
       "    </text>\n",
       "    <path class=\"displacy-arrowhead\" d=\"M1645,441.5 L1637,429.5 1653,429.5\" fill=\"currentColor\"/>\n",
       "</g>\n",
       "\n",
       "<g class=\"displacy-arrow\">\n",
       "    <path class=\"displacy-arc\" id=\"arrow-7df68a6dd9f24e0d924100dd609f8934-0-9\" stroke-width=\"2px\" d=\"M1820,439.5 C1820,264.5 2135.0,264.5 2135.0,439.5\" fill=\"none\" stroke=\"currentColor\"/>\n",
       "    <text dy=\"1.25em\" style=\"font-size: 0.8em; letter-spacing: 1px\">\n",
       "        <textPath xlink:href=\"#arrow-7df68a6dd9f24e0d924100dd609f8934-0-9\" class=\"displacy-label\" startOffset=\"50%\" side=\"left\" fill=\"currentColor\" text-anchor=\"middle\">nsubj</textPath>\n",
       "    </text>\n",
       "    <path class=\"displacy-arrowhead\" d=\"M1820,441.5 L1812,429.5 1828,429.5\" fill=\"currentColor\"/>\n",
       "</g>\n",
       "\n",
       "<g class=\"displacy-arrow\">\n",
       "    <path class=\"displacy-arc\" id=\"arrow-7df68a6dd9f24e0d924100dd609f8934-0-10\" stroke-width=\"2px\" d=\"M1995,439.5 C1995,352.0 2130.0,352.0 2130.0,439.5\" fill=\"none\" stroke=\"currentColor\"/>\n",
       "    <text dy=\"1.25em\" style=\"font-size: 0.8em; letter-spacing: 1px\">\n",
       "        <textPath xlink:href=\"#arrow-7df68a6dd9f24e0d924100dd609f8934-0-10\" class=\"displacy-label\" startOffset=\"50%\" side=\"left\" fill=\"currentColor\" text-anchor=\"middle\">advmod</textPath>\n",
       "    </text>\n",
       "    <path class=\"displacy-arrowhead\" d=\"M1995,441.5 L1987,429.5 2003,429.5\" fill=\"currentColor\"/>\n",
       "</g>\n",
       "\n",
       "<g class=\"displacy-arrow\">\n",
       "    <path class=\"displacy-arc\" id=\"arrow-7df68a6dd9f24e0d924100dd609f8934-0-11\" stroke-width=\"2px\" d=\"M2345,439.5 C2345,352.0 2480.0,352.0 2480.0,439.5\" fill=\"none\" stroke=\"currentColor\"/>\n",
       "    <text dy=\"1.25em\" style=\"font-size: 0.8em; letter-spacing: 1px\">\n",
       "        <textPath xlink:href=\"#arrow-7df68a6dd9f24e0d924100dd609f8934-0-11\" class=\"displacy-label\" startOffset=\"50%\" side=\"left\" fill=\"currentColor\" text-anchor=\"middle\">det</textPath>\n",
       "    </text>\n",
       "    <path class=\"displacy-arrowhead\" d=\"M2345,441.5 L2337,429.5 2353,429.5\" fill=\"currentColor\"/>\n",
       "</g>\n",
       "\n",
       "<g class=\"displacy-arrow\">\n",
       "    <path class=\"displacy-arc\" id=\"arrow-7df68a6dd9f24e0d924100dd609f8934-0-12\" stroke-width=\"2px\" d=\"M2170,439.5 C2170,264.5 2485.0,264.5 2485.0,439.5\" fill=\"none\" stroke=\"currentColor\"/>\n",
       "    <text dy=\"1.25em\" style=\"font-size: 0.8em; letter-spacing: 1px\">\n",
       "        <textPath xlink:href=\"#arrow-7df68a6dd9f24e0d924100dd609f8934-0-12\" class=\"displacy-label\" startOffset=\"50%\" side=\"left\" fill=\"currentColor\" text-anchor=\"middle\">dobj</textPath>\n",
       "    </text>\n",
       "    <path class=\"displacy-arrowhead\" d=\"M2485.0,441.5 L2493.0,429.5 2477.0,429.5\" fill=\"currentColor\"/>\n",
       "</g>\n",
       "</svg></span>"
      ],
      "text/plain": [
       "<IPython.core.display.HTML object>"
      ]
     },
     "metadata": {},
     "output_type": "display_data"
    }
   ],
   "source": [
    "from spacy import displacy\n",
    "displacy.render(doc, jupyter = True)"
   ]
  },
  {
   "cell_type": "code",
   "execution_count": 5,
   "id": "bf8b9146",
   "metadata": {},
   "outputs": [],
   "source": [
    "from politeness.scripts.format_input import *\n",
    "from politeness.scripts.train_model import *"
   ]
  },
  {
   "cell_type": "code",
   "execution_count": 6,
   "id": "97f0e5f0",
   "metadata": {},
   "outputs": [],
   "source": [
    "def get_parses(spacy_doc):\n",
    "    parse = {'deps': [], 'sent': \"\"}\n",
    "    try:\n",
    "        parse_ls = []\n",
    "        for token in spacy_doc:\n",
    "            parse_str = \"\"\n",
    "            cur_dep = token.dep_\n",
    "            head_text = token.head.text\n",
    "            cur_text = token.text\n",
    "            if cur_dep == 'ROOT':\n",
    "                cur_dep = cur_dep.lower()\n",
    "                head_id = 0\n",
    "                head_text = 'ROOT'\n",
    "                cur_id = token.i + 1\n",
    "            else:\n",
    "                head_id = token.head.i + 1\n",
    "                cur_id = token.i + 1\n",
    "            parse_str += cur_dep + \"(\" + head_text + \"-\" + str(head_id) + \", \" + cur_text + \"-\" + str(cur_id) + \")\"\n",
    "            parse_ls.append(parse_str)\n",
    "        parse['deps'] = parse_ls\n",
    "        parse['sent'] = spacy_doc.text\n",
    "    except Exception as e:\n",
    "        print(e)\n",
    "    return parse"
   ]
  },
  {
   "cell_type": "code",
   "execution_count": 7,
   "id": "33f506fe",
   "metadata": {},
   "outputs": [],
   "source": [
    "def format_doc(doc, score):\n",
    "    sents = get_sentences(doc)\n",
    "    raw_parses = []\n",
    "    for sent in sents:\n",
    "        nlp_sent = nlp(sent)\n",
    "        raw_parses.append(get_parses(nlp_sent))\n",
    "    parse_dict = {\"text\": doc,\n",
    "                \"sentences\": [],\n",
    "                \"parses\": [],\n",
    "                \"score\": score}\n",
    "    for raw in raw_parses:\n",
    "        parse_dict['sentences'].append(clean_treeparse(raw['sent']))\n",
    "        parse_dict['parses'].append(raw['deps'])\n",
    "    return parse_dict"
   ]
  },
  {
   "cell_type": "code",
   "execution_count": 8,
   "id": "313dc1e0",
   "metadata": {},
   "outputs": [],
   "source": [
    "parse_dict = format_doc(sample_text, -0.7)"
   ]
  },
  {
   "cell_type": "code",
   "execution_count": 19,
   "id": "38afcd48",
   "metadata": {},
   "outputs": [
    {
     "name": "stdout",
     "output_type": "stream",
     "text": [
      "Splitting Testing and Training Docs...\n",
      "Saving Testing Docs for Later...\n",
      "Fitting...\n",
      "              precision    recall  f1-score   support\n",
      "\n",
      "         0.0       0.00      0.00      0.00       217\n",
      "         1.0       0.57      1.00      0.72       283\n",
      "\n",
      "    accuracy                           0.57       500\n",
      "   macro avg       0.28      0.50      0.36       500\n",
      "weighted avg       0.32      0.57      0.41       500\n",
      "\n"
     ]
    },
    {
     "name": "stderr",
     "output_type": "stream",
     "text": [
      "/opt/anaconda3/envs/tensorflow/lib/python3.7/site-packages/sklearn/metrics/_classification.py:1318: UndefinedMetricWarning: Precision and F-score are ill-defined and being set to 0.0 in labels with no predicted samples. Use `zero_division` parameter to control this behavior.\n",
      "  _warn_prf(average, modifier, msg_start, len(result))\n",
      "/opt/anaconda3/envs/tensorflow/lib/python3.7/site-packages/sklearn/metrics/_classification.py:1318: UndefinedMetricWarning: Precision and F-score are ill-defined and being set to 0.0 in labels with no predicted samples. Use `zero_division` parameter to control this behavior.\n",
      "  _warn_prf(average, modifier, msg_start, len(result))\n",
      "/opt/anaconda3/envs/tensorflow/lib/python3.7/site-packages/sklearn/metrics/_classification.py:1318: UndefinedMetricWarning: Precision and F-score are ill-defined and being set to 0.0 in labels with no predicted samples. Use `zero_division` parameter to control this behavior.\n",
      "  _warn_prf(average, modifier, msg_start, len(result))\n"
     ]
    }
   ],
   "source": [
    "#clf = train_lgb(full_document, 500)"
   ]
  },
  {
   "cell_type": "markdown",
   "id": "18f228e6",
   "metadata": {},
   "source": [
    "### Prepration for training"
   ]
  },
  {
   "cell_type": "code",
   "execution_count": 23,
   "id": "57aa72cf",
   "metadata": {},
   "outputs": [],
   "source": [
    "# Load X, y vector\n",
    "with open('X_full.pkl', 'rb') as f:\n",
    "    X = pickle.load(f)\n",
    "with open('y_full.pkl', 'rb') as f:\n",
    "    y = pickle.load(f)"
   ]
  },
  {
   "cell_type": "code",
   "execution_count": 24,
   "id": "254e8676",
   "metadata": {},
   "outputs": [
    {
     "data": {
      "text/plain": [
       "(10956, 796)"
      ]
     },
     "execution_count": 24,
     "metadata": {},
     "output_type": "execute_result"
    }
   ],
   "source": [
    "X.shape"
   ]
  },
  {
   "cell_type": "code",
   "execution_count": 26,
   "id": "0de979e5",
   "metadata": {},
   "outputs": [
    {
     "data": {
      "text/plain": [
       "numpy.ndarray"
      ]
     },
     "execution_count": 26,
     "metadata": {},
     "output_type": "execute_result"
    }
   ],
   "source": [
    "type(y)"
   ]
  },
  {
   "cell_type": "code",
   "execution_count": 31,
   "id": "a2bddf4d",
   "metadata": {},
   "outputs": [
    {
     "name": "stdout",
     "output_type": "stream",
     "text": [
      "Count of label = 1:  6036\n",
      "Count of label = 0:  4920\n"
     ]
    }
   ],
   "source": [
    "import numpy as np\n",
    "print(\"Count of label = 1: \", np.count_nonzero(y > 0))\n",
    "print(\"Count of label = 0: \", (y == 0).sum()) "
   ]
  },
  {
   "cell_type": "markdown",
   "id": "a7c8e5af",
   "metadata": {},
   "source": [
    "#### Split to train and test set using stratified split"
   ]
  },
  {
   "cell_type": "code",
   "execution_count": 42,
   "id": "06a61850",
   "metadata": {},
   "outputs": [],
   "source": [
    "from sklearn.model_selection import train_test_split\n",
    "from imblearn.over_sampling import SMOTE\n",
    "sm = SMOTE(random_state = 42)\n",
    "X_sm, y_sm = sm.fit_resample(X, y)\n",
    "X_train, X_test, y_train, y_test = train_test_split(\n",
    "        X_sm, y_sm, test_size=0.33, random_state=42, stratify = y_sm)"
   ]
  },
  {
   "cell_type": "code",
   "execution_count": 43,
   "id": "c36cf31e",
   "metadata": {},
   "outputs": [
    {
     "name": "stdout",
     "output_type": "stream",
     "text": [
      "Count of label = 1 in train data:  4044\n",
      "Count of label = 0 in train data:  4044\n"
     ]
    }
   ],
   "source": [
    "print(\"Count of label = 1 in train data: \", np.count_nonzero(y_train > 0))\n",
    "print(\"Count of label = 0 in train data: \", (y_train == 0).sum()) "
   ]
  },
  {
   "cell_type": "code",
   "execution_count": 44,
   "id": "6501c879",
   "metadata": {},
   "outputs": [
    {
     "name": "stdout",
     "output_type": "stream",
     "text": [
      "Count of label = 1 in test data:  1992\n",
      "Count of label = 0 in test data:  1992\n"
     ]
    }
   ],
   "source": [
    "print(\"Count of label = 1 in test data: \", np.count_nonzero(y_test > 0))\n",
    "print(\"Count of label = 0 in test data: \", (y_test == 0).sum()) "
   ]
  },
  {
   "cell_type": "code",
   "execution_count": 53,
   "id": "0f49252e",
   "metadata": {},
   "outputs": [],
   "source": [
    "# standardize data\n",
    "from sklearn.preprocessing import MinMaxScaler, StandardScaler\n",
    "standardizer = StandardScaler(with_mean = False)\n",
    "standardizer.fit(X_train)\n",
    "X_train = standardizer.transform(X_train)\n",
    "X_test = standardizer.transform(X_test)"
   ]
  },
  {
   "cell_type": "code",
   "execution_count": 99,
   "id": "877f4778",
   "metadata": {},
   "outputs": [],
   "source": [
    "# load model packages\n",
    "import xgboost as xgb\n",
    "from sklearn import svm\n",
    "from sklearn.ensemble import RandomForestClassifier\n",
    "from sklearn.ensemble import GradientBoostingClassifier\n",
    "# Load some metrics\n",
    "from sklearn.metrics import accuracy_score\n",
    "from sklearn import metrics\n",
    "from sklearn.metrics import classification_report\n",
    "\n",
    "# Load other sklearn packages\n",
    "from sklearn.model_selection import GridSearchCV\n",
    "\n",
    "# Load other packages\n",
    "from tqdm import tqdm"
   ]
  },
  {
   "cell_type": "code",
   "execution_count": 100,
   "id": "afdbc74d",
   "metadata": {},
   "outputs": [],
   "source": [
    "# #save and load model\n",
    "# filename = 'finalized_model.sav'\n",
    "# pickle.dump(models_to_train[2], open(filename, 'wb'))\n",
    "# loaded_model = pickle.load(open(filename, 'rb'))\n",
    "# result = loaded_model.score(X_test, y_test)"
   ]
  },
  {
   "cell_type": "markdown",
   "id": "e3ffd16e",
   "metadata": {},
   "source": [
    "#### Try several models"
   ]
  },
  {
   "cell_type": "code",
   "execution_count": 105,
   "id": "114ade3c",
   "metadata": {},
   "outputs": [],
   "source": [
    "def algorithm_pipeline(X_train_data, X_test_data, y_train_data, y_test_data, \n",
    "                       model, param_grid, save_name, cv=5, scoring_fit='accuracy', \n",
    "                       scoring_test=accuracy_score):\n",
    "    \n",
    "    gs = GridSearchCV(\n",
    "        estimator=model,\n",
    "        param_grid=param_grid, \n",
    "        cv=cv, \n",
    "        # n_jobs=4, \n",
    "        scoring=scoring_fit,\n",
    "        verbose=3\n",
    "    )    \n",
    "    fitted_model = gs.fit(X_train_data, y_train_data)\n",
    "    best_model = fitted_model.best_estimator_\n",
    "    pred = fitted_model.predict(X_test_data)\n",
    "    score = scoring_test(y_test_data, pred)\n",
    "    pickle.dump(best_model, open(save_name, 'wb'))\n",
    "    print('current best estimator is: ', best_model)\n",
    "    print('current best prediction score is: ', score)\n",
    "    # show current classification report\n",
    "    print(classification_report(y_test_data, pred))\n",
    "    return [best_model, pred, score]"
   ]
  },
  {
   "cell_type": "code",
   "execution_count": 106,
   "id": "b1fad23b",
   "metadata": {},
   "outputs": [],
   "source": [
    "grid_parameters = [\n",
    "    {# svm\n",
    "        'C': [0.02, 0.1],\n",
    "        'kernel': ['linear', 'rbf']\n",
    "    },\n",
    "    {# xgb\n",
    "        'n_estimators': [200, 220, 240, 260],\n",
    "        'max_depth': [8, 9, 10, 11, 12],\n",
    "        'subsample': [0.9, 1],\n",
    "        'colsample_bytree': [0.9, 1],\n",
    "        'reg_alpha':[0,0.01,0.015,0.02],\n",
    "        'eta': [0.15, 0.2, 0.25]\n",
    "    },\n",
    "    {# random forest\n",
    "        'n_estimators': [200, 220, 240, 260],\n",
    "        'max_depth': [8, 9, 10, 11, 12],\n",
    "        'max_features': [3, 4, 5, 6],\n",
    "        'min_samples_leaf': [3, 4, 5],\n",
    "        'min_samples_split': [3, 4, 5]\n",
    "        \n",
    "    },\n",
    "    {# gradient boosting\n",
    "        'n_estimators': [200, 220, 240, 260],\n",
    "        'max_depth': [8, 9, 10, 11, 12],\n",
    "        'min_samples_split': np.linspace(0.1, 1.0, 10, endpoint=True),\n",
    "        'min_samples_leaf': np.linspace(0.1, 0.5, 5, endpoint=True),\n",
    "        'max_features': list(range(1,35,3)),\n",
    "        'learning_rate': [0.15,0.2,0.25] \n",
    "    },\n",
    "    \n",
    "]"
   ]
  },
  {
   "cell_type": "code",
   "execution_count": 107,
   "id": "7aa88856",
   "metadata": {},
   "outputs": [],
   "source": [
    "models_to_train = [svm.SVC(random_state = 88),\n",
    "                   xgb.XGBClassifier(eval_metric=['logloss','auc','error'],use_label_encoder=False,random_state = 88),        \n",
    "                   RandomForestClassifier(random_state = 88),\n",
    "                   GradientBoostingClassifier(random_state = 88)]\n",
    "model_save_name = ['final_svm.sav', 'final_xgb.sav', 'final_rf.sav', 'final_gb.sav']"
   ]
  },
  {
   "cell_type": "code",
   "execution_count": 1,
   "id": "da1ddc8d",
   "metadata": {},
   "outputs": [
    {
     "ename": "NameError",
     "evalue": "name 'tqdm' is not defined",
     "output_type": "error",
     "traceback": [
      "\u001b[0;31m---------------------------------------------------------------------------\u001b[0m",
      "\u001b[0;31mNameError\u001b[0m                                 Traceback (most recent call last)",
      "\u001b[0;32m/var/folders/55/cpk8m1bs7k5_h_mnsypp_29c0000gn/T/ipykernel_5047/2016977538.py\u001b[0m in \u001b[0;36m<module>\u001b[0;34m\u001b[0m\n\u001b[1;32m      1\u001b[0m \u001b[0mmodels_preds_scores\u001b[0m \u001b[0;34m=\u001b[0m \u001b[0;34m[\u001b[0m\u001b[0;34m]\u001b[0m\u001b[0;34m\u001b[0m\u001b[0;34m\u001b[0m\u001b[0m\n\u001b[1;32m      2\u001b[0m \u001b[0;31m# loop through each model, 4 in this case\u001b[0m\u001b[0;34m\u001b[0m\u001b[0;34m\u001b[0m\u001b[0;34m\u001b[0m\u001b[0m\n\u001b[0;32m----> 3\u001b[0;31m \u001b[0;32mfor\u001b[0m \u001b[0mi\u001b[0m\u001b[0;34m,\u001b[0m \u001b[0mmodel\u001b[0m \u001b[0;32min\u001b[0m \u001b[0mtqdm\u001b[0m\u001b[0;34m(\u001b[0m\u001b[0menumerate\u001b[0m\u001b[0;34m(\u001b[0m\u001b[0mmodels_to_train\u001b[0m\u001b[0;34m)\u001b[0m\u001b[0;34m)\u001b[0m\u001b[0;34m:\u001b[0m\u001b[0;34m\u001b[0m\u001b[0;34m\u001b[0m\u001b[0m\n\u001b[0m\u001b[1;32m      4\u001b[0m     \u001b[0mparams\u001b[0m \u001b[0;34m=\u001b[0m \u001b[0mgrid_parameters\u001b[0m\u001b[0;34m[\u001b[0m\u001b[0mi\u001b[0m\u001b[0;34m]\u001b[0m\u001b[0;34m\u001b[0m\u001b[0;34m\u001b[0m\u001b[0m\n\u001b[1;32m      5\u001b[0m \u001b[0;34m\u001b[0m\u001b[0m\n",
      "\u001b[0;31mNameError\u001b[0m: name 'tqdm' is not defined"
     ]
    }
   ],
   "source": [
    "models_preds_scores = []\n",
    "# loop through each model, 4 in this case\n",
    "for i, model in tqdm(enumerate(models_to_train)):\n",
    "    params = grid_parameters[i]\n",
    "    \n",
    "    result = algorithm_pipeline(X_train, X_test, y_train, y_test,\n",
    "                                 model, params, model_save_name[i], cv=5)\n",
    "    models_preds_scores.append(result)"
   ]
  },
  {
   "cell_type": "markdown",
   "id": "d2ac1177",
   "metadata": {},
   "source": [
    "#### Load model from sav file"
   ]
  },
  {
   "cell_type": "code",
   "execution_count": 109,
   "id": "d41715a3",
   "metadata": {},
   "outputs": [
    {
     "name": "stdout",
     "output_type": "stream",
     "text": [
      "              precision    recall  f1-score   support\n",
      "\n",
      "         0.0       0.62      0.70      0.65      1992\n",
      "         1.0       0.65      0.57      0.61      1992\n",
      "\n",
      "    accuracy                           0.63      3984\n",
      "   macro avg       0.63      0.63      0.63      3984\n",
      "weighted avg       0.63      0.63      0.63      3984\n",
      "\n"
     ]
    }
   ],
   "source": [
    "# Try a sample model\n",
    "svm_model = pickle.load(open('final_svm.sav', 'rb'))\n",
    "# Predict\n",
    "svm_result = svm_model.predict(X_test)\n",
    "# Pring classification report\n",
    "print(classification_report(y_test, svm_result))"
   ]
  },
  {
   "cell_type": "code",
   "execution_count": 110,
   "id": "f204ee64",
   "metadata": {},
   "outputs": [
    {
     "name": "stdout",
     "output_type": "stream",
     "text": [
      "              precision    recall  f1-score   support\n",
      "\n",
      "         0.0       0.67      0.66      0.67      1992\n",
      "         1.0       0.67      0.68      0.67      1992\n",
      "\n",
      "    accuracy                           0.67      3984\n",
      "   macro avg       0.67      0.67      0.67      3984\n",
      "weighted avg       0.67      0.67      0.67      3984\n",
      "\n"
     ]
    }
   ],
   "source": [
    "# Check xgb model\n",
    "xgb_model = pickle.load(open('final_xgb.sav', 'rb'))\n",
    "# Predict\n",
    "xgb_result = xgb_model.predict(X_test)\n",
    "# Pring classification report\n",
    "print(classification_report(y_test, xgb_result))"
   ]
  },
  {
   "cell_type": "code",
   "execution_count": 111,
   "id": "e8542758",
   "metadata": {},
   "outputs": [
    {
     "name": "stdout",
     "output_type": "stream",
     "text": [
      "              precision    recall  f1-score   support\n",
      "\n",
      "         0.0       0.63      0.69      0.66      1992\n",
      "         1.0       0.66      0.59      0.62      1992\n",
      "\n",
      "    accuracy                           0.64      3984\n",
      "   macro avg       0.64      0.64      0.64      3984\n",
      "weighted avg       0.64      0.64      0.64      3984\n",
      "\n"
     ]
    }
   ],
   "source": [
    "# Check random forest model\n",
    "rf_model = pickle.load(open('final_rf.sav', 'rb'))\n",
    "# Predict\n",
    "rf_result = rf_model.predict(X_test)\n",
    "# Pring classification report\n",
    "print(classification_report(y_test, rf_result))"
   ]
  },
  {
   "cell_type": "markdown",
   "id": "d3f4fff4",
   "metadata": {},
   "source": []
  }
 ],
 "metadata": {
  "kernelspec": {
   "display_name": "venv2022",
   "language": "python",
   "name": "venv2022"
  },
  "language_info": {
   "codemirror_mode": {
    "name": "ipython",
    "version": 3
   },
   "file_extension": ".py",
   "mimetype": "text/x-python",
   "name": "python",
   "nbconvert_exporter": "python",
   "pygments_lexer": "ipython3",
   "version": "3.7.13"
  }
 },
 "nbformat": 4,
 "nbformat_minor": 5
}
