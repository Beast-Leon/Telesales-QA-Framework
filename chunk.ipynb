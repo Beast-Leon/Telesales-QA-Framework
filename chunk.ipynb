{
 "cells": [
  {
   "cell_type": "code",
   "execution_count": 1,
   "id": "7b26b376",
   "metadata": {},
   "outputs": [],
   "source": [
    "import nltk\n",
    "#nltk.download('all')\n",
    "import spacy\n",
    "nlp = spacy.load('en_core_web_lg', exclude = [\"parser\"])"
   ]
  },
  {
   "cell_type": "code",
   "execution_count": 108,
   "id": "03b092a3",
   "metadata": {},
   "outputs": [],
   "source": [
    "sentence = \"ya hello good afternoon speak to leon please good afternoon mister leon my name is jimmy and im actually calling from income may I know how can I help you today\""
   ]
  },
  {
   "cell_type": "code",
   "execution_count": 109,
   "id": "8091e611",
   "metadata": {},
   "outputs": [],
   "source": [
    "doc = nlp(sentence)"
   ]
  },
  {
   "cell_type": "code",
   "execution_count": 110,
   "id": "f0b12581",
   "metadata": {},
   "outputs": [
    {
     "name": "stdout",
     "output_type": "stream",
     "text": [
      "ya       INTJ   UH    \n",
      "hello    INTJ   UH    \n",
      "good     ADJ    JJ    \n",
      "afternoon NOUN   NN    \n",
      "speak    VERB   VBP   \n",
      "to       ADP    IN    \n",
      "leon     PROPN  NNP   \n",
      "please   INTJ   UH    \n",
      "good     ADJ    JJ    \n",
      "afternoon NOUN   NN    \n",
      "mister   PROPN  NNP   \n",
      "leon     PROPN  NNP   \n",
      "my       DET    PRP$  \n",
      "name     NOUN   NN    \n",
      "is       AUX    VBZ   \n",
      "jimmy    PROPN  NNP   \n",
      "and      CCONJ  CC    \n",
      "i        PRON   PRP   \n",
      "m        VERB   VBP   \n",
      "actually ADV    RB    \n",
      "calling  VERB   VBG   \n",
      "from     ADP    IN    \n",
      "income   NOUN   NN    \n",
      "may      VERB   MD    \n",
      "I        PRON   PRP   \n",
      "know     VERB   VBP   \n",
      "how      ADV    WRB   \n",
      "can      VERB   MD    \n",
      "I        PRON   PRP   \n",
      "help     VERB   VB    \n",
      "you      PRON   PRP   \n",
      "today    NOUN   NN    \n"
     ]
    }
   ],
   "source": [
    "for token in doc:\n",
    "    print(f'{token.text:{8}} {token.pos_:{6}} {token.tag_:{6}}')"
   ]
  },
  {
   "cell_type": "code",
   "execution_count": 37,
   "id": "a5902b3a",
   "metadata": {},
   "outputs": [
    {
     "name": "stdout",
     "output_type": "stream",
     "text": [
      "[('ya', 'UH'), ('hello', 'UH'), ('good', 'JJ'), ('afternoon', 'NN'), ('speak', 'VBP'), ('to', 'IN'), ('leon', 'NNP'), ('please', 'UH'), ('afternoon', 'NN'), ('mister', 'NNP'), ('leon', 'NNP'), ('my', 'PRP$'), ('name', 'NN'), ('is', 'VBZ'), ('jimmy', 'NNP'), ('and', 'CC'), ('i', 'PRP'), ('m', 'VBP'), ('actually', 'RB'), ('calling', 'VBG'), ('from', 'IN'), ('income', 'NN')]\n"
     ]
    }
   ],
   "source": [
    "# Convert spacy pos result to the one accpeted by nltk\n",
    "pos_ls = []\n",
    "for token in doc:\n",
    "    pos_ls.append((token.text, token.tag_))\n",
    "print(pos_ls)"
   ]
  },
  {
   "cell_type": "code",
   "execution_count": 38,
   "id": "f394f2d4",
   "metadata": {},
   "outputs": [
    {
     "name": "stdout",
     "output_type": "stream",
     "text": [
      "(S\n",
      "  (Sentence\n",
      "    ya/UH\n",
      "    hello/UH\n",
      "    (NP good/JJ afternoon/NN)\n",
      "    (VP speak/VBP (PP to/IN (NP leon/NNP))))\n",
      "  (Sentence\n",
      "    please/UH\n",
      "    (NP afternoon/NN mister/NNP leon/NNP my/PRP$ name/NN)\n",
      "    (VP is/VBZ (NP jimmy/NNP)))\n",
      "  and/CC\n",
      "  (Sentence\n",
      "    (NP i/PRP)\n",
      "    (VP m/VBP actually/RB calling/VBG (PP from/IN (NP income/NN)))))\n"
     ]
    },
    {
     "data": {
      "image/svg+xml": [
       "<svg baseProfile=\"full\" height=\"312px\" preserveAspectRatio=\"xMidYMid meet\" style=\"font-family: times, serif; font-weight:normal; font-style: normal; font-size: 16px;\" version=\"1.1\" viewBox=\"0,0,1200.0,312.0\" width=\"1200px\" xmlns=\"http://www.w3.org/2000/svg\" xmlns:ev=\"http://www.w3.org/2001/xml-events\" xmlns:xlink=\"http://www.w3.org/1999/xlink\"><defs /><svg width=\"100%\" x=\"0\" y=\"0em\"><defs /><text text-anchor=\"middle\" x=\"50%\" y=\"1em\">S</text></svg><svg width=\"30%\" x=\"0%\" y=\"3em\"><defs /><svg width=\"100%\" x=\"0\" y=\"0em\"><defs /><text text-anchor=\"middle\" x=\"50%\" y=\"1em\">Sentence</text></svg><svg width=\"8.88889%\" x=\"0%\" y=\"3em\"><defs /><svg width=\"100%\" x=\"0\" y=\"0em\"><defs /><text text-anchor=\"middle\" x=\"50%\" y=\"1em\">ya</text></svg><svg width=\"100%\" x=\"0%\" y=\"3em\"><defs /><svg width=\"100%\" x=\"0\" y=\"0em\"><defs /><text text-anchor=\"middle\" x=\"50%\" y=\"1em\">UH</text></svg></svg><line stroke=\"black\" x1=\"50%\" x2=\"50%\" y1=\"1.2em\" y2=\"3em\" /></svg><line stroke=\"black\" x1=\"50%\" x2=\"4.44444%\" y1=\"1.2em\" y2=\"3em\" /><svg width=\"15.5556%\" x=\"8.88889%\" y=\"3em\"><defs /><svg width=\"100%\" x=\"0\" y=\"0em\"><defs /><text text-anchor=\"middle\" x=\"50%\" y=\"1em\">hello</text></svg><svg width=\"100%\" x=\"0%\" y=\"3em\"><defs /><svg width=\"100%\" x=\"0\" y=\"0em\"><defs /><text text-anchor=\"middle\" x=\"50%\" y=\"1em\">UH</text></svg></svg><line stroke=\"black\" x1=\"50%\" x2=\"50%\" y1=\"1.2em\" y2=\"3em\" /></svg><line stroke=\"black\" x1=\"50%\" x2=\"16.6667%\" y1=\"1.2em\" y2=\"3em\" /><svg width=\"37.7778%\" x=\"24.4444%\" y=\"3em\"><defs /><svg width=\"100%\" x=\"0\" y=\"0em\"><defs /><text text-anchor=\"middle\" x=\"50%\" y=\"1em\">NP</text></svg><svg width=\"35.2941%\" x=\"0%\" y=\"3em\"><defs /><svg width=\"100%\" x=\"0\" y=\"0em\"><defs /><text text-anchor=\"middle\" x=\"50%\" y=\"1em\">good</text></svg><svg width=\"100%\" x=\"0%\" y=\"3em\"><defs /><svg width=\"100%\" x=\"0\" y=\"0em\"><defs /><text text-anchor=\"middle\" x=\"50%\" y=\"1em\">JJ</text></svg></svg><line stroke=\"black\" x1=\"50%\" x2=\"50%\" y1=\"1.2em\" y2=\"3em\" /></svg><line stroke=\"black\" x1=\"50%\" x2=\"17.6471%\" y1=\"1.2em\" y2=\"3em\" /><svg width=\"64.7059%\" x=\"35.2941%\" y=\"3em\"><defs /><svg width=\"100%\" x=\"0\" y=\"0em\"><defs /><text text-anchor=\"middle\" x=\"50%\" y=\"1em\">afternoon</text></svg><svg width=\"100%\" x=\"0%\" y=\"3em\"><defs /><svg width=\"100%\" x=\"0\" y=\"0em\"><defs /><text text-anchor=\"middle\" x=\"50%\" y=\"1em\">NN</text></svg></svg><line stroke=\"black\" x1=\"50%\" x2=\"50%\" y1=\"1.2em\" y2=\"3em\" /></svg><line stroke=\"black\" x1=\"50%\" x2=\"67.6471%\" y1=\"1.2em\" y2=\"3em\" /></svg><line stroke=\"black\" x1=\"50%\" x2=\"43.3333%\" y1=\"1.2em\" y2=\"3em\" /><svg width=\"37.7778%\" x=\"62.2222%\" y=\"3em\"><defs /><svg width=\"100%\" x=\"0\" y=\"0em\"><defs /><text text-anchor=\"middle\" x=\"50%\" y=\"1em\">VP</text></svg><svg width=\"41.1765%\" x=\"0%\" y=\"3em\"><defs /><svg width=\"100%\" x=\"0\" y=\"0em\"><defs /><text text-anchor=\"middle\" x=\"50%\" y=\"1em\">speak</text></svg><svg width=\"100%\" x=\"0%\" y=\"3em\"><defs /><svg width=\"100%\" x=\"0\" y=\"0em\"><defs /><text text-anchor=\"middle\" x=\"50%\" y=\"1em\">VBP</text></svg></svg><line stroke=\"black\" x1=\"50%\" x2=\"50%\" y1=\"1.2em\" y2=\"3em\" /></svg><line stroke=\"black\" x1=\"50%\" x2=\"20.5882%\" y1=\"1.2em\" y2=\"3em\" /><svg width=\"58.8235%\" x=\"41.1765%\" y=\"3em\"><defs /><svg width=\"100%\" x=\"0\" y=\"0em\"><defs /><text text-anchor=\"middle\" x=\"50%\" y=\"1em\">PP</text></svg><svg width=\"40%\" x=\"0%\" y=\"3em\"><defs /><svg width=\"100%\" x=\"0\" y=\"0em\"><defs /><text text-anchor=\"middle\" x=\"50%\" y=\"1em\">to</text></svg><svg width=\"100%\" x=\"0%\" y=\"3em\"><defs /><svg width=\"100%\" x=\"0\" y=\"0em\"><defs /><text text-anchor=\"middle\" x=\"50%\" y=\"1em\">IN</text></svg></svg><line stroke=\"black\" x1=\"50%\" x2=\"50%\" y1=\"1.2em\" y2=\"3em\" /></svg><line stroke=\"black\" x1=\"50%\" x2=\"20%\" y1=\"1.2em\" y2=\"3em\" /><svg width=\"60%\" x=\"40%\" y=\"3em\"><defs /><svg width=\"100%\" x=\"0\" y=\"0em\"><defs /><text text-anchor=\"middle\" x=\"50%\" y=\"1em\">NP</text></svg><svg width=\"100%\" x=\"0%\" y=\"3em\"><defs /><svg width=\"100%\" x=\"0\" y=\"0em\"><defs /><text text-anchor=\"middle\" x=\"50%\" y=\"1em\">leon</text></svg><svg width=\"100%\" x=\"0%\" y=\"3em\"><defs /><svg width=\"100%\" x=\"0\" y=\"0em\"><defs /><text text-anchor=\"middle\" x=\"50%\" y=\"1em\">NNP</text></svg></svg><line stroke=\"black\" x1=\"50%\" x2=\"50%\" y1=\"1.2em\" y2=\"3em\" /></svg><line stroke=\"black\" x1=\"50%\" x2=\"50%\" y1=\"1.2em\" y2=\"3em\" /></svg><line stroke=\"black\" x1=\"50%\" x2=\"70%\" y1=\"1.2em\" y2=\"3em\" /></svg><line stroke=\"black\" x1=\"50%\" x2=\"70.5882%\" y1=\"1.2em\" y2=\"3em\" /></svg><line stroke=\"black\" x1=\"50%\" x2=\"81.1111%\" y1=\"1.2em\" y2=\"3em\" /></svg><line stroke=\"black\" x1=\"50%\" x2=\"15%\" y1=\"1.2em\" y2=\"3em\" /><svg width=\"38%\" x=\"30%\" y=\"3em\"><defs /><svg width=\"100%\" x=\"0\" y=\"0em\"><defs /><text text-anchor=\"middle\" x=\"50%\" y=\"1em\">Sentence</text></svg><svg width=\"14.0351%\" x=\"0%\" y=\"3em\"><defs /><svg width=\"100%\" x=\"0\" y=\"0em\"><defs /><text text-anchor=\"middle\" x=\"50%\" y=\"1em\">please</text></svg><svg width=\"100%\" x=\"0%\" y=\"3em\"><defs /><svg width=\"100%\" x=\"0\" y=\"0em\"><defs /><text text-anchor=\"middle\" x=\"50%\" y=\"1em\">UH</text></svg></svg><line stroke=\"black\" x1=\"50%\" x2=\"50%\" y1=\"1.2em\" y2=\"3em\" /></svg><line stroke=\"black\" x1=\"50%\" x2=\"7.01754%\" y1=\"1.2em\" y2=\"3em\" /><svg width=\"64.9123%\" x=\"14.0351%\" y=\"3em\"><defs /><svg width=\"100%\" x=\"0\" y=\"0em\"><defs /><text text-anchor=\"middle\" x=\"50%\" y=\"1em\">NP</text></svg><svg width=\"29.7297%\" x=\"0%\" y=\"3em\"><defs /><svg width=\"100%\" x=\"0\" y=\"0em\"><defs /><text text-anchor=\"middle\" x=\"50%\" y=\"1em\">afternoon</text></svg><svg width=\"100%\" x=\"0%\" y=\"3em\"><defs /><svg width=\"100%\" x=\"0\" y=\"0em\"><defs /><text text-anchor=\"middle\" x=\"50%\" y=\"1em\">NN</text></svg></svg><line stroke=\"black\" x1=\"50%\" x2=\"50%\" y1=\"1.2em\" y2=\"3em\" /></svg><line stroke=\"black\" x1=\"50%\" x2=\"14.8649%\" y1=\"1.2em\" y2=\"3em\" /><svg width=\"21.6216%\" x=\"29.7297%\" y=\"3em\"><defs /><svg width=\"100%\" x=\"0\" y=\"0em\"><defs /><text text-anchor=\"middle\" x=\"50%\" y=\"1em\">mister</text></svg><svg width=\"100%\" x=\"0%\" y=\"3em\"><defs /><svg width=\"100%\" x=\"0\" y=\"0em\"><defs /><text text-anchor=\"middle\" x=\"50%\" y=\"1em\">NNP</text></svg></svg><line stroke=\"black\" x1=\"50%\" x2=\"50%\" y1=\"1.2em\" y2=\"3em\" /></svg><line stroke=\"black\" x1=\"50%\" x2=\"40.5405%\" y1=\"1.2em\" y2=\"3em\" /><svg width=\"16.2162%\" x=\"51.3514%\" y=\"3em\"><defs /><svg width=\"100%\" x=\"0\" y=\"0em\"><defs /><text text-anchor=\"middle\" x=\"50%\" y=\"1em\">leon</text></svg><svg width=\"100%\" x=\"0%\" y=\"3em\"><defs /><svg width=\"100%\" x=\"0\" y=\"0em\"><defs /><text text-anchor=\"middle\" x=\"50%\" y=\"1em\">NNP</text></svg></svg><line stroke=\"black\" x1=\"50%\" x2=\"50%\" y1=\"1.2em\" y2=\"3em\" /></svg><line stroke=\"black\" x1=\"50%\" x2=\"59.4595%\" y1=\"1.2em\" y2=\"3em\" /><svg width=\"16.2162%\" x=\"67.5676%\" y=\"3em\"><defs /><svg width=\"100%\" x=\"0\" y=\"0em\"><defs /><text text-anchor=\"middle\" x=\"50%\" y=\"1em\">my</text></svg><svg width=\"100%\" x=\"0%\" y=\"3em\"><defs /><svg width=\"100%\" x=\"0\" y=\"0em\"><defs /><text text-anchor=\"middle\" x=\"50%\" y=\"1em\">PRP$</text></svg></svg><line stroke=\"black\" x1=\"50%\" x2=\"50%\" y1=\"1.2em\" y2=\"3em\" /></svg><line stroke=\"black\" x1=\"50%\" x2=\"75.6757%\" y1=\"1.2em\" y2=\"3em\" /><svg width=\"16.2162%\" x=\"83.7838%\" y=\"3em\"><defs /><svg width=\"100%\" x=\"0\" y=\"0em\"><defs /><text text-anchor=\"middle\" x=\"50%\" y=\"1em\">name</text></svg><svg width=\"100%\" x=\"0%\" y=\"3em\"><defs /><svg width=\"100%\" x=\"0\" y=\"0em\"><defs /><text text-anchor=\"middle\" x=\"50%\" y=\"1em\">NN</text></svg></svg><line stroke=\"black\" x1=\"50%\" x2=\"50%\" y1=\"1.2em\" y2=\"3em\" /></svg><line stroke=\"black\" x1=\"50%\" x2=\"91.8919%\" y1=\"1.2em\" y2=\"3em\" /></svg><line stroke=\"black\" x1=\"50%\" x2=\"46.4912%\" y1=\"1.2em\" y2=\"3em\" /><svg width=\"21.0526%\" x=\"78.9474%\" y=\"3em\"><defs /><svg width=\"100%\" x=\"0\" y=\"0em\"><defs /><text text-anchor=\"middle\" x=\"50%\" y=\"1em\">VP</text></svg><svg width=\"41.6667%\" x=\"0%\" y=\"3em\"><defs /><svg width=\"100%\" x=\"0\" y=\"0em\"><defs /><text text-anchor=\"middle\" x=\"50%\" y=\"1em\">is</text></svg><svg width=\"100%\" x=\"0%\" y=\"3em\"><defs /><svg width=\"100%\" x=\"0\" y=\"0em\"><defs /><text text-anchor=\"middle\" x=\"50%\" y=\"1em\">VBZ</text></svg></svg><line stroke=\"black\" x1=\"50%\" x2=\"50%\" y1=\"1.2em\" y2=\"3em\" /></svg><line stroke=\"black\" x1=\"50%\" x2=\"20.8333%\" y1=\"1.2em\" y2=\"3em\" /><svg width=\"58.3333%\" x=\"41.6667%\" y=\"3em\"><defs /><svg width=\"100%\" x=\"0\" y=\"0em\"><defs /><text text-anchor=\"middle\" x=\"50%\" y=\"1em\">NP</text></svg><svg width=\"100%\" x=\"0%\" y=\"3em\"><defs /><svg width=\"100%\" x=\"0\" y=\"0em\"><defs /><text text-anchor=\"middle\" x=\"50%\" y=\"1em\">jimmy</text></svg><svg width=\"100%\" x=\"0%\" y=\"3em\"><defs /><svg width=\"100%\" x=\"0\" y=\"0em\"><defs /><text text-anchor=\"middle\" x=\"50%\" y=\"1em\">NNP</text></svg></svg><line stroke=\"black\" x1=\"50%\" x2=\"50%\" y1=\"1.2em\" y2=\"3em\" /></svg><line stroke=\"black\" x1=\"50%\" x2=\"50%\" y1=\"1.2em\" y2=\"3em\" /></svg><line stroke=\"black\" x1=\"50%\" x2=\"70.8333%\" y1=\"1.2em\" y2=\"3em\" /></svg><line stroke=\"black\" x1=\"50%\" x2=\"89.4737%\" y1=\"1.2em\" y2=\"3em\" /></svg><line stroke=\"black\" x1=\"50%\" x2=\"49%\" y1=\"1.2em\" y2=\"3em\" /><svg width=\"3.33333%\" x=\"68%\" y=\"3em\"><defs /><svg width=\"100%\" x=\"0\" y=\"0em\"><defs /><text text-anchor=\"middle\" x=\"50%\" y=\"1em\">and</text></svg><svg width=\"100%\" x=\"0%\" y=\"3em\"><defs /><svg width=\"100%\" x=\"0\" y=\"0em\"><defs /><text text-anchor=\"middle\" x=\"50%\" y=\"1em\">CC</text></svg></svg><line stroke=\"black\" x1=\"50%\" x2=\"50%\" y1=\"1.2em\" y2=\"3em\" /></svg><line stroke=\"black\" x1=\"50%\" x2=\"69.6667%\" y1=\"1.2em\" y2=\"3em\" /><svg width=\"28.6667%\" x=\"71.3333%\" y=\"3em\"><defs /><svg width=\"100%\" x=\"0\" y=\"0em\"><defs /><text text-anchor=\"middle\" x=\"50%\" y=\"1em\">Sentence</text></svg><svg width=\"11.6279%\" x=\"0%\" y=\"3em\"><defs /><svg width=\"100%\" x=\"0\" y=\"0em\"><defs /><text text-anchor=\"middle\" x=\"50%\" y=\"1em\">NP</text></svg><svg width=\"100%\" x=\"0%\" y=\"3em\"><defs /><svg width=\"100%\" x=\"0\" y=\"0em\"><defs /><text text-anchor=\"middle\" x=\"50%\" y=\"1em\">i</text></svg><svg width=\"100%\" x=\"0%\" y=\"3em\"><defs /><svg width=\"100%\" x=\"0\" y=\"0em\"><defs /><text text-anchor=\"middle\" x=\"50%\" y=\"1em\">PRP</text></svg></svg><line stroke=\"black\" x1=\"50%\" x2=\"50%\" y1=\"1.2em\" y2=\"3em\" /></svg><line stroke=\"black\" x1=\"50%\" x2=\"50%\" y1=\"1.2em\" y2=\"3em\" /></svg><line stroke=\"black\" x1=\"50%\" x2=\"5.81395%\" y1=\"1.2em\" y2=\"3em\" /><svg width=\"88.3721%\" x=\"11.6279%\" y=\"3em\"><defs /><svg width=\"100%\" x=\"0\" y=\"0em\"><defs /><text text-anchor=\"middle\" x=\"50%\" y=\"1em\">VP</text></svg><svg width=\"13.1579%\" x=\"0%\" y=\"3em\"><defs /><svg width=\"100%\" x=\"0\" y=\"0em\"><defs /><text text-anchor=\"middle\" x=\"50%\" y=\"1em\">m</text></svg><svg width=\"100%\" x=\"0%\" y=\"3em\"><defs /><svg width=\"100%\" x=\"0\" y=\"0em\"><defs /><text text-anchor=\"middle\" x=\"50%\" y=\"1em\">VBP</text></svg></svg><line stroke=\"black\" x1=\"50%\" x2=\"50%\" y1=\"1.2em\" y2=\"3em\" /></svg><line stroke=\"black\" x1=\"50%\" x2=\"6.57895%\" y1=\"1.2em\" y2=\"3em\" /><svg width=\"26.3158%\" x=\"13.1579%\" y=\"3em\"><defs /><svg width=\"100%\" x=\"0\" y=\"0em\"><defs /><text text-anchor=\"middle\" x=\"50%\" y=\"1em\">actually</text></svg><svg width=\"100%\" x=\"0%\" y=\"3em\"><defs /><svg width=\"100%\" x=\"0\" y=\"0em\"><defs /><text text-anchor=\"middle\" x=\"50%\" y=\"1em\">RB</text></svg></svg><line stroke=\"black\" x1=\"50%\" x2=\"50%\" y1=\"1.2em\" y2=\"3em\" /></svg><line stroke=\"black\" x1=\"50%\" x2=\"26.3158%\" y1=\"1.2em\" y2=\"3em\" /><svg width=\"23.6842%\" x=\"39.4737%\" y=\"3em\"><defs /><svg width=\"100%\" x=\"0\" y=\"0em\"><defs /><text text-anchor=\"middle\" x=\"50%\" y=\"1em\">calling</text></svg><svg width=\"100%\" x=\"0%\" y=\"3em\"><defs /><svg width=\"100%\" x=\"0\" y=\"0em\"><defs /><text text-anchor=\"middle\" x=\"50%\" y=\"1em\">VBG</text></svg></svg><line stroke=\"black\" x1=\"50%\" x2=\"50%\" y1=\"1.2em\" y2=\"3em\" /></svg><line stroke=\"black\" x1=\"50%\" x2=\"51.3158%\" y1=\"1.2em\" y2=\"3em\" /><svg width=\"36.8421%\" x=\"63.1579%\" y=\"3em\"><defs /><svg width=\"100%\" x=\"0\" y=\"0em\"><defs /><text text-anchor=\"middle\" x=\"50%\" y=\"1em\">PP</text></svg><svg width=\"42.8571%\" x=\"0%\" y=\"3em\"><defs /><svg width=\"100%\" x=\"0\" y=\"0em\"><defs /><text text-anchor=\"middle\" x=\"50%\" y=\"1em\">from</text></svg><svg width=\"100%\" x=\"0%\" y=\"3em\"><defs /><svg width=\"100%\" x=\"0\" y=\"0em\"><defs /><text text-anchor=\"middle\" x=\"50%\" y=\"1em\">IN</text></svg></svg><line stroke=\"black\" x1=\"50%\" x2=\"50%\" y1=\"1.2em\" y2=\"3em\" /></svg><line stroke=\"black\" x1=\"50%\" x2=\"21.4286%\" y1=\"1.2em\" y2=\"3em\" /><svg width=\"57.1429%\" x=\"42.8571%\" y=\"3em\"><defs /><svg width=\"100%\" x=\"0\" y=\"0em\"><defs /><text text-anchor=\"middle\" x=\"50%\" y=\"1em\">NP</text></svg><svg width=\"100%\" x=\"0%\" y=\"3em\"><defs /><svg width=\"100%\" x=\"0\" y=\"0em\"><defs /><text text-anchor=\"middle\" x=\"50%\" y=\"1em\">income</text></svg><svg width=\"100%\" x=\"0%\" y=\"3em\"><defs /><svg width=\"100%\" x=\"0\" y=\"0em\"><defs /><text text-anchor=\"middle\" x=\"50%\" y=\"1em\">NN</text></svg></svg><line stroke=\"black\" x1=\"50%\" x2=\"50%\" y1=\"1.2em\" y2=\"3em\" /></svg><line stroke=\"black\" x1=\"50%\" x2=\"50%\" y1=\"1.2em\" y2=\"3em\" /></svg><line stroke=\"black\" x1=\"50%\" x2=\"71.4286%\" y1=\"1.2em\" y2=\"3em\" /></svg><line stroke=\"black\" x1=\"50%\" x2=\"81.5789%\" y1=\"1.2em\" y2=\"3em\" /></svg><line stroke=\"black\" x1=\"50%\" x2=\"55.814%\" y1=\"1.2em\" y2=\"3em\" /></svg><line stroke=\"black\" x1=\"50%\" x2=\"85.6667%\" y1=\"1.2em\" y2=\"3em\" /></svg>"
      ],
      "text/plain": [
       "Tree('S', [Tree('Sentence', [('ya', 'UH'), ('hello', 'UH'), Tree('NP', [('good', 'JJ'), ('afternoon', 'NN')]), Tree('VP', [('speak', 'VBP'), Tree('PP', [('to', 'IN'), Tree('NP', [('leon', 'NNP')])])])]), Tree('Sentence', [('please', 'UH'), Tree('NP', [('afternoon', 'NN'), ('mister', 'NNP'), ('leon', 'NNP'), ('my', 'PRP$'), ('name', 'NN')]), Tree('VP', [('is', 'VBZ'), Tree('NP', [('jimmy', 'NNP')])])]), ('and', 'CC'), Tree('Sentence', [Tree('NP', [('i', 'PRP')]), Tree('VP', [('m', 'VBP'), ('actually', 'RB'), ('calling', 'VBG'), Tree('PP', [('from', 'IN'), Tree('NP', [('income', 'NN')])])])])])"
      ]
     },
     "execution_count": 38,
     "metadata": {},
     "output_type": "execute_result"
    }
   ],
   "source": [
    "# grammar rules collections\n",
    "\n",
    "# NP: noun phrases\n",
    "# PP: preposition phrases\n",
    "# VP: verb phrases\n",
    "# \n",
    "grammar = r\"\"\" \n",
    "    NP: {<PRP.*|DT|JJ|NN.*>+}\n",
    "    PP: {<IN|TO|RP><NP|VB.*>} \n",
    "    VP: {<VB.*|RB.*>+<PP|NP>*}\n",
    "    Sentence: {<UH>*<NP>+<MD>*<VP|PP|NP>+}\n",
    "    Question: {<WDT|DP|WRB|><MD>*<Sentence|NP|PP|VP>}\n",
    "    \n",
    "    \n",
    "\"\"\"\n",
    "chunkParser = nltk.RegexpParser(grammar)\n",
    "chunked = chunkParser.parse(pos_ls)\n",
    "print(chunked)\n",
    "chunked"
   ]
  },
  {
   "cell_type": "code",
   "execution_count": 64,
   "id": "97eb03d4",
   "metadata": {},
   "outputs": [],
   "source": [
    "# Loop through the parse tree and extract useful sentences/questions\n",
    "# This function can only works for Sentence/Question label\n",
    "def run_traverse(t):\n",
    "    new_sens = []\n",
    "    def traverse(t, ls = []):\n",
    "        try:\n",
    "            if (t.label() == 'Sentence' or t.label() == \"Question\") and ls:\n",
    "                new_sens.append(ls)\n",
    "                ls = []\n",
    "        except AttributeError:\n",
    "            ls.append(t[0])\n",
    "        else:\n",
    "            for child in t:\n",
    "                ls = traverse(child, ls)\n",
    "\n",
    "        return ls\n",
    "    ls = traverse(t)\n",
    "    new_sens.append(ls)\n",
    "    return new_sens"
   ]
  },
  {
   "cell_type": "code",
   "execution_count": 50,
   "id": "96210481",
   "metadata": {},
   "outputs": [],
   "source": [
    "new_sens = run_traverse(chunked)"
   ]
  },
  {
   "cell_type": "code",
   "execution_count": 51,
   "id": "a8018152",
   "metadata": {},
   "outputs": [
    {
     "data": {
      "text/plain": [
       "[['ya', 'hello', 'good', 'afternoon', 'speak', 'to', 'leon'],\n",
       " ['please', 'afternoon', 'mister', 'leon', 'my', 'name', 'is', 'jimmy', 'and'],\n",
       " ['i', 'm', 'actually', 'calling', 'from', 'income']]"
      ]
     },
     "execution_count": 51,
     "metadata": {},
     "output_type": "execute_result"
    }
   ],
   "source": [
    "new_sens"
   ]
  },
  {
   "cell_type": "code",
   "execution_count": 145,
   "id": "46f6ffd8",
   "metadata": {},
   "outputs": [],
   "source": [
    "# Try to set up the function can work for any label in the level 1\n",
    "def run_traverse2(t):\n",
    "    new_sens = []\n",
    "    level = 0\n",
    "    def traverse(t, level, ls = []):\n",
    "        try:\n",
    "            if t.label() and level == 1 and ls:\n",
    "                new_sens.append(ls)\n",
    "                ls = []\n",
    "        except AttributeError:\n",
    "            ls.append(t[0])\n",
    "        else:\n",
    "            for i, child in enumerate(t):\n",
    "                if i == 0:\n",
    "                    level += 1\n",
    "                ls = traverse(child, level, ls)\n",
    "                if i == len(t)-1:\n",
    "                    level -= 1\n",
    "        return ls\n",
    "    ls = traverse(t, level)\n",
    "    new_sens.append(ls)\n",
    "    return new_sens"
   ]
  },
  {
   "cell_type": "code",
   "execution_count": 146,
   "id": "ed52c5c3",
   "metadata": {
    "scrolled": true
   },
   "outputs": [],
   "source": [
    "new_sens2 = run_traverse2(chunked)"
   ]
  },
  {
   "cell_type": "code",
   "execution_count": 147,
   "id": "3208c075",
   "metadata": {},
   "outputs": [
    {
     "data": {
      "text/plain": [
       "[['ya', 'hello', 'good', 'afternoon', 'speak', 'to', 'leon'],\n",
       " ['please', 'afternoon', 'mister', 'leon', 'my', 'name', 'is', 'jimmy', 'and'],\n",
       " ['i', 'm', 'actually', 'calling', 'from', 'income']]"
      ]
     },
     "execution_count": 147,
     "metadata": {},
     "output_type": "execute_result"
    }
   ],
   "source": [
    "new_sens2"
   ]
  },
  {
   "cell_type": "code",
   "execution_count": 70,
   "id": "e828a6ff",
   "metadata": {},
   "outputs": [
    {
     "name": "stdout",
     "output_type": "stream",
     "text": [
      "0\n",
      "(Sentence\n",
      "  ya/UH\n",
      "  hello/UH\n",
      "  (NP good/JJ afternoon/NN)\n",
      "  (VP speak/VBP (PP to/IN (NP leon/NNP))))\n",
      "1\n",
      "(Sentence\n",
      "  please/UH\n",
      "  (NP afternoon/NN mister/NNP leon/NNP my/PRP$ name/NN)\n",
      "  (VP is/VBZ (NP jimmy/NNP)))\n",
      "2\n",
      "('and', 'CC')\n",
      "3\n",
      "(Sentence\n",
      "  (NP i/PRP)\n",
      "  (VP m/VBP actually/RB calling/VBG (PP from/IN (NP income/NN))))\n"
     ]
    }
   ],
   "source": [
    "for i, child in enumerate(chunked):\n",
    "    print(i)\n",
    "    print(child)"
   ]
  },
  {
   "cell_type": "code",
   "execution_count": 74,
   "id": "fb343143",
   "metadata": {},
   "outputs": [
    {
     "data": {
      "text/plain": [
       "4"
      ]
     },
     "execution_count": 74,
     "metadata": {},
     "output_type": "execute_result"
    }
   ],
   "source": [
    "len(chunked)"
   ]
  },
  {
   "cell_type": "code",
   "execution_count": 90,
   "id": "ef991086",
   "metadata": {},
   "outputs": [
    {
     "name": "stdout",
     "output_type": "stream",
     "text": [
      "i 0\n",
      "k 0\n",
      "level2 2\n",
      "('ya', 'UH')\n",
      "k 1\n",
      "level2 2\n",
      "('hello', 'UH')\n",
      "k 2\n",
      "level2 2\n",
      "(NP good/JJ afternoon/NN)\n",
      "k 3\n",
      "level2 1\n",
      "(VP speak/VBP (PP to/IN (NP leon/NNP)))\n",
      "1\n",
      "i 1\n",
      "1\n",
      "i 2\n",
      "1\n",
      "i 3\n",
      "0\n"
     ]
    }
   ],
   "source": [
    "level = 0\n",
    "for i, child in enumerate(chunked):\n",
    "    print(\"i\",i)\n",
    "    if i == 0:\n",
    "        level+=1\n",
    "    if i == len(chunked) - 1:\n",
    "        level -= 1\n",
    "    if i == 0 and child.label() == 'Sentence':\n",
    "        for k, child2 in enumerate(child):\n",
    "            print(\"k\", k)\n",
    "            if k == 0:\n",
    "                level += 1\n",
    "            if k == len(child) - 1:\n",
    "                level -= 1\n",
    "            print(\"level2\", level)\n",
    "            print(child2)\n",
    "\n",
    "    print(level)\n",
    "    "
   ]
  },
  {
   "cell_type": "code",
   "execution_count": 111,
   "id": "319a309c",
   "metadata": {},
   "outputs": [
    {
     "name": "stdout",
     "output_type": "stream",
     "text": [
      "ya hello good afternoon speak to leon please good afternoon\n",
      "mister leon\n",
      "my name is jimmy and im actually calling from income\n",
      "may I know how can I help you today\n"
     ]
    }
   ],
   "source": [
    "for sentence in doc.sents:\n",
    "    print(sentence)"
   ]
  },
  {
   "cell_type": "code",
   "execution_count": null,
   "id": "601fa66f",
   "metadata": {},
   "outputs": [],
   "source": []
  }
 ],
 "metadata": {
  "kernelspec": {
   "display_name": "venv2022",
   "language": "python",
   "name": "venv2022"
  },
  "language_info": {
   "codemirror_mode": {
    "name": "ipython",
    "version": 3
   },
   "file_extension": ".py",
   "mimetype": "text/x-python",
   "name": "python",
   "nbconvert_exporter": "python",
   "pygments_lexer": "ipython3",
   "version": "3.7.13"
  }
 },
 "nbformat": 4,
 "nbformat_minor": 5
}
