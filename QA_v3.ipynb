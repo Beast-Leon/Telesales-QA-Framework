{
 "cells": [
  {
   "cell_type": "markdown",
   "id": "f5c93c9a",
   "metadata": {},
   "source": [
    "## Improvement from QA_v2\n",
    "\n",
    "### 1. Use transformer model for sentence encodings\n",
    "### 2. Use fine-tuned sentiment model for sentence politeness\n",
    "### 3. Working on assigning score for each category on the QA guidelines\n",
    "### 4. Modularize and systemize the customized POS \n",
    "\n",
    "## Outline\n",
    "### 1. Input transcripts and grammars\n",
    "### 2. Sentencizer transcripts\n",
    "### 3. Mapping sentences to each category\n",
    "### 4. Calculate sentiment score for each part\n",
    "### 5. Measure passed or not for each category\n",
    "\n",
    "## To Do\n",
    "### 1. Enable multi-label category mapping"
   ]
  },
  {
   "cell_type": "code",
   "execution_count": 1,
   "id": "d526c835",
   "metadata": {},
   "outputs": [
    {
     "name": "stderr",
     "output_type": "stream",
     "text": [
      "/opt/anaconda3/envs/tensorflow/lib/python3.7/site-packages/tqdm/auto.py:22: TqdmWarning: IProgress not found. Please update jupyter and ipywidgets. See https://ipywidgets.readthedocs.io/en/stable/user_install.html\n",
      "  from .autonotebook import tqdm as notebook_tqdm\n"
     ]
    }
   ],
   "source": [
    "# Load packages\n",
    "import nltk\n",
    "import spacy\n",
    "from sentence_transformers import SentenceTransformer\n",
    "from transformers import AutoModelForSequenceClassification, AutoTokenizer\n",
    "import torch\n",
    "import torch.nn\n",
    "\n",
    "import sys\n",
    "sys.path.insert(0, '/Users/leon/Income/python files/politeness_code')\n",
    "\n",
    "# Load customized file\n",
    "from helper.customized_pos import *\n",
    "from helper.pos_helper import *\n",
    "from helper.grammar import *\n",
    "from helper.aspect_matching import *\n",
    "from helper.sentiment_helper import *\n",
    "from helper.score_generation import *\n",
    "from model_code.distilbert import *"
   ]
  },
  {
   "cell_type": "code",
   "execution_count": 2,
   "id": "3ca2ee33",
   "metadata": {},
   "outputs": [],
   "source": [
    "# model path\n",
    "sentiment_path = \"../model_collection/sentiment_model/fine_tune_disbert.pt\""
   ]
  },
  {
   "cell_type": "code",
   "execution_count": 3,
   "id": "256cc450",
   "metadata": {},
   "outputs": [],
   "source": [
    "# Load model\n",
    "sentiment_tokenizer = AutoTokenizer.from_pretrained(\"../model_collection/sentiment_tokenizer\")\n",
    "sentiment_model = AutoModelForSequenceClassification.from_pretrained(\"../model_collection/sentiment_model/\")\n",
    "sentiment_model = disbert_arch(sentiment_model)\n",
    "sentiment_model.load_state_dict(torch.load(sentiment_path))\n",
    "\n",
    "nlp = spacy.load('en_core_web_lg')\n",
    "sentence_model = SentenceTransformer(\"../model_collection/sentence_model\")"
   ]
  },
  {
   "cell_type": "code",
   "execution_count": 4,
   "id": "b711aef8",
   "metadata": {},
   "outputs": [],
   "source": [
    "# Add customized rules to the spacy model\n",
    "add_pos(pos_ls, nlp)"
   ]
  },
  {
   "cell_type": "markdown",
   "id": "e7375054",
   "metadata": {},
   "source": [
    "### Section1: Input transcripts and grammars"
   ]
  },
  {
   "cell_type": "code",
   "execution_count": 5,
   "id": "967187f9",
   "metadata": {},
   "outputs": [],
   "source": [
    "with open (\"data_collection/greeting_transcripts.txt\") as f:\n",
    "    greeting_transcripts_ls = f.readlines()\n",
    "with open (\"data_collection/ending_transcripts.txt\") as f:\n",
    "    ending_transcripts_ls = f.readlines()"
   ]
  },
  {
   "cell_type": "code",
   "execution_count": 6,
   "id": "48fce55a",
   "metadata": {},
   "outputs": [
    {
     "name": "stdout",
     "output_type": "stream",
     "text": [
      "greeting transcripts ['ya hello good afternoon speak to nanny seah please afternoon miss nanny my name is jaguar shao and im actually calling from insurance company miss nanny good time to speak for a while this is regarding our partnership charter plus members and as a result of that insurance company actually formulated a very special thirtieth anniversay insurance bundle right called the i thirty\\n', 'hello good afternoon just speak to miss leon michael from income ntuc free for one or two minutes if you are not busy okay calling behalf of your adviser xiao guo okay because we having this anniversary plan for the family i just check again you are single or married\\n', 'Okay this is alice here coming from income NTUC income okay currently we partnership with ocbc plus can I check with you if you a good time to speak for a while first of course thank you for using ocbc okay and then secondly as a valued customer we would like to actually update and also give you a priority okay because in year twenty twenty right income actually celebrate our fiftieth annivesary okay and then in that particular year we actually came out a very very special anniversary policy called I fifty okay of course I stand for income income fifty means for fifty years alright okay miss junar even you already have a existing policy right okay then we even make it very very special because we can cover for your whole family member at one flat premium okay and this regardless of your age secondly right we garden to how many dependent are children you have as well as regardless of your occupation and also your occupation\\n', \"This is blah again from income ntuc income okay yes can I choose you ya are you coming to talk right now yes okay so mist basically we currently partnership ocbc plus okay so that's why we actually cal you first of all which we need to thank you for yourself to ocbc okay and then secondly right as a value of customer we would like to actually update and also give your priority okay because at year twenty twenty right our company income at least celebrate our fiftieth anniversary policy okay and we in that practical year right we actually came out a very very special anniversary policy called I fifty okay of course I stands for income and fifty means for fifty years alright okay this one even if you already have a existing policy right\\n\", 'Hello hi good morning am I speaking to meter auntie hi Samantha calling from income ntuc now is it time to speak to you okay thank you so this is the servicing call actually I calling on behalf of your agent which is char long see so want to thanks for support because of which is the issue with us over the year you know now we all helping each other to extend these fiftieth end of the plan\\n']\n",
      "\n",
      "\n",
      "ending transcripts ['You just reconfirm with your husband whether you already have an enhanced home insurance or not if already have then we can not cover for you oh ok I will call you back tomorrow thank you bye\\n', 'So maybe if your friends or relatives or family members are interested you can call back at this number lah this number you can see from your phone lah thank you bye bye\\n', 'Maybe in the future you interested in the annual travel you can get back to us again thank you bye\\n', \"So the policy will be effective tokay lah you mean this policy I help you apply right now once I submit the application and then I sent you the policy number sure meaning it is approved but we will deduct the premium within three working days you will receive the policy documents via sms or email in three working days please ensure all information is correct let's say if you have any issues or questions you can call me again yah ok do you still have any questions for me I will just help you with the application and send you the policy information shortly thank you so much bye bye.\\n\"]\n"
     ]
    }
   ],
   "source": [
    "print(\"greeting transcripts\", greeting_transcripts_ls)\n",
    "print(\"\\n\")\n",
    "print(\"ending transcripts\", ending_transcripts_ls)"
   ]
  },
  {
   "cell_type": "markdown",
   "id": "69a8d86a",
   "metadata": {},
   "source": [
    "### Section2: Sentencizer transcripts"
   ]
  },
  {
   "cell_type": "code",
   "execution_count": 7,
   "id": "77ba232b",
   "metadata": {},
   "outputs": [
    {
     "name": "stdout",
     "output_type": "stream",
     "text": [
      "Greeting transcripts\n",
      "Current transcript id:  0\n",
      "full result:  [['Sentence', 'ya hello good afternoon speak to nanny seah'], ['Sentence', 'please afternoon miss nanny my name is jaguar shao and'], ['Sentence', 'i m actually calling from insurance company miss nanny good time to speak for a while this is regarding our partnership charter plus members and'], ['Sentence', 'as a result of that insurance company actually formulated a very special thirtieth anniversay insurance bundle right called the i thirty \\n']]\n",
      "\n",
      "\n",
      "only text result:  ['ya hello good afternoon speak to nanny seah', 'please afternoon miss nanny my name is jaguar shao and', 'i m actually calling from insurance company miss nanny good time to speak for a while this is regarding our partnership charter plus members and', 'as a result of that insurance company actually formulated a very special thirtieth anniversay insurance bundle right called the i thirty \\n']\n",
      "\n",
      "\n",
      "Current transcript id:  1\n",
      "full result:  [['Sentence', 'hello good afternoon just speak to miss leon michael from income ntuc free for one or two minutes if you are not busy'], ['Sentence', 'okay calling behalf of your adviser xiao guo'], ['Sentence', 'okay because we having this anniversary plan for the family i just check again you are single or married \\n']]\n",
      "\n",
      "\n",
      "only text result:  ['hello good afternoon just speak to miss leon michael from income ntuc free for one or two minutes if you are not busy', 'okay calling behalf of your adviser xiao guo', 'okay because we having this anniversary plan for the family i just check again you are single or married \\n']\n",
      "\n",
      "\n",
      "Current transcript id:  2\n",
      "full result:  [['Sentence', 'Okay this is alice here coming from income NTUC income'], ['Sentence', 'okay currently we partnership with ocbc plus'], ['Sentence', 'can I check with you if you a good time to speak for a while first of course thank you for using ocbc okay and'], ['Sentence', 'then secondly as a valued customer we'], ['Sentence', 'would like to actually update and also give you a priority okay because in year twenty twenty right income actually celebrate our fiftieth annivesary okay and'], ['Sentence', 'then in that particular year we actually came out a very very special anniversary policy called I fifty'], ['Sentence', 'okay of course I stand for income income fifty'], ['Sentence', 'means for fifty years alright okay miss junar even you already have a existing policy right'], ['Sentence', 'okay then we even make it very very special because we'], ['Sentence', 'can cover for your whole family member at one flat premium okay and'], ['Sentence', 'this regardless of your age secondly right we garden to'], ['Question', 'how many dependent are children you have as well']]\n",
      "\n",
      "\n",
      "only text result:  ['Okay this is alice here coming from income NTUC income', 'okay currently we partnership with ocbc plus', 'can I check with you if you a good time to speak for a while first of course thank you for using ocbc okay and', 'then secondly as a valued customer we', 'would like to actually update and also give you a priority okay because in year twenty twenty right income actually celebrate our fiftieth annivesary okay and', 'then in that particular year we actually came out a very very special anniversary policy called I fifty', 'okay of course I stand for income income fifty', 'means for fifty years alright okay miss junar even you already have a existing policy right', 'okay then we even make it very very special because we', 'can cover for your whole family member at one flat premium okay and', 'this regardless of your age secondly right we garden to', 'how many dependent are children you have as well']\n",
      "\n",
      "\n",
      "Current transcript id:  3\n",
      "full result:  [['Sentence', 'This is blah again from income ntuc income'], ['Sentence', 'okay yes can I choose you ya are you coming to talk right now'], ['Sentence', 'yes okay so mist basically we currently partnership ocbc plus'], ['Question', \"okay so that 's why we actually cal you first of all\"], ['Question', 'which we need to thank you for yourself to ocbc okay and'], ['Sentence', 'then secondly right as a value of customer we'], ['Sentence', 'would like to actually update and also give your priority okay because at year twenty twenty right our company income'], ['Sentence', 'at least celebrate our fiftieth anniversary policy okay and'], ['Sentence', 'we in that practical year right we actually came out a very very special anniversary policy called I fifty'], ['Sentence', 'okay of course I stands for income and'], ['Sentence', 'fifty means for fifty years alright okay this one even if you already have a existing policy right \\n']]\n",
      "\n",
      "\n",
      "only text result:  ['This is blah again from income ntuc income', 'okay yes can I choose you ya are you coming to talk right now', 'yes okay so mist basically we currently partnership ocbc plus', \"okay so that 's why we actually cal you first of all\", 'which we need to thank you for yourself to ocbc okay and', 'then secondly right as a value of customer we', 'would like to actually update and also give your priority okay because at year twenty twenty right our company income', 'at least celebrate our fiftieth anniversary policy okay and', 'we in that practical year right we actually came out a very very special anniversary policy called I fifty', 'okay of course I stands for income and', 'fifty means for fifty years alright okay this one even if you already have a existing policy right \\n']\n",
      "\n",
      "\n",
      "Current transcript id:  4\n",
      "full result:  [['Sentence', 'Hello hi good morning am I speaking to meter auntie'], ['Sentence', 'hi Samantha calling from income ntuc now is it time to speak to you'], ['Sentence', 'okay thank you so this is the servicing call actually I calling on behalf of your agent'], ['Question', 'which is char long see so want to thanks for support because of'], ['Question', 'which is the issue with us over the year you know now we all helping each other to extend these fiftieth end of the plan \\n']]\n",
      "\n",
      "\n",
      "only text result:  ['Hello hi good morning am I speaking to meter auntie', 'hi Samantha calling from income ntuc now is it time to speak to you', 'okay thank you so this is the servicing call actually I calling on behalf of your agent', 'which is char long see so want to thanks for support because of', 'which is the issue with us over the year you know now we all helping each other to extend these fiftieth end of the plan \\n']\n",
      "\n",
      "\n"
     ]
    }
   ],
   "source": [
    "greeting_text_ls = []\n",
    "print(\"Greeting transcripts\")\n",
    "for i, transcripts in enumerate(greeting_transcripts_ls):\n",
    "    full_result = nlp_sentencizer(transcripts, grammars, nlp)\n",
    "    text_result = list(map(lambda x: x[1], full_result))\n",
    "    greeting_text_ls.append(text_result)\n",
    "    print(\"Current transcript id: \", i)\n",
    "    print(\"full result: \", full_result)\n",
    "    print(\"\\n\")\n",
    "    print(\"only text result: \", text_result)\n",
    "    print(\"\\n\")"
   ]
  },
  {
   "cell_type": "code",
   "execution_count": 8,
   "id": "336f22a8",
   "metadata": {},
   "outputs": [
    {
     "name": "stdout",
     "output_type": "stream",
     "text": [
      "Ending transcripts\n",
      "Current transcript id:  0\n",
      "full result:  [['Sentence', 'You just reconfirm with your husband whether you already have an enhanced home insurance or'], ['Sentence', 'not if already have then we can not cover for you oh ok I will call you back tomorrow thank you bye \\n']]\n",
      "\n",
      "\n",
      "only text result:  ['You just reconfirm with your husband whether you already have an enhanced home insurance or', 'not if already have then we can not cover for you oh ok I will call you back tomorrow thank you bye \\n']\n",
      "\n",
      "\n",
      "Current transcript id:  1\n",
      "full result:  [['Sentence', 'So maybe if your friends or relatives or family members are interested you'], ['Sentence', 'can call back at this number lah this number you'], ['Sentence', 'can see from your phone lah thank you bye bye \\n']]\n",
      "\n",
      "\n",
      "only text result:  ['So maybe if your friends or relatives or family members are interested you', 'can call back at this number lah this number you', 'can see from your phone lah thank you bye bye \\n']\n",
      "\n",
      "\n",
      "Current transcript id:  2\n",
      "full result:  [['Sentence', 'Maybe in the future you interested in the annual travel you'], ['Sentence', 'can get back to us again thank you bye \\n']]\n",
      "\n",
      "\n",
      "only text result:  ['Maybe in the future you interested in the annual travel you', 'can get back to us again thank you bye \\n']\n",
      "\n",
      "\n",
      "Current transcript id:  3\n",
      "full result:  [['Sentence', 'So the policy will be effective tokay lah you mean this policy I help you apply right now once I submit the application and'], ['Sentence', 'then I sent you the policy number sure meaning it is approved but'], ['Sentence', 'we will deduct the premium within three working days you'], ['Sentence', 'will receive the policy documents via sms or'], ['Sentence', \"email in three working days please ensure all information is correct let 's say if you have any issues or\"], ['Sentence', 'questions you can call me again yah ok do you still have any questions for me I'], ['Sentence', 'will just help you with the application and'], ['Sentence', 'send you the policy information shortly thank you so much bye bye . \\n']]\n",
      "\n",
      "\n",
      "only text result:  ['So the policy will be effective tokay lah you mean this policy I help you apply right now once I submit the application and', 'then I sent you the policy number sure meaning it is approved but', 'we will deduct the premium within three working days you', 'will receive the policy documents via sms or', \"email in three working days please ensure all information is correct let 's say if you have any issues or\", 'questions you can call me again yah ok do you still have any questions for me I', 'will just help you with the application and', 'send you the policy information shortly thank you so much bye bye . \\n']\n",
      "\n",
      "\n"
     ]
    }
   ],
   "source": [
    "ending_text_ls = []\n",
    "print(\"Ending transcripts\")\n",
    "for i, transcripts in enumerate(ending_transcripts_ls):\n",
    "    full_result = nlp_sentencizer(transcripts, grammars, nlp)\n",
    "    text_result = list(map(lambda x: x[1], full_result))\n",
    "    ending_text_ls.append(text_result)\n",
    "    print(\"Current transcript id: \", i)\n",
    "    print(\"full result: \", full_result)\n",
    "    print(\"\\n\")\n",
    "    print(\"only text result: \", text_result)\n",
    "    print(\"\\n\")"
   ]
  },
  {
   "cell_type": "markdown",
   "id": "c7f4c7d1",
   "metadata": {},
   "source": [
    "### Section3: Mapping sentence to each category"
   ]
  },
  {
   "cell_type": "code",
   "execution_count": 9,
   "id": "f0ddcabc",
   "metadata": {},
   "outputs": [
    {
     "name": "stdout",
     "output_type": "stream",
     "text": [
      "Greeting result mapping\n",
      "[['opening', 'ya hello good afternoon speak to nanny seah'], ['no_matching', 'please afternoon miss nanny my name is jaguar shao and'], ['purpose_of_call', 'i m actually calling from insurance company miss nanny good time to speak for a while this is regarding our partnership charter plus members and as a result of that insurance company actually formulated a very special thirtieth anniversay insurance bundle right called the i thirty \\n']]\n",
      "\n",
      "\n",
      "[['opening', 'hello good afternoon just speak to miss leon michael from income ntuc free for one or two minutes if you are not busy'], ['no_matching', 'okay calling behalf of your adviser xiao guo'], ['purpose_of_call', 'okay because we having this anniversary plan for the family i just check again you are single or married \\n']]\n",
      "\n",
      "\n",
      "[['opening', 'Okay this is alice here coming from income NTUC income'], ['no_matching', 'okay currently we partnership with ocbc plus'], ['opening', 'can I check with you if you a good time to speak for a while first of course thank you for using ocbc okay and'], ['purpose_of_call', 'then secondly as a valued customer we'], ['no_matching', 'would like to actually update and also give you a priority okay because in year twenty twenty right income actually celebrate our fiftieth annivesary okay and'], ['purpose_of_call', 'then in that particular year we actually came out a very very special anniversary policy called I fifty'], ['no_matching', 'okay of course I stand for income income fifty means for fifty years alright okay miss junar even you already have a existing policy right okay then we even make it very very special because we'], ['purpose_of_call', 'can cover for your whole family member at one flat premium okay and'], ['no_matching', 'this regardless of your age secondly right we garden to how many dependent are children you have as well']]\n",
      "\n",
      "\n",
      "[['no_matching', 'This is blah again from income ntuc income'], ['ask_for_permission', 'okay yes can I choose you ya are you coming to talk right now'], ['no_matching', \"yes okay so mist basically we currently partnership ocbc plus okay so that 's why we actually cal you first of all which we need to thank you for yourself to ocbc okay and\"], ['purpose_of_call', 'then secondly right as a value of customer we'], ['no_matching', 'would like to actually update and also give your priority okay because at year twenty twenty right our company income at least celebrate our fiftieth anniversary policy okay and'], ['purpose_of_call', 'we in that practical year right we actually came out a very very special anniversary policy called I fifty'], ['no_matching', 'okay of course I stands for income and fifty means for fifty years alright okay this one even if you already have a existing policy right \\n']]\n",
      "\n",
      "\n",
      "[['opening', 'Hello hi good morning am I speaking to meter auntie hi Samantha calling from income ntuc now is it time to speak to you okay thank you so this is the servicing call actually I calling on behalf of your agent'], ['no_matching', 'which is char long see so want to thanks for support because of'], ['purpose_of_call', 'which is the issue with us over the year you know now we all helping each other to extend these fiftieth end of the plan \\n']]\n",
      "\n",
      "\n",
      "Ending result mapping\n",
      "[['no_matching', 'You just reconfirm with your husband whether you already have an enhanced home insurance or'], ['follow-up', 'not if already have then we can not cover for you oh ok I will call you back tomorrow thank you bye \\n']]\n",
      "\n",
      "\n",
      "[['no_matching', 'So maybe if your friends or relatives or family members are interested you'], ['follow-up', 'can call back at this number lah this number you'], ['closing', 'can see from your phone lah thank you bye bye \\n']]\n",
      "\n",
      "\n",
      "[['no_matching', 'Maybe in the future you interested in the annual travel you'], ['closing', 'can get back to us again thank you bye \\n']]\n",
      "\n",
      "\n",
      "[['no_matching', \"So the policy will be effective tokay lah you mean this policy I help you apply right now once I submit the application and then I sent you the policy number sure meaning it is approved but we will deduct the premium within three working days you will receive the policy documents via sms or email in three working days please ensure all information is correct let 's say if you have any issues or\"], ['follow-up', 'questions you can call me again yah ok do you still have any questions for me I'], ['no_matching', 'will just help you with the application and'], ['closing', 'send you the policy information shortly thank you so much bye bye . \\n']]\n",
      "\n",
      "\n"
     ]
    }
   ],
   "source": [
    "# Looping to store mapping result to dic\n",
    "print(\"Greeting result mapping\")\n",
    "mapping_greeting = []\n",
    "for i, text in enumerate(greeting_text_ls):\n",
    "    category_ls = nlp_aspect_matching(text, sentence_model, 'greeting', True, 0.4)\n",
    "    print(category_ls)\n",
    "    print(\"\\n\")\n",
    "    mapping_greeting.append(category_ls)\n",
    "print(\"Ending result mapping\")\n",
    "mapping_ending = []\n",
    "for i, text in enumerate(ending_text_ls):\n",
    "    category_ls = nlp_aspect_matching(text, sentence_model, 'ending', True, 0.4)\n",
    "    print(category_ls)\n",
    "    print(\"\\n\")\n",
    "    mapping_ending.append(category_ls)"
   ]
  },
  {
   "cell_type": "markdown",
   "id": "b7e72a70",
   "metadata": {},
   "source": [
    "### Section4: Calculate sentiment score for each part"
   ]
  },
  {
   "cell_type": "code",
   "execution_count": 10,
   "id": "7eea951b",
   "metadata": {},
   "outputs": [
    {
     "name": "stdout",
     "output_type": "stream",
     "text": [
      "Greeting part sentiments\n",
      "[['opening', 'ya hello good afternoon speak to nanny seah', 'positive'], ['no_matching', 'please afternoon miss nanny my name is jaguar shao and', 'neutral'], ['purpose_of_call', 'i m actually calling from insurance company miss nanny good time to speak for a while this is regarding our partnership charter plus members and as a result of that insurance company actually formulated a very special thirtieth anniversay insurance bundle right called the i thirty \\n', 'neutral']]\n",
      "\n",
      "\n",
      "[['opening', 'hello good afternoon just speak to miss leon michael from income ntuc free for one or two minutes if you are not busy', 'neutral'], ['no_matching', 'okay calling behalf of your adviser xiao guo', 'positive'], ['purpose_of_call', 'okay because we having this anniversary plan for the family i just check again you are single or married \\n', 'neutral']]\n",
      "\n",
      "\n",
      "[['opening', 'Okay this is alice here coming from income NTUC income', 'neutral'], ['no_matching', 'okay currently we partnership with ocbc plus', 'neutral'], ['opening', 'can I check with you if you a good time to speak for a while first of course thank you for using ocbc okay and', 'positive'], ['purpose_of_call', 'then secondly as a valued customer we', 'positive'], ['no_matching', 'would like to actually update and also give you a priority okay because in year twenty twenty right income actually celebrate our fiftieth annivesary okay and', 'neutral'], ['purpose_of_call', 'then in that particular year we actually came out a very very special anniversary policy called I fifty', 'neutral'], ['no_matching', 'okay of course I stand for income income fifty means for fifty years alright okay miss junar even you already have a existing policy right okay then we even make it very very special because we', 'neutral'], ['purpose_of_call', 'can cover for your whole family member at one flat premium okay and', 'neutral'], ['no_matching', 'this regardless of your age secondly right we garden to how many dependent are children you have as well', 'neutral']]\n",
      "\n",
      "\n",
      "[['no_matching', 'This is blah again from income ntuc income', 'neutral'], ['ask_for_permission', 'okay yes can I choose you ya are you coming to talk right now', 'neutral'], ['no_matching', \"yes okay so mist basically we currently partnership ocbc plus okay so that 's why we actually cal you first of all which we need to thank you for yourself to ocbc okay and\", 'neutral'], ['purpose_of_call', 'then secondly right as a value of customer we', 'neutral'], ['no_matching', 'would like to actually update and also give your priority okay because at year twenty twenty right our company income at least celebrate our fiftieth anniversary policy okay and', 'neutral'], ['purpose_of_call', 'we in that practical year right we actually came out a very very special anniversary policy called I fifty', 'neutral'], ['no_matching', 'okay of course I stands for income and fifty means for fifty years alright okay this one even if you already have a existing policy right \\n', 'neutral']]\n",
      "\n",
      "\n",
      "[['opening', 'Hello hi good morning am I speaking to meter auntie hi Samantha calling from income ntuc now is it time to speak to you okay thank you so this is the servicing call actually I calling on behalf of your agent', 'neutral'], ['no_matching', 'which is char long see so want to thanks for support because of', 'neutral'], ['purpose_of_call', 'which is the issue with us over the year you know now we all helping each other to extend these fiftieth end of the plan \\n', 'neutral']]\n",
      "\n",
      "\n",
      "Ending part sentiments\n",
      "[['no_matching', 'You just reconfirm with your husband whether you already have an enhanced home insurance or', 'positive'], ['follow-up', 'not if already have then we can not cover for you oh ok I will call you back tomorrow thank you bye \\n', 'neutral']]\n",
      "\n",
      "\n",
      "[['no_matching', 'So maybe if your friends or relatives or family members are interested you', 'positive'], ['follow-up', 'can call back at this number lah this number you', 'neutral'], ['closing', 'can see from your phone lah thank you bye bye \\n', 'positive']]\n",
      "\n",
      "\n",
      "[['no_matching', 'Maybe in the future you interested in the annual travel you', 'positive'], ['closing', 'can get back to us again thank you bye \\n', 'positive']]\n",
      "\n",
      "\n",
      "[['no_matching', \"So the policy will be effective tokay lah you mean this policy I help you apply right now once I submit the application and then I sent you the policy number sure meaning it is approved but we will deduct the premium within three working days you will receive the policy documents via sms or email in three working days please ensure all information is correct let 's say if you have any issues or\", 'neutral'], ['follow-up', 'questions you can call me again yah ok do you still have any questions for me I', 'neutral'], ['no_matching', 'will just help you with the application and', 'positive'], ['closing', 'send you the policy information shortly thank you so much bye bye . \\n', 'positive']]\n",
      "\n",
      "\n"
     ]
    }
   ],
   "source": [
    "print(\"Greeting part sentiments\")\n",
    "sentiment_greeting = []\n",
    "for mapping in mapping_greeting:\n",
    "    sentiment_ls = nlp_sentiment(mapping, sentiment_tokenizer, sentiment_model)\n",
    "    sentiment_greeting.append(sentiment_ls)\n",
    "    print(sentiment_ls)\n",
    "    print(\"\\n\")\n",
    "\n",
    "print(\"Ending part sentiments\")\n",
    "sentiment_ending = []\n",
    "for mapping in mapping_ending:\n",
    "    sentiment_ls = nlp_sentiment(mapping, sentiment_tokenizer, sentiment_model)\n",
    "    sentiment_ending.append(sentiment_ls)\n",
    "    print(sentiment_ls)\n",
    "    print(\"\\n\")  "
   ]
  },
  {
   "cell_type": "markdown",
   "id": "40280b63",
   "metadata": {},
   "source": [
    "### Section5: Measure passed or not for each category"
   ]
  },
  {
   "cell_type": "code",
   "execution_count": 11,
   "id": "1535427e",
   "metadata": {},
   "outputs": [
    {
     "name": "stdout",
     "output_type": "stream",
     "text": [
      "Greeting result\n",
      "current transcript id  0\n",
      "sentence:  {'opening': [['ya hello good afternoon speak to nanny seah', 'positive']], 'no_matching': [['please afternoon miss nanny my name is jaguar shao and', 'neutral']], 'purpose_of_call': [['i m actually calling from insurance company miss nanny good time to speak for a while this is regarding our partnership charter plus members and as a result of that insurance company actually formulated a very special thirtieth anniversay insurance bundle right called the i thirty \\n', 'neutral']]}\n",
      "grading:  {'opening': True, 'purpose_of_call': True, 'ask_for_permission': False}\n",
      "\n",
      "\n",
      "current transcript id  1\n",
      "sentence:  {'opening': [['hello good afternoon just speak to miss leon michael from income ntuc free for one or two minutes if you are not busy', 'neutral']], 'no_matching': [['okay calling behalf of your adviser xiao guo', 'positive']], 'purpose_of_call': [['okay because we having this anniversary plan for the family i just check again you are single or married \\n', 'neutral']]}\n",
      "grading:  {'opening': True, 'purpose_of_call': True, 'ask_for_permission': False}\n",
      "\n",
      "\n",
      "current transcript id  2\n",
      "sentence:  {'opening': [['Okay this is alice here coming from income NTUC income', 'neutral'], ['can I check with you if you a good time to speak for a while first of course thank you for using ocbc okay and', 'positive']], 'no_matching': [['okay currently we partnership with ocbc plus', 'neutral'], ['would like to actually update and also give you a priority okay because in year twenty twenty right income actually celebrate our fiftieth annivesary okay and', 'neutral'], ['okay of course I stand for income income fifty means for fifty years alright okay miss junar even you already have a existing policy right okay then we even make it very very special because we', 'neutral'], ['this regardless of your age secondly right we garden to how many dependent are children you have as well', 'neutral']], 'purpose_of_call': [['then secondly as a valued customer we', 'positive'], ['then in that particular year we actually came out a very very special anniversary policy called I fifty', 'neutral'], ['can cover for your whole family member at one flat premium okay and', 'neutral']]}\n",
      "grading:  {'opening': True, 'purpose_of_call': True, 'ask_for_permission': False}\n",
      "\n",
      "\n",
      "current transcript id  3\n",
      "sentence:  {'no_matching': [['This is blah again from income ntuc income', 'neutral'], [\"yes okay so mist basically we currently partnership ocbc plus okay so that 's why we actually cal you first of all which we need to thank you for yourself to ocbc okay and\", 'neutral'], ['would like to actually update and also give your priority okay because at year twenty twenty right our company income at least celebrate our fiftieth anniversary policy okay and', 'neutral'], ['okay of course I stands for income and fifty means for fifty years alright okay this one even if you already have a existing policy right \\n', 'neutral']], 'ask_for_permission': [['okay yes can I choose you ya are you coming to talk right now', 'neutral']], 'purpose_of_call': [['then secondly right as a value of customer we', 'neutral'], ['we in that practical year right we actually came out a very very special anniversary policy called I fifty', 'neutral']]}\n",
      "grading:  {'opening': False, 'purpose_of_call': True, 'ask_for_permission': True}\n",
      "\n",
      "\n",
      "current transcript id  4\n",
      "sentence:  {'opening': [['Hello hi good morning am I speaking to meter auntie hi Samantha calling from income ntuc now is it time to speak to you okay thank you so this is the servicing call actually I calling on behalf of your agent', 'neutral']], 'no_matching': [['which is char long see so want to thanks for support because of', 'neutral']], 'purpose_of_call': [['which is the issue with us over the year you know now we all helping each other to extend these fiftieth end of the plan \\n', 'neutral']]}\n",
      "grading:  {'opening': True, 'purpose_of_call': True, 'ask_for_permission': False}\n",
      "\n",
      "\n"
     ]
    }
   ],
   "source": [
    "greeting_result_ls = []\n",
    "print(\"Greeting result\")\n",
    "for i, result in enumerate(sentiment_greeting):\n",
    "    result_dic = result_reformat(result, greeting_lexicons)\n",
    "    score_dic = assign_score(result_dic, greeting_lexicons)\n",
    "    temp_dic = {\"sentence_collection\": result_dic, \"score_collection\": score_dic}\n",
    "    print('current transcript id ', i)\n",
    "    print('sentence: ', temp_dic['sentence_collection'])\n",
    "    print('grading: ', temp_dic['score_collection'])\n",
    "    print(\"\\n\")\n",
    "    greeting_result_ls.append(temp_dic)"
   ]
  },
  {
   "cell_type": "code",
   "execution_count": 12,
   "id": "b2f82692",
   "metadata": {},
   "outputs": [
    {
     "name": "stdout",
     "output_type": "stream",
     "text": [
      "Ending result\n",
      "current transcript id  0\n",
      "sentence:  {'no_matching': [['You just reconfirm with your husband whether you already have an enhanced home insurance or', 'positive']], 'follow-up': [['not if already have then we can not cover for you oh ok I will call you back tomorrow thank you bye \\n', 'neutral']]}\n",
      "grading:  {'closing': False, 'data_enrichment': False, 'follow-up': True}\n",
      "\n",
      "\n",
      "current transcript id  1\n",
      "sentence:  {'no_matching': [['So maybe if your friends or relatives or family members are interested you', 'positive']], 'follow-up': [['can call back at this number lah this number you', 'neutral']], 'closing': [['can see from your phone lah thank you bye bye \\n', 'positive']]}\n",
      "grading:  {'closing': True, 'data_enrichment': False, 'follow-up': True}\n",
      "\n",
      "\n",
      "current transcript id  2\n",
      "sentence:  {'no_matching': [['Maybe in the future you interested in the annual travel you', 'positive']], 'closing': [['can get back to us again thank you bye \\n', 'positive']]}\n",
      "grading:  {'closing': True, 'data_enrichment': False, 'follow-up': False}\n",
      "\n",
      "\n",
      "current transcript id  3\n",
      "sentence:  {'no_matching': [[\"So the policy will be effective tokay lah you mean this policy I help you apply right now once I submit the application and then I sent you the policy number sure meaning it is approved but we will deduct the premium within three working days you will receive the policy documents via sms or email in three working days please ensure all information is correct let 's say if you have any issues or\", 'neutral'], ['will just help you with the application and', 'positive']], 'follow-up': [['questions you can call me again yah ok do you still have any questions for me I', 'neutral']], 'closing': [['send you the policy information shortly thank you so much bye bye . \\n', 'positive']]}\n",
      "grading:  {'closing': True, 'data_enrichment': False, 'follow-up': True}\n",
      "\n",
      "\n"
     ]
    }
   ],
   "source": [
    "ending_result_ls = []\n",
    "print(\"Ending result\")\n",
    "for i, result in enumerate(sentiment_ending):\n",
    "    result_dic = result_reformat(result, ending_lexicons)\n",
    "    score_dic = assign_score(result_dic, ending_lexicons)\n",
    "    temp_dic = {\"sentence_collection\": result_dic, \"score_collection\": score_dic}\n",
    "    print('current transcript id ', i)\n",
    "    print('sentence: ', temp_dic['sentence_collection'])\n",
    "    print('grading: ', temp_dic['score_collection'])\n",
    "    print(\"\\n\")\n",
    "    ending_result_ls.append(temp_dic)"
   ]
  },
  {
   "cell_type": "code",
   "execution_count": null,
   "id": "57aa12fb",
   "metadata": {},
   "outputs": [],
   "source": []
  }
 ],
 "metadata": {
  "kernelspec": {
   "display_name": "venv2022",
   "language": "python",
   "name": "venv2022"
  },
  "language_info": {
   "codemirror_mode": {
    "name": "ipython",
    "version": 3
   },
   "file_extension": ".py",
   "mimetype": "text/x-python",
   "name": "python",
   "nbconvert_exporter": "python",
   "pygments_lexer": "ipython3",
   "version": "3.7.13"
  }
 },
 "nbformat": 4,
 "nbformat_minor": 5
}
